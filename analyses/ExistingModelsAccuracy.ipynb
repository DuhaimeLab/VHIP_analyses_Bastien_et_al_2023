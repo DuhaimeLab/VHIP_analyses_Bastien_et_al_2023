{
 "cells": [
  {
   "cell_type": "markdown",
   "metadata": {
    "collapsed": false,
    "pycharm": {
     "name": "#%% md\n"
    }
   },
   "source": [
    "# Existing Model Accuracy\n",
    "\n",
    "In this document, I explore the accuracies of various models that predict virus-host interactions solely from DNA sequences.\n",
    "\n",
    "To date (07/07/2022), I ran VirHostMatcher-Net, vHULK, CHERRY and RaFAH. I will explore the outputs of each oef those tools one a time. In addition, the input data used can be divided into 3 datasets:\n",
    "1. NCBI phages, which is a mix between collected host range from literature and interactions extracted from GenBank files\n",
    "2. Nahant Collection, a complete host range set between phages and Vibrio species\n",
    "3. Staph Study, also a complete host range set between phages and Staph species from different environments.\n",
    "\n",
    "When calculating the accuracy of the aforementioned tools, due to their approach in making the predictions (that is, predicting taxa rather than interaction), there will be 3 possibilities:\n",
    "1. The prediction is correct (predicted host = known host)\n",
    "2. The prediction is false (predicted host = known non-infection)\n",
    "3. Cannot determine if the prediction is correct or incorrect (the pair was not tested in the lab)\n",
    "\n",
    "\n",
    "## Setup\n",
    "\n",
    "First, let's load modules."
   ]
  },
  {
   "cell_type": "code",
   "execution_count": 1,
   "metadata": {
    "collapsed": false,
    "pycharm": {
     "name": "#%%\n"
    }
   },
   "outputs": [
    {
     "name": "stdout",
     "output_type": "stream",
     "text": [
      "/Users/gbastien/Documents/Research/Projects/ExistingVHPModels/analysis\n"
     ]
    }
   ],
   "source": [
    "import os\n",
    "print(os.getcwd())\n",
    "\n",
    "import pandas as pd\n",
    "import seaborn as sns\n",
    "import matplotlib.pyplot as plt\n",
    "\n",
    "from Bio import SeqIO\n"
   ]
  },
  {
   "cell_type": "markdown",
   "metadata": {
    "collapsed": false,
    "pycharm": {
     "name": "#%% md\n"
    }
   },
   "source": [
    "### Metadata\n",
    "\n",
    "I also need to load some various metadata tables. For instance, depending on the tool, the naming system used to keep track of which virus infect which host may be different (using filenames versus accession number for example).\n",
    "\n",
    "Below I load metadata tables that I will be using throughout the document.\n"
   ]
  },
  {
   "cell_type": "code",
   "execution_count": 2,
   "metadata": {
    "collapsed": false,
    "pycharm": {
     "name": "#%%\n"
    }
   },
   "outputs": [
    {
     "data": {
      "text/html": [
       "<div>\n",
       "<style scoped>\n",
       "    .dataframe tbody tr th:only-of-type {\n",
       "        vertical-align: middle;\n",
       "    }\n",
       "\n",
       "    .dataframe tbody tr th {\n",
       "        vertical-align: top;\n",
       "    }\n",
       "\n",
       "    .dataframe thead th {\n",
       "        text-align: right;\n",
       "    }\n",
       "</style>\n",
       "<table border=\"1\" class=\"dataframe\">\n",
       "  <thead>\n",
       "    <tr style=\"text-align: right;\">\n",
       "      <th></th>\n",
       "      <th>Unnamed: 0</th>\n",
       "      <th>filename</th>\n",
       "      <th>accession</th>\n",
       "      <th>phagename</th>\n",
       "      <th>phageGCAid</th>\n",
       "    </tr>\n",
       "  </thead>\n",
       "  <tbody>\n",
       "    <tr>\n",
       "      <th>0</th>\n",
       "      <td>0</td>\n",
       "      <td>GCA_021090665.1_ASM2109066v1_genomic.fna</td>\n",
       "      <td>MZ417315.1</td>\n",
       "      <td>PG-2021_10</td>\n",
       "      <td>GCA_021090665</td>\n",
       "    </tr>\n",
       "    <tr>\n",
       "      <th>1</th>\n",
       "      <td>1</td>\n",
       "      <td>GCA_021090675.1_ASM2109067v1_genomic.fna</td>\n",
       "      <td>MZ417316.1</td>\n",
       "      <td>PG-2021_12</td>\n",
       "      <td>GCA_021090675</td>\n",
       "    </tr>\n",
       "    <tr>\n",
       "      <th>2</th>\n",
       "      <td>2</td>\n",
       "      <td>GCA_021090685.1_ASM2109068v1_genomic.fna</td>\n",
       "      <td>MZ417317.1</td>\n",
       "      <td>PG-2021_14</td>\n",
       "      <td>GCA_021090685</td>\n",
       "    </tr>\n",
       "    <tr>\n",
       "      <th>3</th>\n",
       "      <td>3</td>\n",
       "      <td>GCA_021090695.1_ASM2109069v1_genomic.fna</td>\n",
       "      <td>MZ417318.1</td>\n",
       "      <td>PG-2021_15</td>\n",
       "      <td>GCA_021090695</td>\n",
       "    </tr>\n",
       "    <tr>\n",
       "      <th>4</th>\n",
       "      <td>4</td>\n",
       "      <td>GCA_021090705.1_ASM2109070v1_genomic.fna</td>\n",
       "      <td>MZ417319.1</td>\n",
       "      <td>PG-2021_16</td>\n",
       "      <td>GCA_021090705</td>\n",
       "    </tr>\n",
       "    <tr>\n",
       "      <th>5</th>\n",
       "      <td>5</td>\n",
       "      <td>GCA_021090715.1_ASM2109071v1_genomic.fna</td>\n",
       "      <td>MZ417320.1</td>\n",
       "      <td>PG-2021_17</td>\n",
       "      <td>GCA_021090715</td>\n",
       "    </tr>\n",
       "    <tr>\n",
       "      <th>6</th>\n",
       "      <td>6</td>\n",
       "      <td>GCA_021090725.1_ASM2109072v1_genomic.fna</td>\n",
       "      <td>MZ417321.1</td>\n",
       "      <td>PG-2021_18</td>\n",
       "      <td>GCA_021090725</td>\n",
       "    </tr>\n",
       "    <tr>\n",
       "      <th>7</th>\n",
       "      <td>7</td>\n",
       "      <td>GCA_021090735.1_ASM2109073v1_genomic.fna</td>\n",
       "      <td>MZ417322.1</td>\n",
       "      <td>PG-2021_19</td>\n",
       "      <td>GCA_021090735</td>\n",
       "    </tr>\n",
       "    <tr>\n",
       "      <th>8</th>\n",
       "      <td>8</td>\n",
       "      <td>GCA_021090745.1_ASM2109074v1_genomic.fna</td>\n",
       "      <td>MZ417323.1</td>\n",
       "      <td>PG-2021_1</td>\n",
       "      <td>GCA_021090745</td>\n",
       "    </tr>\n",
       "    <tr>\n",
       "      <th>9</th>\n",
       "      <td>9</td>\n",
       "      <td>GCA_021090755.1_ASM2109075v1_genomic.fna</td>\n",
       "      <td>MZ417324.1</td>\n",
       "      <td>PG-2021_22</td>\n",
       "      <td>GCA_021090755</td>\n",
       "    </tr>\n",
       "    <tr>\n",
       "      <th>10</th>\n",
       "      <td>10</td>\n",
       "      <td>GCA_021090765.1_ASM2109076v1_genomic.fna</td>\n",
       "      <td>MZ417325.1</td>\n",
       "      <td>PG-2021_23</td>\n",
       "      <td>GCA_021090765</td>\n",
       "    </tr>\n",
       "    <tr>\n",
       "      <th>11</th>\n",
       "      <td>11</td>\n",
       "      <td>GCA_021090775.1_ASM2109077v1_genomic.fna</td>\n",
       "      <td>MZ417326.1</td>\n",
       "      <td>PG-2021_27</td>\n",
       "      <td>GCA_021090775</td>\n",
       "    </tr>\n",
       "    <tr>\n",
       "      <th>12</th>\n",
       "      <td>12</td>\n",
       "      <td>GCA_021090785.1_ASM2109078v1_genomic.fna</td>\n",
       "      <td>MZ417327.1</td>\n",
       "      <td>PG-2021_29</td>\n",
       "      <td>GCA_021090785</td>\n",
       "    </tr>\n",
       "    <tr>\n",
       "      <th>13</th>\n",
       "      <td>13</td>\n",
       "      <td>GCA_021090795.1_ASM2109079v1_genomic.fna</td>\n",
       "      <td>MZ417328.1</td>\n",
       "      <td>PG-2021_2</td>\n",
       "      <td>GCA_021090795</td>\n",
       "    </tr>\n",
       "    <tr>\n",
       "      <th>14</th>\n",
       "      <td>14</td>\n",
       "      <td>GCA_021090805.1_ASM2109080v1_genomic.fna</td>\n",
       "      <td>MZ417329.1</td>\n",
       "      <td>PG-2021_31</td>\n",
       "      <td>GCA_021090805</td>\n",
       "    </tr>\n",
       "    <tr>\n",
       "      <th>15</th>\n",
       "      <td>15</td>\n",
       "      <td>GCA_021090815.1_ASM2109081v1_genomic.fna</td>\n",
       "      <td>MZ417330.1</td>\n",
       "      <td>PG-2021_33</td>\n",
       "      <td>GCA_021090815</td>\n",
       "    </tr>\n",
       "    <tr>\n",
       "      <th>16</th>\n",
       "      <td>16</td>\n",
       "      <td>GCA_021090825.1_ASM2109082v1_genomic.fna</td>\n",
       "      <td>MZ417331.1</td>\n",
       "      <td>PG-2021_35</td>\n",
       "      <td>GCA_021090825</td>\n",
       "    </tr>\n",
       "    <tr>\n",
       "      <th>17</th>\n",
       "      <td>17</td>\n",
       "      <td>GCA_021090835.1_ASM2109083v1_genomic.fna</td>\n",
       "      <td>MZ417332.1</td>\n",
       "      <td>PG-2021_38</td>\n",
       "      <td>GCA_021090835</td>\n",
       "    </tr>\n",
       "    <tr>\n",
       "      <th>18</th>\n",
       "      <td>18</td>\n",
       "      <td>GCA_021090845.1_ASM2109084v1_genomic.fna</td>\n",
       "      <td>MZ417333.1</td>\n",
       "      <td>PG-2021_40</td>\n",
       "      <td>GCA_021090845</td>\n",
       "    </tr>\n",
       "    <tr>\n",
       "      <th>19</th>\n",
       "      <td>19</td>\n",
       "      <td>GCA_021090855.1_ASM2109085v1_genomic.fna</td>\n",
       "      <td>MZ417334.1</td>\n",
       "      <td>PG-2021_41</td>\n",
       "      <td>GCA_021090855</td>\n",
       "    </tr>\n",
       "    <tr>\n",
       "      <th>20</th>\n",
       "      <td>20</td>\n",
       "      <td>GCA_021090865.1_ASM2109086v1_genomic.fna</td>\n",
       "      <td>MZ417335.1</td>\n",
       "      <td>PG-2021_43</td>\n",
       "      <td>GCA_021090865</td>\n",
       "    </tr>\n",
       "    <tr>\n",
       "      <th>21</th>\n",
       "      <td>21</td>\n",
       "      <td>GCA_021090875.1_ASM2109087v1_genomic.fna</td>\n",
       "      <td>MZ417336.1</td>\n",
       "      <td>PG-2021_46</td>\n",
       "      <td>GCA_021090875</td>\n",
       "    </tr>\n",
       "    <tr>\n",
       "      <th>22</th>\n",
       "      <td>22</td>\n",
       "      <td>GCA_021090885.1_ASM2109088v1_genomic.fna</td>\n",
       "      <td>MZ417337.1</td>\n",
       "      <td>PG-2021_47</td>\n",
       "      <td>GCA_021090885</td>\n",
       "    </tr>\n",
       "    <tr>\n",
       "      <th>23</th>\n",
       "      <td>23</td>\n",
       "      <td>GCA_021090895.1_ASM2109089v1_genomic.fna</td>\n",
       "      <td>MZ417338.1</td>\n",
       "      <td>PG-2021_4</td>\n",
       "      <td>GCA_021090895</td>\n",
       "    </tr>\n",
       "    <tr>\n",
       "      <th>24</th>\n",
       "      <td>24</td>\n",
       "      <td>GCA_021090905.1_ASM2109090v1_genomic.fna</td>\n",
       "      <td>MZ417339.1</td>\n",
       "      <td>PG-2021_5</td>\n",
       "      <td>GCA_021090905</td>\n",
       "    </tr>\n",
       "    <tr>\n",
       "      <th>25</th>\n",
       "      <td>25</td>\n",
       "      <td>GCA_021090915.1_ASM2109091v1_genomic.fna</td>\n",
       "      <td>MZ417340.1</td>\n",
       "      <td>PG-2021_64</td>\n",
       "      <td>GCA_021090915</td>\n",
       "    </tr>\n",
       "    <tr>\n",
       "      <th>26</th>\n",
       "      <td>26</td>\n",
       "      <td>GCA_021090925.1_ASM2109092v1_genomic.fna</td>\n",
       "      <td>MZ417341.1</td>\n",
       "      <td>PG-2021_67</td>\n",
       "      <td>GCA_021090925</td>\n",
       "    </tr>\n",
       "    <tr>\n",
       "      <th>27</th>\n",
       "      <td>27</td>\n",
       "      <td>GCA_021090935.1_ASM2109093v1_genomic.fna</td>\n",
       "      <td>MZ417342.1</td>\n",
       "      <td>PG-2021_68</td>\n",
       "      <td>GCA_021090935</td>\n",
       "    </tr>\n",
       "    <tr>\n",
       "      <th>28</th>\n",
       "      <td>28</td>\n",
       "      <td>GCA_021090945.1_ASM2109094v1_genomic.fna</td>\n",
       "      <td>MZ417343.1</td>\n",
       "      <td>PG-2021_74</td>\n",
       "      <td>GCA_021090945</td>\n",
       "    </tr>\n",
       "    <tr>\n",
       "      <th>29</th>\n",
       "      <td>29</td>\n",
       "      <td>GCA_021090955.1_ASM2109095v1_genomic.fna</td>\n",
       "      <td>MZ417344.1</td>\n",
       "      <td>PG-2021_76</td>\n",
       "      <td>GCA_021090955</td>\n",
       "    </tr>\n",
       "    <tr>\n",
       "      <th>30</th>\n",
       "      <td>30</td>\n",
       "      <td>GCA_021090965.1_ASM2109096v1_genomic.fna</td>\n",
       "      <td>MZ417345.1</td>\n",
       "      <td>PG-2021_84</td>\n",
       "      <td>GCA_021090965</td>\n",
       "    </tr>\n",
       "    <tr>\n",
       "      <th>31</th>\n",
       "      <td>31</td>\n",
       "      <td>GCA_021090975.1_ASM2109097v1_genomic.fna</td>\n",
       "      <td>MZ417346.1</td>\n",
       "      <td>PG-2021_86</td>\n",
       "      <td>GCA_021090975</td>\n",
       "    </tr>\n",
       "    <tr>\n",
       "      <th>32</th>\n",
       "      <td>32</td>\n",
       "      <td>GCA_021090985.1_ASM2109098v1_genomic.fna</td>\n",
       "      <td>MZ417347.1</td>\n",
       "      <td>PG-2021_87</td>\n",
       "      <td>GCA_021090985</td>\n",
       "    </tr>\n",
       "    <tr>\n",
       "      <th>33</th>\n",
       "      <td>33</td>\n",
       "      <td>GCA_021090995.1_ASM2109099v1_genomic.fna</td>\n",
       "      <td>MZ417348.1</td>\n",
       "      <td>PG-2021_88</td>\n",
       "      <td>GCA_021090995</td>\n",
       "    </tr>\n",
       "    <tr>\n",
       "      <th>34</th>\n",
       "      <td>34</td>\n",
       "      <td>GCA_021091005.1_ASM2109100v1_genomic.fna</td>\n",
       "      <td>MZ417349.1</td>\n",
       "      <td>PG-2021_89</td>\n",
       "      <td>GCA_021091005</td>\n",
       "    </tr>\n",
       "    <tr>\n",
       "      <th>35</th>\n",
       "      <td>35</td>\n",
       "      <td>GCA_021091015.1_ASM2109101v1_genomic.fna</td>\n",
       "      <td>MZ417350.1</td>\n",
       "      <td>PG-2021_8</td>\n",
       "      <td>GCA_021091015</td>\n",
       "    </tr>\n",
       "    <tr>\n",
       "      <th>36</th>\n",
       "      <td>36</td>\n",
       "      <td>GCA_021091025.1_ASM2109102v1_genomic.fna</td>\n",
       "      <td>MZ417351.1</td>\n",
       "      <td>PG-2021_90</td>\n",
       "      <td>GCA_021091025</td>\n",
       "    </tr>\n",
       "    <tr>\n",
       "      <th>37</th>\n",
       "      <td>37</td>\n",
       "      <td>GCA_021091035.1_ASM2109103v1_genomic.fna</td>\n",
       "      <td>MZ417352.1</td>\n",
       "      <td>PG-2021_91</td>\n",
       "      <td>GCA_021091035</td>\n",
       "    </tr>\n",
       "    <tr>\n",
       "      <th>38</th>\n",
       "      <td>38</td>\n",
       "      <td>GCA_021091045.1_ASM2109104v1_genomic.fna</td>\n",
       "      <td>MZ417353.1</td>\n",
       "      <td>PG-2021_93</td>\n",
       "      <td>GCA_021091045</td>\n",
       "    </tr>\n",
       "    <tr>\n",
       "      <th>39</th>\n",
       "      <td>39</td>\n",
       "      <td>GCA_021091055.1_ASM2109105v1_genomic.fna</td>\n",
       "      <td>MZ417354.1</td>\n",
       "      <td>PG-2021_9</td>\n",
       "      <td>GCA_021091055</td>\n",
       "    </tr>\n",
       "  </tbody>\n",
       "</table>\n",
       "</div>"
      ],
      "text/plain": [
       "    Unnamed: 0                                  filename   accession  \\\n",
       "0            0  GCA_021090665.1_ASM2109066v1_genomic.fna  MZ417315.1   \n",
       "1            1  GCA_021090675.1_ASM2109067v1_genomic.fna  MZ417316.1   \n",
       "2            2  GCA_021090685.1_ASM2109068v1_genomic.fna  MZ417317.1   \n",
       "3            3  GCA_021090695.1_ASM2109069v1_genomic.fna  MZ417318.1   \n",
       "4            4  GCA_021090705.1_ASM2109070v1_genomic.fna  MZ417319.1   \n",
       "5            5  GCA_021090715.1_ASM2109071v1_genomic.fna  MZ417320.1   \n",
       "6            6  GCA_021090725.1_ASM2109072v1_genomic.fna  MZ417321.1   \n",
       "7            7  GCA_021090735.1_ASM2109073v1_genomic.fna  MZ417322.1   \n",
       "8            8  GCA_021090745.1_ASM2109074v1_genomic.fna  MZ417323.1   \n",
       "9            9  GCA_021090755.1_ASM2109075v1_genomic.fna  MZ417324.1   \n",
       "10          10  GCA_021090765.1_ASM2109076v1_genomic.fna  MZ417325.1   \n",
       "11          11  GCA_021090775.1_ASM2109077v1_genomic.fna  MZ417326.1   \n",
       "12          12  GCA_021090785.1_ASM2109078v1_genomic.fna  MZ417327.1   \n",
       "13          13  GCA_021090795.1_ASM2109079v1_genomic.fna  MZ417328.1   \n",
       "14          14  GCA_021090805.1_ASM2109080v1_genomic.fna  MZ417329.1   \n",
       "15          15  GCA_021090815.1_ASM2109081v1_genomic.fna  MZ417330.1   \n",
       "16          16  GCA_021090825.1_ASM2109082v1_genomic.fna  MZ417331.1   \n",
       "17          17  GCA_021090835.1_ASM2109083v1_genomic.fna  MZ417332.1   \n",
       "18          18  GCA_021090845.1_ASM2109084v1_genomic.fna  MZ417333.1   \n",
       "19          19  GCA_021090855.1_ASM2109085v1_genomic.fna  MZ417334.1   \n",
       "20          20  GCA_021090865.1_ASM2109086v1_genomic.fna  MZ417335.1   \n",
       "21          21  GCA_021090875.1_ASM2109087v1_genomic.fna  MZ417336.1   \n",
       "22          22  GCA_021090885.1_ASM2109088v1_genomic.fna  MZ417337.1   \n",
       "23          23  GCA_021090895.1_ASM2109089v1_genomic.fna  MZ417338.1   \n",
       "24          24  GCA_021090905.1_ASM2109090v1_genomic.fna  MZ417339.1   \n",
       "25          25  GCA_021090915.1_ASM2109091v1_genomic.fna  MZ417340.1   \n",
       "26          26  GCA_021090925.1_ASM2109092v1_genomic.fna  MZ417341.1   \n",
       "27          27  GCA_021090935.1_ASM2109093v1_genomic.fna  MZ417342.1   \n",
       "28          28  GCA_021090945.1_ASM2109094v1_genomic.fna  MZ417343.1   \n",
       "29          29  GCA_021090955.1_ASM2109095v1_genomic.fna  MZ417344.1   \n",
       "30          30  GCA_021090965.1_ASM2109096v1_genomic.fna  MZ417345.1   \n",
       "31          31  GCA_021090975.1_ASM2109097v1_genomic.fna  MZ417346.1   \n",
       "32          32  GCA_021090985.1_ASM2109098v1_genomic.fna  MZ417347.1   \n",
       "33          33  GCA_021090995.1_ASM2109099v1_genomic.fna  MZ417348.1   \n",
       "34          34  GCA_021091005.1_ASM2109100v1_genomic.fna  MZ417349.1   \n",
       "35          35  GCA_021091015.1_ASM2109101v1_genomic.fna  MZ417350.1   \n",
       "36          36  GCA_021091025.1_ASM2109102v1_genomic.fna  MZ417351.1   \n",
       "37          37  GCA_021091035.1_ASM2109103v1_genomic.fna  MZ417352.1   \n",
       "38          38  GCA_021091045.1_ASM2109104v1_genomic.fna  MZ417353.1   \n",
       "39          39  GCA_021091055.1_ASM2109105v1_genomic.fna  MZ417354.1   \n",
       "\n",
       "     phagename     phageGCAid  \n",
       "0   PG-2021_10  GCA_021090665  \n",
       "1   PG-2021_12  GCA_021090675  \n",
       "2   PG-2021_14  GCA_021090685  \n",
       "3   PG-2021_15  GCA_021090695  \n",
       "4   PG-2021_16  GCA_021090705  \n",
       "5   PG-2021_17  GCA_021090715  \n",
       "6   PG-2021_18  GCA_021090725  \n",
       "7   PG-2021_19  GCA_021090735  \n",
       "8    PG-2021_1  GCA_021090745  \n",
       "9   PG-2021_22  GCA_021090755  \n",
       "10  PG-2021_23  GCA_021090765  \n",
       "11  PG-2021_27  GCA_021090775  \n",
       "12  PG-2021_29  GCA_021090785  \n",
       "13   PG-2021_2  GCA_021090795  \n",
       "14  PG-2021_31  GCA_021090805  \n",
       "15  PG-2021_33  GCA_021090815  \n",
       "16  PG-2021_35  GCA_021090825  \n",
       "17  PG-2021_38  GCA_021090835  \n",
       "18  PG-2021_40  GCA_021090845  \n",
       "19  PG-2021_41  GCA_021090855  \n",
       "20  PG-2021_43  GCA_021090865  \n",
       "21  PG-2021_46  GCA_021090875  \n",
       "22  PG-2021_47  GCA_021090885  \n",
       "23   PG-2021_4  GCA_021090895  \n",
       "24   PG-2021_5  GCA_021090905  \n",
       "25  PG-2021_64  GCA_021090915  \n",
       "26  PG-2021_67  GCA_021090925  \n",
       "27  PG-2021_68  GCA_021090935  \n",
       "28  PG-2021_74  GCA_021090945  \n",
       "29  PG-2021_76  GCA_021090955  \n",
       "30  PG-2021_84  GCA_021090965  \n",
       "31  PG-2021_86  GCA_021090975  \n",
       "32  PG-2021_87  GCA_021090985  \n",
       "33  PG-2021_88  GCA_021090995  \n",
       "34  PG-2021_89  GCA_021091005  \n",
       "35   PG-2021_8  GCA_021091015  \n",
       "36  PG-2021_90  GCA_021091025  \n",
       "37  PG-2021_91  GCA_021091035  \n",
       "38  PG-2021_93  GCA_021091045  \n",
       "39   PG-2021_9  GCA_021091055  "
      ]
     },
     "execution_count": 2,
     "metadata": {},
     "output_type": "execute_result"
    }
   ],
   "source": [
    "StaphStudy_virusnames = pd.read_csv('../data/other/StaphStudy_virusnames.tsv', sep='\\t')\n",
    "\n",
    "# Add new column to contain the GCA filename of phage (only the GCA and numbers and nothing after it)\n",
    "filenames = StaphStudy_virusnames['filename'].tolist()\n",
    "GCAid = []\n",
    "for name in filenames:\n",
    "    GCAid.append(name.split('.')[0])\n",
    "StaphStudy_virusnames['phageGCAid'] = GCAid\n",
    "\n",
    "StaphStudy_virusnames"
   ]
  },
  {
   "cell_type": "code",
   "execution_count": 3,
   "metadata": {
    "collapsed": false,
    "pycharm": {
     "name": "#%%\n"
    }
   },
   "outputs": [
    {
     "data": {
      "text/html": [
       "<div>\n",
       "<style scoped>\n",
       "    .dataframe tbody tr th:only-of-type {\n",
       "        vertical-align: middle;\n",
       "    }\n",
       "\n",
       "    .dataframe tbody tr th {\n",
       "        vertical-align: top;\n",
       "    }\n",
       "\n",
       "    .dataframe thead th {\n",
       "        text-align: right;\n",
       "    }\n",
       "</style>\n",
       "<table border=\"1\" class=\"dataframe\">\n",
       "  <thead>\n",
       "    <tr style=\"text-align: right;\">\n",
       "      <th></th>\n",
       "      <th>MGid</th>\n",
       "      <th>GCAid</th>\n",
       "    </tr>\n",
       "  </thead>\n",
       "  <tbody>\n",
       "    <tr>\n",
       "      <th>0</th>\n",
       "      <td>MG592461.1</td>\n",
       "      <td>GCA_003927395</td>\n",
       "    </tr>\n",
       "    <tr>\n",
       "      <th>1</th>\n",
       "      <td>MG592607.1</td>\n",
       "      <td>GCA_003930195</td>\n",
       "    </tr>\n",
       "    <tr>\n",
       "      <th>2</th>\n",
       "      <td>MG592555.1</td>\n",
       "      <td>GCA_003929195</td>\n",
       "    </tr>\n",
       "    <tr>\n",
       "      <th>3</th>\n",
       "      <td>MG592500.1</td>\n",
       "      <td>GCA_003928155</td>\n",
       "    </tr>\n",
       "    <tr>\n",
       "      <th>4</th>\n",
       "      <td>MG592496.1</td>\n",
       "      <td>GCA_003928075</td>\n",
       "    </tr>\n",
       "    <tr>\n",
       "      <th>...</th>\n",
       "      <td>...</td>\n",
       "      <td>...</td>\n",
       "    </tr>\n",
       "    <tr>\n",
       "      <th>278</th>\n",
       "      <td>MG592542.1</td>\n",
       "      <td>GCA_003928955</td>\n",
       "    </tr>\n",
       "    <tr>\n",
       "      <th>279</th>\n",
       "      <td>MG592538.1</td>\n",
       "      <td>GCA_003928875</td>\n",
       "    </tr>\n",
       "    <tr>\n",
       "      <th>280</th>\n",
       "      <td>MG592597.1</td>\n",
       "      <td>GCA_003929995</td>\n",
       "    </tr>\n",
       "    <tr>\n",
       "      <th>281</th>\n",
       "      <td>MG592647.1</td>\n",
       "      <td>GCA_003930995</td>\n",
       "    </tr>\n",
       "    <tr>\n",
       "      <th>282</th>\n",
       "      <td>MG592445.1</td>\n",
       "      <td>GCA_003852955</td>\n",
       "    </tr>\n",
       "  </tbody>\n",
       "</table>\n",
       "<p>283 rows × 2 columns</p>\n",
       "</div>"
      ],
      "text/plain": [
       "           MGid          GCAid\n",
       "0    MG592461.1  GCA_003927395\n",
       "1    MG592607.1  GCA_003930195\n",
       "2    MG592555.1  GCA_003929195\n",
       "3    MG592500.1  GCA_003928155\n",
       "4    MG592496.1  GCA_003928075\n",
       "..          ...            ...\n",
       "278  MG592542.1  GCA_003928955\n",
       "279  MG592538.1  GCA_003928875\n",
       "280  MG592597.1  GCA_003929995\n",
       "281  MG592647.1  GCA_003930995\n",
       "282  MG592445.1  GCA_003852955\n",
       "\n",
       "[283 rows x 2 columns]"
      ]
     },
     "execution_count": 3,
     "metadata": {},
     "output_type": "execute_result"
    }
   ],
   "source": [
    "# list sequence files\n",
    "datadir = '../data/sequences/phages/NahantCollection/'\n",
    "files = os.listdir(datadir)\n",
    "\n",
    "MGid = []\n",
    "GCAid = []\n",
    "\n",
    "# iterate through each file and get record id\n",
    "for file in files:\n",
    "    if file.endswith('.fasta'):\n",
    "        GCAid.append(file.split('.')[0])\n",
    "        loc = datadir + file\n",
    "        for record in SeqIO.parse(loc, 'fasta'):\n",
    "            MGid.append(record.id)\n",
    "\n",
    "# make dataframe\n",
    "NahantCollection_virusnames = pd.DataFrame()\n",
    "NahantCollection_virusnames['MGid'] = MGid\n",
    "NahantCollection_virusnames['GCAid'] = GCAid\n",
    "\n",
    "NahantCollection_virusnames"
   ]
  },
  {
   "cell_type": "markdown",
   "metadata": {
    "collapsed": false,
    "pycharm": {
     "name": "#%% md\n"
    }
   },
   "source": [
    "### Taxonomy\n",
    "\n",
    "Lastly, I need to load the taxonomy file for bacteria and archaea, which will be needed to determine the accuracy of the tools at different taxa level."
   ]
  },
  {
   "cell_type": "code",
   "execution_count": 4,
   "metadata": {
    "collapsed": false,
    "pycharm": {
     "name": "#%%\n"
    }
   },
   "outputs": [
    {
     "data": {
      "text/html": [
       "<div>\n",
       "<style scoped>\n",
       "    .dataframe tbody tr th:only-of-type {\n",
       "        vertical-align: middle;\n",
       "    }\n",
       "\n",
       "    .dataframe tbody tr th {\n",
       "        vertical-align: top;\n",
       "    }\n",
       "\n",
       "    .dataframe thead th {\n",
       "        text-align: right;\n",
       "    }\n",
       "</style>\n",
       "<table border=\"1\" class=\"dataframe\">\n",
       "  <thead>\n",
       "    <tr style=\"text-align: right;\">\n",
       "      <th></th>\n",
       "      <th>Genus_species</th>\n",
       "      <th>Domain</th>\n",
       "      <th>Phylum</th>\n",
       "      <th>Class</th>\n",
       "      <th>Order</th>\n",
       "      <th>Family</th>\n",
       "      <th>Genus</th>\n",
       "    </tr>\n",
       "  </thead>\n",
       "  <tbody>\n",
       "    <tr>\n",
       "      <th>0</th>\n",
       "      <td>Acaryochloris_marina</td>\n",
       "      <td>Bacteria</td>\n",
       "      <td>Cyanobacteria</td>\n",
       "      <td>Cyanobacteria</td>\n",
       "      <td>Synechococcales</td>\n",
       "      <td>Acaryochloridaceae</td>\n",
       "      <td>Acaryochloris</td>\n",
       "    </tr>\n",
       "    <tr>\n",
       "      <th>1</th>\n",
       "      <td>Acetobacter_aceti</td>\n",
       "      <td>Bacteria</td>\n",
       "      <td>Proteobacteria</td>\n",
       "      <td>Alphaproteobacteria</td>\n",
       "      <td>Rhodospirrllales</td>\n",
       "      <td>Acetobacteraceae</td>\n",
       "      <td>Acetobacter</td>\n",
       "    </tr>\n",
       "    <tr>\n",
       "      <th>2</th>\n",
       "      <td>Acetobacter_ascendens</td>\n",
       "      <td>Bacteria</td>\n",
       "      <td>Proteobacteria</td>\n",
       "      <td>Alphaproteobacteria</td>\n",
       "      <td>Rhodospirrllales</td>\n",
       "      <td>Acetobacteraceae</td>\n",
       "      <td>Acetobacter</td>\n",
       "    </tr>\n",
       "    <tr>\n",
       "      <th>3</th>\n",
       "      <td>Acetobacter_orientalis</td>\n",
       "      <td>Bacteria</td>\n",
       "      <td>Proteobacteria</td>\n",
       "      <td>Alphaproteobacteria</td>\n",
       "      <td>Rhodospirrllales</td>\n",
       "      <td>Acetobacteraceae</td>\n",
       "      <td>Acetobacter</td>\n",
       "    </tr>\n",
       "    <tr>\n",
       "      <th>4</th>\n",
       "      <td>Acetobacter_oryzifermentans</td>\n",
       "      <td>Bacteria</td>\n",
       "      <td>Proteobacteria</td>\n",
       "      <td>Alphaproteobacteria</td>\n",
       "      <td>Rhodospirrllales</td>\n",
       "      <td>Acetobacteraceae</td>\n",
       "      <td>Acetobacter</td>\n",
       "    </tr>\n",
       "    <tr>\n",
       "      <th>...</th>\n",
       "      <td>...</td>\n",
       "      <td>...</td>\n",
       "      <td>...</td>\n",
       "      <td>...</td>\n",
       "      <td>...</td>\n",
       "      <td>...</td>\n",
       "      <td>...</td>\n",
       "    </tr>\n",
       "    <tr>\n",
       "      <th>3278</th>\n",
       "      <td>Salinivibrio_costicola</td>\n",
       "      <td>Bacteria</td>\n",
       "      <td>Proteobacteria</td>\n",
       "      <td>Gammaproteobacteria</td>\n",
       "      <td>Vibrionales</td>\n",
       "      <td>Vibrionaceae</td>\n",
       "      <td>Salinivibrio</td>\n",
       "    </tr>\n",
       "    <tr>\n",
       "      <th>3279</th>\n",
       "      <td>Enterovibrio_norvegicus</td>\n",
       "      <td>Bacteria</td>\n",
       "      <td>Proteobacteria</td>\n",
       "      <td>Gammaproteobacteria</td>\n",
       "      <td>Vibrionales</td>\n",
       "      <td>Vibrionaceae</td>\n",
       "      <td>Enterovibrio</td>\n",
       "    </tr>\n",
       "    <tr>\n",
       "      <th>3280</th>\n",
       "      <td>Phormidium_foveolarum</td>\n",
       "      <td>Bacteria</td>\n",
       "      <td>Cyanobacteria</td>\n",
       "      <td>Cyanobacteria</td>\n",
       "      <td>Pseudanabaenales</td>\n",
       "      <td>Leptolyingbyaceae</td>\n",
       "      <td>Phormidium</td>\n",
       "    </tr>\n",
       "    <tr>\n",
       "      <th>3281</th>\n",
       "      <td>Faecalibacterium_prausnitzii</td>\n",
       "      <td>Bacteria</td>\n",
       "      <td>Bacillota</td>\n",
       "      <td>Clostridia</td>\n",
       "      <td>Eubacteriales</td>\n",
       "      <td>Oscillosipiraceae</td>\n",
       "      <td>Faecalibacterium</td>\n",
       "    </tr>\n",
       "    <tr>\n",
       "      <th>3282</th>\n",
       "      <td>NaN</td>\n",
       "      <td>Bacteria</td>\n",
       "      <td>Proteobacteria</td>\n",
       "      <td>Alphaproteobacteria</td>\n",
       "      <td>Rhizobiales</td>\n",
       "      <td>Hyphomicrobiaceae</td>\n",
       "      <td>Candidatus Pelagibacter</td>\n",
       "    </tr>\n",
       "  </tbody>\n",
       "</table>\n",
       "<p>3283 rows × 7 columns</p>\n",
       "</div>"
      ],
      "text/plain": [
       "                     Genus_species    Domain          Phylum  \\\n",
       "0             Acaryochloris_marina  Bacteria   Cyanobacteria   \n",
       "1                Acetobacter_aceti  Bacteria  Proteobacteria   \n",
       "2            Acetobacter_ascendens  Bacteria  Proteobacteria   \n",
       "3           Acetobacter_orientalis  Bacteria  Proteobacteria   \n",
       "4      Acetobacter_oryzifermentans  Bacteria  Proteobacteria   \n",
       "...                            ...       ...             ...   \n",
       "3278        Salinivibrio_costicola  Bacteria  Proteobacteria   \n",
       "3279       Enterovibrio_norvegicus  Bacteria  Proteobacteria   \n",
       "3280         Phormidium_foveolarum  Bacteria   Cyanobacteria   \n",
       "3281  Faecalibacterium_prausnitzii  Bacteria       Bacillota   \n",
       "3282                           NaN  Bacteria  Proteobacteria   \n",
       "\n",
       "                    Class             Order              Family  \\\n",
       "0           Cyanobacteria   Synechococcales  Acaryochloridaceae   \n",
       "1     Alphaproteobacteria  Rhodospirrllales    Acetobacteraceae   \n",
       "2     Alphaproteobacteria  Rhodospirrllales    Acetobacteraceae   \n",
       "3     Alphaproteobacteria  Rhodospirrllales    Acetobacteraceae   \n",
       "4     Alphaproteobacteria  Rhodospirrllales    Acetobacteraceae   \n",
       "...                   ...               ...                 ...   \n",
       "3278  Gammaproteobacteria       Vibrionales        Vibrionaceae   \n",
       "3279  Gammaproteobacteria       Vibrionales        Vibrionaceae   \n",
       "3280        Cyanobacteria  Pseudanabaenales   Leptolyingbyaceae   \n",
       "3281           Clostridia     Eubacteriales   Oscillosipiraceae   \n",
       "3282  Alphaproteobacteria       Rhizobiales   Hyphomicrobiaceae   \n",
       "\n",
       "                        Genus  \n",
       "0               Acaryochloris  \n",
       "1                 Acetobacter  \n",
       "2                 Acetobacter  \n",
       "3                 Acetobacter  \n",
       "4                 Acetobacter  \n",
       "...                       ...  \n",
       "3278             Salinivibrio  \n",
       "3279             Enterovibrio  \n",
       "3280               Phormidium  \n",
       "3281         Faecalibacterium  \n",
       "3282  Candidatus Pelagibacter  \n",
       "\n",
       "[3283 rows x 7 columns]"
      ]
     },
     "execution_count": 4,
     "metadata": {},
     "output_type": "execute_result"
    }
   ],
   "source": [
    "taxa = pd.read_csv('../data/other/bacteria_archaea_taxonomy.csv')\n",
    "taxa"
   ]
  },
  {
   "cell_type": "markdown",
   "metadata": {
    "collapsed": false,
    "pycharm": {
     "name": "#%% md\n"
    }
   },
   "source": [
    "### Host Range Only\n",
    "\n",
    "I also need to extract only host range data. Currently, my NCBI data is a mix between host range data collected from literature, and host range extracted from virus GenBank files. The issue is that host range retrieved from virus GenBank files is the predominant data that was used to create the models that I am testing in this document. So the value of checking models' accuracies on data that was used to train the model is simply none.\n",
    "\n",
    "So in the following code chunk, I am extracting host range data that was solely collected from literature, rather than virus GenBank files!\n",
    "\n",
    "The best way to approach it to consider all viruses in the NCBI database. Then remove from the NCBI database any pair that are in the virus GenBank files.\n",
    "\n",
    "First, I am going to load all the host range data. This also include the Nahant Collection and the Staph Study.\n"
   ]
  },
  {
   "cell_type": "code",
   "execution_count": 5,
   "metadata": {
    "collapsed": false,
    "pycharm": {
     "name": "#%%\n"
    }
   },
   "outputs": [],
   "source": [
    "# all host range data\n",
    "allHR = pd.read_csv('../data/hostrange/allhostrange.csv')\n",
    "\n",
    "# add taxa levels information\n",
    "Genus = []\n",
    "Family = []\n",
    "Order = []\n",
    "Class = []\n",
    "Phylum = []\n",
    "Domain = []\n",
    "\n",
    "for _, rows in allHR.iterrows():\n",
    "    genus_species = rows['hostname']\n",
    "    genus = genus_species.replace('_', ' ').split(' ')[0]\n",
    "    Genus.append(genus)\n",
    "\n",
    "    subset = taxa[taxa['Genus'] == genus]\n",
    "\n",
    "    Family.append(subset['Family'].values[0])\n",
    "    Order.append(subset['Order'].values[0])\n",
    "    Class.append(subset['Class'].values[0])\n",
    "    Phylum.append(subset['Phylum'].values[0])\n",
    "    Domain.append(subset['Domain'].values[0])\n",
    "\n",
    "allHR['genus'] = Genus\n",
    "allHR['family'] = Family\n",
    "allHR['order'] = Order\n",
    "allHR['class'] = Class\n",
    "allHR['phylum'] = Phylum\n",
    "allHR['domain'] = Domain\n",
    "\n",
    "# subset allHR to retrieve NCBI host range, Nahant Collection, and Staph Study\n",
    "NCBIHR = allHR[allHR['data'] == 'NCBI_HR']\n",
    "NahantCollectionHR = allHR[allHR['data'] == 'NahantCollection']\n",
    "StaphStudyHR = allHR[allHR['data'] == 'StaphStudy']"
   ]
  },
  {
   "cell_type": "markdown",
   "metadata": {
    "collapsed": false,
    "pycharm": {
     "name": "#%% md\n"
    }
   },
   "source": [
    "So now I have the host range for each dataset. Now I am going to focus on formatting the NCBIHR so I only have host range from literature instead of GenBank files. In the past, I parsed the phage GenBank file so I am going to use that table. The resulting dataframe is named LiteratureHR."
   ]
  },
  {
   "cell_type": "code",
   "execution_count": 6,
   "metadata": {
    "collapsed": false,
    "pycharm": {
     "name": "#%%\n"
    }
   },
   "outputs": [],
   "source": [
    "# read parsed GB file\n",
    "parsed_phageGB = pd.read_csv('../data/GenBank/NCBIphages_parsedGB.csv')\n",
    "\n",
    "# initialize two lists\n",
    "phagelist = []\n",
    "hostlist = []\n",
    "\n",
    "# iterate through the parsed_phageGB\n",
    "for _, row in parsed_phageGB.iterrows():\n",
    "    # get phage info\n",
    "    phage = row['accession']\n",
    "    # get phage's host info\n",
    "    temp = row['host'].split(' ')\n",
    "    if len(temp) < 2:\n",
    "        continue\n",
    "    host = temp[0] + '_' + temp[1]\n",
    "    # store phage and host in respective list\n",
    "    phagelist.append(phage)\n",
    "    hostlist.append(host)\n",
    "\n",
    "# create dataframe\n",
    "toremove = {phagelist[i]: hostlist[i] for i in range(len(phagelist))}\n",
    "\n",
    "# copy NCBI hr, then remove undesired pairs -- the ones extracted from GenBank files\n",
    "LiteratureHR = NCBIHR.copy()\n",
    "todrop = []\n",
    "for index, row in LiteratureHR.iterrows():\n",
    "    # check if phage and pair exist in dictionary. if it does, add index that will need to be removed\n",
    "    phage = row['phagename']\n",
    "    host = row['hostname']\n",
    "    if phage in toremove:\n",
    "        if host in toremove[phage]:\n",
    "            todrop.append(index)\n",
    "\n",
    "LiteratureHR.drop(todrop, inplace=True)"
   ]
  },
  {
   "cell_type": "markdown",
   "metadata": {
    "collapsed": false,
    "pycharm": {
     "name": "#%% md\n"
    }
   },
   "source": [
    "Let's see the resulting size of each of the dataframes!"
   ]
  },
  {
   "cell_type": "code",
   "execution_count": 7,
   "metadata": {
    "collapsed": false,
    "pycharm": {
     "name": "#%%\n"
    }
   },
   "outputs": [
    {
     "name": "stdout",
     "output_type": "stream",
     "text": [
      "Number of rows in NCBIHR is 2588\n",
      "Number of rows in LiteratureHR is 552\n",
      "Number of rows in NahantCollectionHR is 5208\n",
      "Number of rows in StaphStudyHR is 1053\n"
     ]
    }
   ],
   "source": [
    "print(f'Number of rows in NCBIHR is {NCBIHR.shape[0]}')\n",
    "print(f'Number of rows in LiteratureHR is {LiteratureHR.shape[0]}')\n",
    "print(f'Number of rows in NahantCollectionHR is {NahantCollectionHR.shape[0]}')\n",
    "print(f'Number of rows in StaphStudyHR is {StaphStudyHR.shape[0]}')\n"
   ]
  },
  {
   "cell_type": "markdown",
   "metadata": {
    "collapsed": false,
    "pycharm": {
     "name": "#%% md\n"
    }
   },
   "source": [
    "## Functions\n",
    "\n",
    "All my functions to automate some coding will be here"
   ]
  },
  {
   "cell_type": "markdown",
   "metadata": {
    "collapsed": false,
    "pycharm": {
     "name": "#%% md\n"
    }
   },
   "source": [
    "## Assessing virus-host predictions tools\n",
    "\n",
    "Before I start to determine the accuracy of each tool, I am going to create an empty dataframe to store the results. I will use this dataframe to plot the results!"
   ]
  },
  {
   "cell_type": "code",
   "execution_count": 8,
   "metadata": {
    "collapsed": false,
    "pycharm": {
     "name": "#%%\n"
    }
   },
   "outputs": [],
   "source": [
    "# initialize dataframe\n",
    "results = pd.DataFrame(columns=['Tool', 'Dataset', 'Taxa_lvl', 'Correct', 'Wrong', 'Unknown'])\n"
   ]
  },
  {
   "cell_type": "markdown",
   "metadata": {
    "collapsed": false,
    "pycharm": {
     "name": "#%% md\n"
    }
   },
   "source": [
    "\n",
    "### VirHostMatcher-Net\n",
    "\n",
    "I am going to explore the accuracies of VirHostMatcher-Net. The output for VirHostMatcher-Net is a single file per prediction. So each phage will have their own individual prediction. The other interesting part of VirHostMatcher-Net is that it also return multiple potential hosts ranked from most likely to less likely. This will allow the following question: did VHM-net successfully predict the host after x amount of prediction? It's something to keep in mind for later, though for now I will just focus on the best prediction!\n",
    "\n",
    "\n",
    "#### Staph Study\n",
    "\n",
    "Let's start with the Staph Study, being the smallest dataset.\n",
    "\n",
    "When looking at one of the prediction file, the phage name is not included, but it is present in the filename.\n",
    "\n",
    "Below, I am formatting the resulting predictions!\n"
   ]
  },
  {
   "cell_type": "code",
   "execution_count": 9,
   "metadata": {
    "collapsed": false,
    "pycharm": {
     "name": "#%%\n"
    }
   },
   "outputs": [],
   "source": [
    "# make a list of files\n",
    "datadir = '../data/predictions/VirHostMatcher-Net/StaphStudy_predictions/predictions/'\n",
    "files = os.listdir(datadir)\n",
    "\n",
    "# initialize dataframe\n",
    "VHMnet_StaphStudy_preds = pd.DataFrame()\n",
    "\n",
    "# load and stitch the files together\n",
    "for file in files:\n",
    "    # location of file\n",
    "    loc = datadir + file\n",
    "    # read file, extract phage name, add new column, store file in VHMnet_StaphStudy_preds\n",
    "    df = pd.read_csv(loc)\n",
    "    phage = file.split('.')[0]\n",
    "    df['phagename'] = phage\n",
    "\n",
    "    if VHMnet_StaphStudy_preds.empty:\n",
    "        VHMnet_StaphStudy_preds = df\n",
    "    else:\n",
    "        VHMnet_StaphStudy_preds = pd.concat([VHMnet_StaphStudy_preds, df])\n",
    "\n",
    "# reformat the hostname column to fit the format that I have in the host range\n",
    "hostnames = VHMnet_StaphStudy_preds['hostSpecies'].tolist()\n",
    "newnames = []\n",
    "for name in hostnames:\n",
    "    temp = name.split(' ')\n",
    "    string = temp[0] + '_' + temp[1]\n",
    "    newnames.append(string)\n",
    "VHMnet_StaphStudy_preds['hostSpecies'] = newnames\n",
    "\n",
    "phagenames = VHMnet_StaphStudy_preds['phagename']\n",
    "phagePGid = []\n",
    "for name in phagenames:\n",
    "    PGid = StaphStudy_virusnames.loc[StaphStudy_virusnames['phageGCAid'] == name, 'phagename'].values[0]\n",
    "    phagePGid.append(PGid)\n",
    "VHMnet_StaphStudy_preds['phagePGid'] = phagePGid\n",
    "\n",
    "# retrieve best predictions\n",
    "VHMnet_StaphStudy_bestpreds = VHMnet_StaphStudy_preds.iloc[::10, :]"
   ]
  },
  {
   "cell_type": "markdown",
   "metadata": {
    "collapsed": false,
    "pycharm": {
     "name": "#%% md\n"
    }
   },
   "source": [
    "With the data stiched and formatted correctly, I can now calculate the accuracy of the tool at predicting hosts from the Staph Study host range, and I can also determine the accuracy at different taxa level!\n",
    "\n",
    "First, I will calculate the accuracy rate at the finest taxa resolution, which is at the species level."
   ]
  },
  {
   "cell_type": "code",
   "execution_count": 10,
   "metadata": {
    "collapsed": false,
    "pycharm": {
     "name": "#%%\n"
    }
   },
   "outputs": [
    {
     "name": "stdout",
     "output_type": "stream",
     "text": [
      "29\n",
      "9\n",
      "1\n"
     ]
    },
    {
     "name": "stderr",
     "output_type": "stream",
     "text": [
      "/var/folders/yy/x1x_rtqj13l_9jplp1l2hxgw0000gn/T/ipykernel_91984/394387278.py:35: FutureWarning: The frame.append method is deprecated and will be removed from pandas in a future version. Use pandas.concat instead.\n",
      "  results = results.append({'Tool' : 'VHMnet', 'Dataset' : 'StaphStudy', 'Taxa_lvl' : 'Species', 'Correct' : correct, 'Wrong': wrong, 'Unknown': unknown}, ignore_index=True)\n"
     ]
    }
   ],
   "source": [
    "# initialize integers\n",
    "correct = 0\n",
    "wrong = 0\n",
    "unknown = 0\n",
    "\n",
    "# iterate through the prediction and determine if the predictions were correct/incorrect/unknown\n",
    "for _, row in VHMnet_StaphStudy_bestpreds.iterrows():\n",
    "    # retrieve phage id and prediction\n",
    "    phage = row['phagePGid']\n",
    "    hostpred = row['hostSpecies']\n",
    "\n",
    "    # subset hostrange dataframe for current phage\n",
    "    subset = StaphStudyHR[StaphStudyHR['phagename'] == phage]\n",
    "\n",
    "    # check if I have host of phage of interest\n",
    "    if subset.empty:\n",
    "        continue\n",
    "    # determine if correct, wrong, or unknown pred\n",
    "    else:\n",
    "        known_hosts = subset['hostname'].tolist()\n",
    "        if hostpred not in known_hosts:\n",
    "            unknown += 1\n",
    "        else:\n",
    "            interaction = subset.loc[subset['hostname'] == hostpred, 'infection'].tolist()\n",
    "            if 'Inf' in interaction:\n",
    "                correct += 1\n",
    "            elif 'NoInf' in interaction:\n",
    "                wrong += 1\n",
    "\n",
    "print(correct)\n",
    "print(wrong)\n",
    "print(unknown)\n",
    "\n",
    "# store results in dataframe\n",
    "results = results.append({'Tool' : 'VHMnet', 'Dataset' : 'StaphStudy', 'Taxa_lvl' : 'Species', 'Correct' : correct, 'Wrong': wrong, 'Unknown': unknown}, ignore_index=True)"
   ]
  },
  {
   "cell_type": "markdown",
   "metadata": {
    "collapsed": false,
    "pycharm": {
     "name": "#%% md\n"
    }
   },
   "source": [
    "Let's try the predictions at the genus level."
   ]
  },
  {
   "cell_type": "code",
   "execution_count": 11,
   "metadata": {
    "collapsed": false,
    "pycharm": {
     "name": "#%%\n"
    }
   },
   "outputs": [
    {
     "name": "stdout",
     "output_type": "stream",
     "text": [
      "38\n",
      "0\n",
      "1\n"
     ]
    },
    {
     "name": "stderr",
     "output_type": "stream",
     "text": [
      "/var/folders/yy/x1x_rtqj13l_9jplp1l2hxgw0000gn/T/ipykernel_91984/667673099.py:30: FutureWarning: The frame.append method is deprecated and will be removed from pandas in a future version. Use pandas.concat instead.\n",
      "  results = results.append({'Tool' : 'VHMnet', 'Dataset' : 'StaphStudy', 'Taxa_lvl' : 'Genus', 'Correct' : correct, 'Wrong': wrong, 'Unknown': unknown}, ignore_index=True)\n",
      "/var/folders/yy/x1x_rtqj13l_9jplp1l2hxgw0000gn/T/ipykernel_91984/667673099.py:31: FutureWarning: The frame.append method is deprecated and will be removed from pandas in a future version. Use pandas.concat instead.\n",
      "  results = results.append({'Tool' : 'VHMnet', 'Dataset' : 'StaphStudy', 'Taxa_lvl' : 'Family', 'Correct' : correct, 'Wrong': wrong, 'Unknown': unknown}, ignore_index=True)\n",
      "/var/folders/yy/x1x_rtqj13l_9jplp1l2hxgw0000gn/T/ipykernel_91984/667673099.py:32: FutureWarning: The frame.append method is deprecated and will be removed from pandas in a future version. Use pandas.concat instead.\n",
      "  results = results.append({'Tool' : 'VHMnet', 'Dataset' : 'StaphStudy', 'Taxa_lvl' : 'Order', 'Correct' : correct, 'Wrong': wrong, 'Unknown': unknown}, ignore_index=True)\n",
      "/var/folders/yy/x1x_rtqj13l_9jplp1l2hxgw0000gn/T/ipykernel_91984/667673099.py:33: FutureWarning: The frame.append method is deprecated and will be removed from pandas in a future version. Use pandas.concat instead.\n",
      "  results = results.append({'Tool' : 'VHMnet', 'Dataset' : 'StaphStudy', 'Taxa_lvl' : 'Class', 'Correct' : 39, 'Wrong': 0, 'Unknown': 0}, ignore_index=True)\n",
      "/var/folders/yy/x1x_rtqj13l_9jplp1l2hxgw0000gn/T/ipykernel_91984/667673099.py:34: FutureWarning: The frame.append method is deprecated and will be removed from pandas in a future version. Use pandas.concat instead.\n",
      "  results = results.append({'Tool' : 'VHMnet', 'Dataset' : 'StaphStudy', 'Taxa_lvl' : 'Phylum', 'Correct' : 39, 'Wrong': 0, 'Unknown': 0}, ignore_index=True)\n"
     ]
    }
   ],
   "source": [
    "# initialize integers\n",
    "correct = 0\n",
    "wrong = 0\n",
    "unknown = 0\n",
    "\n",
    "# iterate through dataframe\n",
    "for _, row in VHMnet_StaphStudy_bestpreds.iterrows():\n",
    "    phage = row['phagePGid']\n",
    "    hostpred_genus = row['hostSpecies'].split('_')[0]\n",
    "    subset = StaphStudyHR[StaphStudyHR['phagename'] == phage]\n",
    "\n",
    "    if subset.empty:\n",
    "        continue\n",
    "    else:\n",
    "        known_hosts = subset['genus'].tolist()\n",
    "        if hostpred_genus not in known_hosts:\n",
    "            unknown += 1\n",
    "        else:\n",
    "            interactions = subset.loc[subset['genus'] == hostpred_genus, 'infection'].tolist()\n",
    "            if 'Inf' in interactions:\n",
    "                correct += 1\n",
    "            elif 'NoInf' in interactions:\n",
    "                wrong += 1\n",
    "\n",
    "print(correct)\n",
    "print(wrong)\n",
    "print(unknown)\n",
    "\n",
    "# store results in dataframe\n",
    "results = results.append({'Tool' : 'VHMnet', 'Dataset' : 'StaphStudy', 'Taxa_lvl' : 'Genus', 'Correct' : correct, 'Wrong': wrong, 'Unknown': unknown}, ignore_index=True)\n",
    "results = results.append({'Tool' : 'VHMnet', 'Dataset' : 'StaphStudy', 'Taxa_lvl' : 'Family', 'Correct' : correct, 'Wrong': wrong, 'Unknown': unknown}, ignore_index=True)\n",
    "results = results.append({'Tool' : 'VHMnet', 'Dataset' : 'StaphStudy', 'Taxa_lvl' : 'Order', 'Correct' : correct, 'Wrong': wrong, 'Unknown': unknown}, ignore_index=True)\n",
    "results = results.append({'Tool' : 'VHMnet', 'Dataset' : 'StaphStudy', 'Taxa_lvl' : 'Class', 'Correct' : 39, 'Wrong': 0, 'Unknown': 0}, ignore_index=True)\n",
    "results = results.append({'Tool' : 'VHMnet', 'Dataset' : 'StaphStudy', 'Taxa_lvl' : 'Phylum', 'Correct' : 39, 'Wrong': 0, 'Unknown': 0}, ignore_index=True)\n"
   ]
  },
  {
   "cell_type": "markdown",
   "metadata": {
    "collapsed": false,
    "pycharm": {
     "name": "#%% md\n"
    }
   },
   "source": [
    "Jumping from species level to genus level, the accuracy nearly becomes 100%. There is still 1 unknown at that level, which is Lactococcus (no lactococcus were tested in the Staph study). There is no reason to keep writing code to test more taxa level.\n",
    "\n",
    "#### Nahant Collection\n",
    "\n",
    "Let's do the Nahant Collection next!\n",
    "\n",
    "Sone phage predictions files had 11 predictions instead of 10 because of ties. So I used a different approach to retrieve the best predictions (see at the end of the code chunk)."
   ]
  },
  {
   "cell_type": "code",
   "execution_count": 12,
   "metadata": {
    "collapsed": false,
    "pycharm": {
     "name": "#%%\n"
    }
   },
   "outputs": [
    {
     "name": "stderr",
     "output_type": "stream",
     "text": [
      "/var/folders/yy/x1x_rtqj13l_9jplp1l2hxgw0000gn/T/ipykernel_91984/3785272904.py:42: SettingWithCopyWarning: \n",
      "A value is trying to be set on a copy of a slice from a DataFrame.\n",
      "Try using .loc[row_indexer,col_indexer] = value instead\n",
      "\n",
      "See the caveats in the documentation: https://pandas.pydata.org/pandas-docs/stable/user_guide/indexing.html#returning-a-view-versus-a-copy\n",
      "  NahantCollectionHR['hostname'] = updated\n"
     ]
    },
    {
     "data": {
      "text/html": [
       "<div>\n",
       "<style scoped>\n",
       "    .dataframe tbody tr th:only-of-type {\n",
       "        vertical-align: middle;\n",
       "    }\n",
       "\n",
       "    .dataframe tbody tr th {\n",
       "        vertical-align: top;\n",
       "    }\n",
       "\n",
       "    .dataframe thead th {\n",
       "        text-align: right;\n",
       "    }\n",
       "</style>\n",
       "<table border=\"1\" class=\"dataframe\">\n",
       "  <thead>\n",
       "    <tr style=\"text-align: right;\">\n",
       "      <th></th>\n",
       "      <th>hostNCBIName</th>\n",
       "      <th>hostSuperkingdom</th>\n",
       "      <th>hostPhylum</th>\n",
       "      <th>hostClass</th>\n",
       "      <th>hostOrder</th>\n",
       "      <th>hostFamily</th>\n",
       "      <th>hostGenus</th>\n",
       "      <th>hostSpecies</th>\n",
       "      <th>hostName</th>\n",
       "      <th>score</th>\n",
       "      <th>...</th>\n",
       "      <th>posSV_pct</th>\n",
       "      <th>negSV_pct</th>\n",
       "      <th>crispr_pct</th>\n",
       "      <th>acc_phylum</th>\n",
       "      <th>acc_class</th>\n",
       "      <th>acc_order</th>\n",
       "      <th>acc_family</th>\n",
       "      <th>acc_genus</th>\n",
       "      <th>phagename</th>\n",
       "      <th>phageMGid</th>\n",
       "    </tr>\n",
       "  </thead>\n",
       "  <tbody>\n",
       "    <tr>\n",
       "      <th>0</th>\n",
       "      <td>GCF_001469215.1</td>\n",
       "      <td>Bacteria</td>\n",
       "      <td>Proteobacteria</td>\n",
       "      <td>Gammaproteobacteria</td>\n",
       "      <td>Alteromonadales</td>\n",
       "      <td>Pseudoalteromonadaceae</td>\n",
       "      <td>Pseudoalteromonas</td>\n",
       "      <td>Pseudoalteromonas_sp.</td>\n",
       "      <td>Pseudoalteromonas sp. H105</td>\n",
       "      <td>0.9737</td>\n",
       "      <td>...</td>\n",
       "      <td>1.0000</td>\n",
       "      <td>0.9996</td>\n",
       "      <td>NaN</td>\n",
       "      <td>0.9725</td>\n",
       "      <td>0.9725</td>\n",
       "      <td>0.9471</td>\n",
       "      <td>0.9154</td>\n",
       "      <td>0.8541</td>\n",
       "      <td>GCA_003930595</td>\n",
       "      <td>MG592627.1</td>\n",
       "    </tr>\n",
       "    <tr>\n",
       "      <th>10</th>\n",
       "      <td>GCF_000017705.1</td>\n",
       "      <td>Bacteria</td>\n",
       "      <td>Proteobacteria</td>\n",
       "      <td>Gammaproteobacteria</td>\n",
       "      <td>Vibrionales</td>\n",
       "      <td>Vibrionaceae</td>\n",
       "      <td>Vibrio</td>\n",
       "      <td>Vibrio_campbellii</td>\n",
       "      <td>Vibrio campbellii ATCC BAA-1116</td>\n",
       "      <td>0.9021</td>\n",
       "      <td>...</td>\n",
       "      <td>0.9999</td>\n",
       "      <td>0.9998</td>\n",
       "      <td>NaN</td>\n",
       "      <td>0.9617</td>\n",
       "      <td>0.9617</td>\n",
       "      <td>0.9291</td>\n",
       "      <td>0.8889</td>\n",
       "      <td>0.8084</td>\n",
       "      <td>GCA_003926295</td>\n",
       "      <td>MG592399.1</td>\n",
       "    </tr>\n",
       "    <tr>\n",
       "      <th>20</th>\n",
       "      <td>GCF_001011015.1</td>\n",
       "      <td>Bacteria</td>\n",
       "      <td>Proteobacteria</td>\n",
       "      <td>Gammaproteobacteria</td>\n",
       "      <td>Vibrionales</td>\n",
       "      <td>Vibrionaceae</td>\n",
       "      <td>Vibrio</td>\n",
       "      <td>Vibrio_parahaemolyticus</td>\n",
       "      <td>Vibrio parahaemolyticus</td>\n",
       "      <td>0.9426</td>\n",
       "      <td>...</td>\n",
       "      <td>1.0000</td>\n",
       "      <td>0.9999</td>\n",
       "      <td>NaN</td>\n",
       "      <td>0.9722</td>\n",
       "      <td>0.9722</td>\n",
       "      <td>0.9404</td>\n",
       "      <td>0.9046</td>\n",
       "      <td>0.8310</td>\n",
       "      <td>GCA_003344165</td>\n",
       "      <td>MG592529.1</td>\n",
       "    </tr>\n",
       "    <tr>\n",
       "      <th>30</th>\n",
       "      <td>GCF_000354175.2</td>\n",
       "      <td>Bacteria</td>\n",
       "      <td>Proteobacteria</td>\n",
       "      <td>Gammaproteobacteria</td>\n",
       "      <td>Vibrionales</td>\n",
       "      <td>Vibrionaceae</td>\n",
       "      <td>Vibrio</td>\n",
       "      <td>Vibrio_alginolyticus</td>\n",
       "      <td>Vibrio alginolyticus NBRC 15630 = ATCC 17749</td>\n",
       "      <td>0.9593</td>\n",
       "      <td>...</td>\n",
       "      <td>1.0000</td>\n",
       "      <td>0.9996</td>\n",
       "      <td>NaN</td>\n",
       "      <td>0.9735</td>\n",
       "      <td>0.9735</td>\n",
       "      <td>0.9429</td>\n",
       "      <td>0.9082</td>\n",
       "      <td>0.8469</td>\n",
       "      <td>GCA_003926635</td>\n",
       "      <td>MG592416.1</td>\n",
       "    </tr>\n",
       "    <tr>\n",
       "      <th>40</th>\n",
       "      <td>GCF_001469215.1</td>\n",
       "      <td>Bacteria</td>\n",
       "      <td>Proteobacteria</td>\n",
       "      <td>Gammaproteobacteria</td>\n",
       "      <td>Alteromonadales</td>\n",
       "      <td>Pseudoalteromonadaceae</td>\n",
       "      <td>Pseudoalteromonas</td>\n",
       "      <td>Pseudoalteromonas_sp.</td>\n",
       "      <td>Pseudoalteromonas sp. H105</td>\n",
       "      <td>0.9768</td>\n",
       "      <td>...</td>\n",
       "      <td>1.0000</td>\n",
       "      <td>0.9997</td>\n",
       "      <td>NaN</td>\n",
       "      <td>0.9745</td>\n",
       "      <td>0.9745</td>\n",
       "      <td>0.9489</td>\n",
       "      <td>0.9170</td>\n",
       "      <td>0.8553</td>\n",
       "      <td>GCA_003929475</td>\n",
       "      <td>MG592570.1</td>\n",
       "    </tr>\n",
       "    <tr>\n",
       "      <th>...</th>\n",
       "      <td>...</td>\n",
       "      <td>...</td>\n",
       "      <td>...</td>\n",
       "      <td>...</td>\n",
       "      <td>...</td>\n",
       "      <td>...</td>\n",
       "      <td>...</td>\n",
       "      <td>...</td>\n",
       "      <td>...</td>\n",
       "      <td>...</td>\n",
       "      <td>...</td>\n",
       "      <td>...</td>\n",
       "      <td>...</td>\n",
       "      <td>...</td>\n",
       "      <td>...</td>\n",
       "      <td>...</td>\n",
       "      <td>...</td>\n",
       "      <td>...</td>\n",
       "      <td>...</td>\n",
       "      <td>...</td>\n",
       "      <td>...</td>\n",
       "    </tr>\n",
       "    <tr>\n",
       "      <th>2785</th>\n",
       "      <td>GCF_000354175.2</td>\n",
       "      <td>Bacteria</td>\n",
       "      <td>Proteobacteria</td>\n",
       "      <td>Gammaproteobacteria</td>\n",
       "      <td>Vibrionales</td>\n",
       "      <td>Vibrionaceae</td>\n",
       "      <td>Vibrio</td>\n",
       "      <td>Vibrio_alginolyticus</td>\n",
       "      <td>Vibrio alginolyticus NBRC 15630 = ATCC 17749</td>\n",
       "      <td>0.9809</td>\n",
       "      <td>...</td>\n",
       "      <td>1.0000</td>\n",
       "      <td>0.9999</td>\n",
       "      <td>NaN</td>\n",
       "      <td>0.9740</td>\n",
       "      <td>0.9740</td>\n",
       "      <td>0.9501</td>\n",
       "      <td>0.9176</td>\n",
       "      <td>0.8590</td>\n",
       "      <td>GCA_003927315</td>\n",
       "      <td>MG592456.1</td>\n",
       "    </tr>\n",
       "    <tr>\n",
       "      <th>2795</th>\n",
       "      <td>GCF_000017705.1</td>\n",
       "      <td>Bacteria</td>\n",
       "      <td>Proteobacteria</td>\n",
       "      <td>Gammaproteobacteria</td>\n",
       "      <td>Vibrionales</td>\n",
       "      <td>Vibrionaceae</td>\n",
       "      <td>Vibrio</td>\n",
       "      <td>Vibrio_campbellii</td>\n",
       "      <td>Vibrio campbellii ATCC BAA-1116</td>\n",
       "      <td>0.9939</td>\n",
       "      <td>...</td>\n",
       "      <td>0.9999</td>\n",
       "      <td>0.9998</td>\n",
       "      <td>NaN</td>\n",
       "      <td>0.9848</td>\n",
       "      <td>0.9848</td>\n",
       "      <td>0.9596</td>\n",
       "      <td>0.9343</td>\n",
       "      <td>0.8864</td>\n",
       "      <td>GCA_003930295</td>\n",
       "      <td>MG592612.1</td>\n",
       "    </tr>\n",
       "    <tr>\n",
       "      <th>2805</th>\n",
       "      <td>GCF_000354175.2</td>\n",
       "      <td>Bacteria</td>\n",
       "      <td>Proteobacteria</td>\n",
       "      <td>Gammaproteobacteria</td>\n",
       "      <td>Vibrionales</td>\n",
       "      <td>Vibrionaceae</td>\n",
       "      <td>Vibrio</td>\n",
       "      <td>Vibrio_alginolyticus</td>\n",
       "      <td>Vibrio alginolyticus NBRC 15630 = ATCC 17749</td>\n",
       "      <td>0.9972</td>\n",
       "      <td>...</td>\n",
       "      <td>1.0000</td>\n",
       "      <td>0.9996</td>\n",
       "      <td>NaN</td>\n",
       "      <td>0.9830</td>\n",
       "      <td>0.9830</td>\n",
       "      <td>0.9558</td>\n",
       "      <td>0.9320</td>\n",
       "      <td>0.9116</td>\n",
       "      <td>GCA_003926595</td>\n",
       "      <td>MG592414.1</td>\n",
       "    </tr>\n",
       "    <tr>\n",
       "      <th>2815</th>\n",
       "      <td>GCF_000354175.2</td>\n",
       "      <td>Bacteria</td>\n",
       "      <td>Proteobacteria</td>\n",
       "      <td>Gammaproteobacteria</td>\n",
       "      <td>Vibrionales</td>\n",
       "      <td>Vibrionaceae</td>\n",
       "      <td>Vibrio</td>\n",
       "      <td>Vibrio_alginolyticus</td>\n",
       "      <td>Vibrio alginolyticus NBRC 15630 = ATCC 17749</td>\n",
       "      <td>0.9960</td>\n",
       "      <td>...</td>\n",
       "      <td>1.0000</td>\n",
       "      <td>0.9997</td>\n",
       "      <td>NaN</td>\n",
       "      <td>0.9854</td>\n",
       "      <td>0.9854</td>\n",
       "      <td>0.9592</td>\n",
       "      <td>0.9388</td>\n",
       "      <td>0.8950</td>\n",
       "      <td>GCA_003929835</td>\n",
       "      <td>MG592589.1</td>\n",
       "    </tr>\n",
       "    <tr>\n",
       "      <th>2825</th>\n",
       "      <td>GCF_000169995.1</td>\n",
       "      <td>Bacteria</td>\n",
       "      <td>Proteobacteria</td>\n",
       "      <td>Gammaproteobacteria</td>\n",
       "      <td>Vibrionales</td>\n",
       "      <td>NAmissing</td>\n",
       "      <td>NAmissing</td>\n",
       "      <td>Vibrionales_bacterium</td>\n",
       "      <td>Vibrionales bacterium SWAT-3</td>\n",
       "      <td>0.9656</td>\n",
       "      <td>...</td>\n",
       "      <td>0.9994</td>\n",
       "      <td>0.9990</td>\n",
       "      <td>NaN</td>\n",
       "      <td>0.9731</td>\n",
       "      <td>0.9731</td>\n",
       "      <td>0.9441</td>\n",
       "      <td>0.9089</td>\n",
       "      <td>0.8468</td>\n",
       "      <td>GCA_003927855</td>\n",
       "      <td>MG592485.1</td>\n",
       "    </tr>\n",
       "  </tbody>\n",
       "</table>\n",
       "<p>283 rows × 25 columns</p>\n",
       "</div>"
      ],
      "text/plain": [
       "         hostNCBIName hostSuperkingdom      hostPhylum            hostClass  \\\n",
       "0     GCF_001469215.1         Bacteria  Proteobacteria  Gammaproteobacteria   \n",
       "10    GCF_000017705.1         Bacteria  Proteobacteria  Gammaproteobacteria   \n",
       "20    GCF_001011015.1         Bacteria  Proteobacteria  Gammaproteobacteria   \n",
       "30    GCF_000354175.2         Bacteria  Proteobacteria  Gammaproteobacteria   \n",
       "40    GCF_001469215.1         Bacteria  Proteobacteria  Gammaproteobacteria   \n",
       "...               ...              ...             ...                  ...   \n",
       "2785  GCF_000354175.2         Bacteria  Proteobacteria  Gammaproteobacteria   \n",
       "2795  GCF_000017705.1         Bacteria  Proteobacteria  Gammaproteobacteria   \n",
       "2805  GCF_000354175.2         Bacteria  Proteobacteria  Gammaproteobacteria   \n",
       "2815  GCF_000354175.2         Bacteria  Proteobacteria  Gammaproteobacteria   \n",
       "2825  GCF_000169995.1         Bacteria  Proteobacteria  Gammaproteobacteria   \n",
       "\n",
       "            hostOrder              hostFamily          hostGenus  \\\n",
       "0     Alteromonadales  Pseudoalteromonadaceae  Pseudoalteromonas   \n",
       "10        Vibrionales            Vibrionaceae             Vibrio   \n",
       "20        Vibrionales            Vibrionaceae             Vibrio   \n",
       "30        Vibrionales            Vibrionaceae             Vibrio   \n",
       "40    Alteromonadales  Pseudoalteromonadaceae  Pseudoalteromonas   \n",
       "...               ...                     ...                ...   \n",
       "2785      Vibrionales            Vibrionaceae             Vibrio   \n",
       "2795      Vibrionales            Vibrionaceae             Vibrio   \n",
       "2805      Vibrionales            Vibrionaceae             Vibrio   \n",
       "2815      Vibrionales            Vibrionaceae             Vibrio   \n",
       "2825      Vibrionales               NAmissing          NAmissing   \n",
       "\n",
       "                  hostSpecies                                      hostName  \\\n",
       "0       Pseudoalteromonas_sp.                    Pseudoalteromonas sp. H105   \n",
       "10          Vibrio_campbellii               Vibrio campbellii ATCC BAA-1116   \n",
       "20    Vibrio_parahaemolyticus                       Vibrio parahaemolyticus   \n",
       "30       Vibrio_alginolyticus  Vibrio alginolyticus NBRC 15630 = ATCC 17749   \n",
       "40      Pseudoalteromonas_sp.                    Pseudoalteromonas sp. H105   \n",
       "...                       ...                                           ...   \n",
       "2785     Vibrio_alginolyticus  Vibrio alginolyticus NBRC 15630 = ATCC 17749   \n",
       "2795        Vibrio_campbellii               Vibrio campbellii ATCC BAA-1116   \n",
       "2805     Vibrio_alginolyticus  Vibrio alginolyticus NBRC 15630 = ATCC 17749   \n",
       "2815     Vibrio_alginolyticus  Vibrio alginolyticus NBRC 15630 = ATCC 17749   \n",
       "2825    Vibrionales_bacterium                  Vibrionales bacterium SWAT-3   \n",
       "\n",
       "       score  ...  posSV_pct  negSV_pct  crispr_pct  acc_phylum  acc_class  \\\n",
       "0     0.9737  ...     1.0000     0.9996         NaN      0.9725     0.9725   \n",
       "10    0.9021  ...     0.9999     0.9998         NaN      0.9617     0.9617   \n",
       "20    0.9426  ...     1.0000     0.9999         NaN      0.9722     0.9722   \n",
       "30    0.9593  ...     1.0000     0.9996         NaN      0.9735     0.9735   \n",
       "40    0.9768  ...     1.0000     0.9997         NaN      0.9745     0.9745   \n",
       "...      ...  ...        ...        ...         ...         ...        ...   \n",
       "2785  0.9809  ...     1.0000     0.9999         NaN      0.9740     0.9740   \n",
       "2795  0.9939  ...     0.9999     0.9998         NaN      0.9848     0.9848   \n",
       "2805  0.9972  ...     1.0000     0.9996         NaN      0.9830     0.9830   \n",
       "2815  0.9960  ...     1.0000     0.9997         NaN      0.9854     0.9854   \n",
       "2825  0.9656  ...     0.9994     0.9990         NaN      0.9731     0.9731   \n",
       "\n",
       "      acc_order  acc_family  acc_genus      phagename   phageMGid  \n",
       "0        0.9471      0.9154     0.8541  GCA_003930595  MG592627.1  \n",
       "10       0.9291      0.8889     0.8084  GCA_003926295  MG592399.1  \n",
       "20       0.9404      0.9046     0.8310  GCA_003344165  MG592529.1  \n",
       "30       0.9429      0.9082     0.8469  GCA_003926635  MG592416.1  \n",
       "40       0.9489      0.9170     0.8553  GCA_003929475  MG592570.1  \n",
       "...         ...         ...        ...            ...         ...  \n",
       "2785     0.9501      0.9176     0.8590  GCA_003927315  MG592456.1  \n",
       "2795     0.9596      0.9343     0.8864  GCA_003930295  MG592612.1  \n",
       "2805     0.9558      0.9320     0.9116  GCA_003926595  MG592414.1  \n",
       "2815     0.9592      0.9388     0.8950  GCA_003929835  MG592589.1  \n",
       "2825     0.9441      0.9089     0.8468  GCA_003927855  MG592485.1  \n",
       "\n",
       "[283 rows x 25 columns]"
      ]
     },
     "execution_count": 12,
     "metadata": {},
     "output_type": "execute_result"
    }
   ],
   "source": [
    "# make a list of files\n",
    "datadir = '../data/predictions/VirHostMatcher-Net/NahantCollection_predictions/predictions/'\n",
    "files = os.listdir(datadir)\n",
    "\n",
    "# intialize dataframe\n",
    "VHMnet_NahantCollection_preds = pd.DataFrame()\n",
    "\n",
    "# load and stitch the files together\n",
    "for file in files:\n",
    "    loc = datadir + file\n",
    "    df = pd.read_csv(loc)\n",
    "    phage = file.split('.')[0]\n",
    "    df['phagename'] = phage\n",
    "\n",
    "    if VHMnet_NahantCollection_preds.empty:\n",
    "        VHMnet_NahantCollection_preds = df\n",
    "    else:\n",
    "        VHMnet_NahantCollection_preds = pd.concat([VHMnet_NahantCollection_preds, df], ignore_index=True)\n",
    "\n",
    "# reformat the hostname column to fit the format that I have in the host range\n",
    "hostnames = VHMnet_NahantCollection_preds['hostSpecies'].tolist()\n",
    "newnames = []\n",
    "for name in hostnames:\n",
    "    temp = name.split(' ')\n",
    "    string = temp[0] + '_' + temp[1]\n",
    "    newnames.append(string)\n",
    "VHMnet_NahantCollection_preds['hostSpecies'] = newnames\n",
    "\n",
    "phagenames = VHMnet_NahantCollection_preds['phagename']\n",
    "phageMGid = []\n",
    "for name in phagenames:\n",
    "    MGid = NahantCollection_virusnames.loc[NahantCollection_virusnames['GCAid'] == name, 'MGid'].values[0]\n",
    "    phageMGid.append(MGid)\n",
    "VHMnet_NahantCollection_preds['phageMGid'] = phageMGid\n",
    "\n",
    "# reformat host range dataframe to have the _ between species and genus\n",
    "genus_species = NahantCollectionHR['hostname'].tolist()\n",
    "updated = []\n",
    "for host in genus_species:\n",
    "    temp = host.split(' ')\n",
    "    updated.append(temp[0] + '_' + temp[1])\n",
    "NahantCollectionHR['hostname'] = updated\n",
    "\n",
    "# retrieve best predictions for each phage\n",
    "seen = []\n",
    "tokeep = []\n",
    "for index, row in VHMnet_NahantCollection_preds.iterrows():\n",
    "    phage = row['phageMGid']\n",
    "    if phage not in seen:\n",
    "        seen.append(phage)\n",
    "        tokeep.append(index)\n",
    "    else:\n",
    "        continue\n",
    "\n",
    "VHMnet_NahantCollection_bestpreds = VHMnet_NahantCollection_preds.iloc[tokeep]\n",
    "VHMnet_NahantCollection_bestpreds"
   ]
  },
  {
   "cell_type": "markdown",
   "metadata": {
    "collapsed": false,
    "pycharm": {
     "name": "#%% md\n"
    }
   },
   "source": [
    "Alright, time to determine the accuracy of VHM net on the Nahant Collection!"
   ]
  },
  {
   "cell_type": "code",
   "execution_count": 13,
   "metadata": {
    "collapsed": false,
    "pycharm": {
     "name": "#%%\n"
    }
   },
   "outputs": [
    {
     "name": "stdout",
     "output_type": "stream",
     "text": [
      "0\n",
      "139\n",
      "109\n",
      "248\n"
     ]
    },
    {
     "name": "stderr",
     "output_type": "stream",
     "text": [
      "/var/folders/yy/x1x_rtqj13l_9jplp1l2hxgw0000gn/T/ipykernel_91984/987085758.py:35: FutureWarning: The frame.append method is deprecated and will be removed from pandas in a future version. Use pandas.concat instead.\n",
      "  results = results.append({'Tool' : 'VHMnet', 'Dataset' : 'NahantCollection', 'Taxa_lvl' : 'Species', 'Correct' : correct, 'Wrong': wrong, 'Unknown': unknown}, ignore_index=True)\n"
     ]
    }
   ],
   "source": [
    "# intialize integers\n",
    "correct = 0\n",
    "wrong = 0\n",
    "unknown = 0\n",
    "\n",
    "# iterate through the prediction and determine if the predictions were correct/incorrect/unknown\n",
    "for _, row in VHMnet_NahantCollection_bestpreds.iterrows():\n",
    "    # retrieve phage id and prediction\n",
    "    phage = row['phageMGid']\n",
    "    hostpred = row['hostSpecies']\n",
    "\n",
    "    # subset hostrange dataframe for current phage\n",
    "    subset = NahantCollectionHR[NahantCollectionHR['phagename'] == phage]\n",
    "\n",
    "    # check if I have host range for the current phage\n",
    "    if subset.empty:\n",
    "        continue\n",
    "    # determine if correct, wrong, or unknown pred\n",
    "    else:\n",
    "        known_hosts = subset['hostname'].tolist()\n",
    "        if hostpred not in known_hosts:\n",
    "            unknown += 1\n",
    "        else:\n",
    "            interaction = subset.loc[subset['hostname'] == hostpred, 'infection'].tolist()\n",
    "            if 'Inf' in interaction:\n",
    "                correct += 1\n",
    "            elif 'NoInf' in interaction:\n",
    "                wrong += 1\n",
    "\n",
    "print(correct)\n",
    "print(wrong)\n",
    "print(unknown)\n",
    "print(correct + wrong + unknown)\n",
    "\n",
    "results = results.append({'Tool' : 'VHMnet', 'Dataset' : 'NahantCollection', 'Taxa_lvl' : 'Species', 'Correct' : correct, 'Wrong': wrong, 'Unknown': unknown}, ignore_index=True)\n"
   ]
  },
  {
   "cell_type": "code",
   "execution_count": 14,
   "metadata": {
    "collapsed": false,
    "pycharm": {
     "name": "#%%\n"
    }
   },
   "outputs": [
    {
     "name": "stdout",
     "output_type": "stream",
     "text": [
      "184\n",
      "10\n",
      "54\n",
      "248\n"
     ]
    },
    {
     "name": "stderr",
     "output_type": "stream",
     "text": [
      "/var/folders/yy/x1x_rtqj13l_9jplp1l2hxgw0000gn/T/ipykernel_91984/1781950459.py:30: FutureWarning: The frame.append method is deprecated and will be removed from pandas in a future version. Use pandas.concat instead.\n",
      "  results = results.append({'Tool' : 'VHMnet', 'Dataset' : 'NahantCollection', 'Taxa_lvl' : 'Genus', 'Correct' : correct, 'Wrong': wrong, 'Unknown': unknown}, ignore_index=True)\n"
     ]
    }
   ],
   "source": [
    "# initialize integers\n",
    "correct = 0\n",
    "wrong = 0\n",
    "unknown = 0\n",
    "\n",
    "# iterate through dataframe\n",
    "for _, row in VHMnet_NahantCollection_bestpreds.iterrows():\n",
    "    phage = row['phageMGid']\n",
    "    hostpred_genus = row['hostSpecies'].split('_')[0]\n",
    "    subset = NahantCollectionHR[NahantCollectionHR['phagename'] == phage]\n",
    "\n",
    "    if subset.empty:\n",
    "        continue\n",
    "    else:\n",
    "        known_hosts = subset['genus'].tolist()\n",
    "        if hostpred_genus not in known_hosts:\n",
    "            unknown += 1\n",
    "        else:\n",
    "            interactions = subset.loc[subset['genus'] == hostpred_genus, 'infection'].tolist()\n",
    "            if 'Inf' in interactions:\n",
    "                correct += 1\n",
    "            elif 'NoInf' in interactions:\n",
    "                wrong += 1\n",
    "\n",
    "print(correct)\n",
    "print(wrong)\n",
    "print(unknown)\n",
    "print(correct + wrong + unknown)\n",
    "\n",
    "results = results.append({'Tool' : 'VHMnet', 'Dataset' : 'NahantCollection', 'Taxa_lvl' : 'Genus', 'Correct' : correct, 'Wrong': wrong, 'Unknown': unknown}, ignore_index=True)\n"
   ]
  },
  {
   "cell_type": "code",
   "execution_count": 15,
   "metadata": {
    "collapsed": false,
    "pycharm": {
     "name": "#%%\n"
    }
   },
   "outputs": [
    {
     "name": "stdout",
     "output_type": "stream",
     "text": [
      "186\n",
      "8\n",
      "54\n",
      "248\n"
     ]
    },
    {
     "name": "stderr",
     "output_type": "stream",
     "text": [
      "/var/folders/yy/x1x_rtqj13l_9jplp1l2hxgw0000gn/T/ipykernel_91984/3780411202.py:30: FutureWarning: The frame.append method is deprecated and will be removed from pandas in a future version. Use pandas.concat instead.\n",
      "  results = results.append({'Tool' : 'VHMnet', 'Dataset' : 'NahantCollection', 'Taxa_lvl' : 'Family', 'Correct' : correct, 'Wrong': wrong, 'Unknown': unknown}, ignore_index=True)\n"
     ]
    }
   ],
   "source": [
    "# initialize integers\n",
    "correct = 0\n",
    "wrong = 0\n",
    "unknown = 0\n",
    "\n",
    "# iterate through dataframe\n",
    "for _, row in VHMnet_NahantCollection_bestpreds.iterrows():\n",
    "    phage = row['phageMGid']\n",
    "    hostpred_family = row['hostFamily']\n",
    "    subset = NahantCollectionHR[NahantCollectionHR['phagename'] == phage]\n",
    "\n",
    "    if subset.empty:\n",
    "        continue\n",
    "    else:\n",
    "        known_hosts = subset['family'].tolist()\n",
    "        if hostpred_family not in known_hosts:\n",
    "            unknown += 1\n",
    "        else:\n",
    "            interactions = subset.loc[subset['family'] == hostpred_family, 'infection'].tolist()\n",
    "            if 'Inf' in interactions:\n",
    "                correct += 1\n",
    "            elif 'NoInf' in interactions:\n",
    "                wrong += 1\n",
    "\n",
    "print(correct)\n",
    "print(wrong)\n",
    "print(unknown)\n",
    "print(correct + wrong + unknown)\n",
    "\n",
    "results = results.append({'Tool' : 'VHMnet', 'Dataset' : 'NahantCollection', 'Taxa_lvl' : 'Family', 'Correct' : correct, 'Wrong': wrong, 'Unknown': unknown}, ignore_index=True)\n"
   ]
  },
  {
   "cell_type": "code",
   "execution_count": 16,
   "metadata": {
    "collapsed": false,
    "pycharm": {
     "name": "#%%\n"
    }
   },
   "outputs": [
    {
     "name": "stdout",
     "output_type": "stream",
     "text": [
      "193\n",
      "31\n",
      "24\n",
      "248\n"
     ]
    },
    {
     "name": "stderr",
     "output_type": "stream",
     "text": [
      "/var/folders/yy/x1x_rtqj13l_9jplp1l2hxgw0000gn/T/ipykernel_91984/2857586431.py:30: FutureWarning: The frame.append method is deprecated and will be removed from pandas in a future version. Use pandas.concat instead.\n",
      "  results = results.append({'Tool' : 'VHMnet', 'Dataset' : 'NahantCollection', 'Taxa_lvl' : 'Order', 'Correct' : correct, 'Wrong': wrong, 'Unknown': unknown}, ignore_index=True)\n"
     ]
    }
   ],
   "source": [
    "# initialize integers\n",
    "correct = 0\n",
    "wrong = 0\n",
    "unknown = 0\n",
    "\n",
    "# iterate through dataframe\n",
    "for _, row in VHMnet_NahantCollection_bestpreds.iterrows():\n",
    "    phage = row['phageMGid']\n",
    "    hostpred_order = row['hostOrder']\n",
    "    subset = NahantCollectionHR[NahantCollectionHR['phagename'] == phage]\n",
    "\n",
    "    if subset.empty:\n",
    "        continue\n",
    "    else:\n",
    "        known_hosts = subset['order'].tolist()\n",
    "        if hostpred_order not in known_hosts:\n",
    "            unknown += 1\n",
    "        else:\n",
    "            interactions = subset.loc[subset['order'] == hostpred_order, 'infection'].tolist()\n",
    "            if 'Inf' in interactions:\n",
    "                correct += 1\n",
    "            elif 'NoInf' in interactions:\n",
    "                wrong += 1\n",
    "\n",
    "print(correct)\n",
    "print(wrong)\n",
    "print(unknown)\n",
    "print(correct + wrong + unknown)\n",
    "\n",
    "results = results.append({'Tool' : 'VHMnet', 'Dataset' : 'NahantCollection', 'Taxa_lvl' : 'Order', 'Correct' : correct, 'Wrong': wrong, 'Unknown': unknown}, ignore_index=True)\n"
   ]
  },
  {
   "cell_type": "code",
   "execution_count": 17,
   "metadata": {
    "collapsed": false,
    "pycharm": {
     "name": "#%%\n"
    }
   },
   "outputs": [
    {
     "name": "stdout",
     "output_type": "stream",
     "text": [
      "224"
     ]
    },
    {
     "name": "stderr",
     "output_type": "stream",
     "text": [
      "/var/folders/yy/x1x_rtqj13l_9jplp1l2hxgw0000gn/T/ipykernel_91984/782480625.py:30: FutureWarning: The frame.append method is deprecated and will be removed from pandas in a future version. Use pandas.concat instead.\n",
      "  results = results.append({'Tool' : 'VHMnet', 'Dataset' : 'NahantCollection', 'Taxa_lvl' : 'Class', 'Correct' : correct, 'Wrong': wrong, 'Unknown': unknown}, ignore_index=True)\n"
     ]
    },
    {
     "name": "stdout",
     "output_type": "stream",
     "text": [
      "\n",
      "9\n",
      "15\n",
      "248\n"
     ]
    }
   ],
   "source": [
    "# initialize integers\n",
    "correct = 0\n",
    "wrong = 0\n",
    "unknown = 0\n",
    "\n",
    "# iterate through dataframe\n",
    "for _, row in VHMnet_NahantCollection_bestpreds.iterrows():\n",
    "    phage = row['phageMGid']\n",
    "    hostpred_class = row['hostClass']\n",
    "    subset = NahantCollectionHR[NahantCollectionHR['phagename'] == phage]\n",
    "\n",
    "    if subset.empty:\n",
    "        continue\n",
    "    else:\n",
    "        known_hosts = subset['class'].tolist()\n",
    "        if hostpred_class not in known_hosts:\n",
    "            unknown += 1\n",
    "        else:\n",
    "            interactions = subset.loc[subset['class'] == hostpred_class, 'infection'].tolist()\n",
    "            if 'Inf' in interactions:\n",
    "                correct += 1\n",
    "            elif 'NoInf' in interactions:\n",
    "                wrong += 1\n",
    "\n",
    "print(correct)\n",
    "print(wrong)\n",
    "print(unknown)\n",
    "print(correct + wrong + unknown)\n",
    "\n",
    "results = results.append({'Tool' : 'VHMnet', 'Dataset' : 'NahantCollection', 'Taxa_lvl' : 'Class', 'Correct' : correct, 'Wrong': wrong, 'Unknown': unknown}, ignore_index=True)\n"
   ]
  },
  {
   "cell_type": "code",
   "execution_count": 18,
   "metadata": {
    "collapsed": false,
    "pycharm": {
     "name": "#%%\n"
    }
   },
   "outputs": [
    {
     "name": "stdout",
     "output_type": "stream",
     "text": [
      "226\n",
      "9\n",
      "13\n",
      "248\n"
     ]
    },
    {
     "name": "stderr",
     "output_type": "stream",
     "text": [
      "/var/folders/yy/x1x_rtqj13l_9jplp1l2hxgw0000gn/T/ipykernel_91984/1604593755.py:30: FutureWarning: The frame.append method is deprecated and will be removed from pandas in a future version. Use pandas.concat instead.\n",
      "  results = results.append({'Tool' : 'VHMnet', 'Dataset' : 'NahantCollection', 'Taxa_lvl' : 'Phylum', 'Correct' : correct, 'Wrong': wrong, 'Unknown': unknown}, ignore_index=True)\n"
     ]
    }
   ],
   "source": [
    "# initialize integers\n",
    "correct = 0\n",
    "wrong = 0\n",
    "unknown = 0\n",
    "\n",
    "# iterate through dataframe\n",
    "for _, row in VHMnet_NahantCollection_bestpreds.iterrows():\n",
    "    phage = row['phageMGid']\n",
    "    hostpred_phylum = row['hostPhylum']\n",
    "    subset = NahantCollectionHR[NahantCollectionHR['phagename'] == phage]\n",
    "\n",
    "    if subset.empty:\n",
    "        continue\n",
    "    else:\n",
    "        known_hosts = subset['phylum'].tolist()\n",
    "        if hostpred_phylum not in known_hosts:\n",
    "            unknown += 1\n",
    "        else:\n",
    "            interactions = subset.loc[subset['phylum'] == hostpred_phylum, 'infection'].tolist()\n",
    "            if 'Inf' in interactions:\n",
    "                correct += 1\n",
    "            elif 'NoInf' in interactions:\n",
    "                wrong += 1\n",
    "\n",
    "print(correct)\n",
    "print(wrong)\n",
    "print(unknown)\n",
    "print(correct + wrong + unknown)\n",
    "\n",
    "results = results.append({'Tool' : 'VHMnet', 'Dataset' : 'NahantCollection', 'Taxa_lvl' : 'Phylum', 'Correct' : correct, 'Wrong': wrong, 'Unknown': unknown}, ignore_index=True)\n"
   ]
  },
  {
   "cell_type": "markdown",
   "metadata": {
    "collapsed": false,
    "pycharm": {
     "name": "#%% md\n"
    }
   },
   "source": [
    "#### Literature NCBI\n",
    "\n",
    "At last I am doing the literature NCBI -- that is, host range collected from literature."
   ]
  },
  {
   "cell_type": "code",
   "execution_count": 19,
   "metadata": {
    "collapsed": false,
    "pycharm": {
     "name": "#%%\n"
    }
   },
   "outputs": [],
   "source": [
    "# make a list of files\n",
    "datadir = '../data/predictions/VirHostMatcher-Net/NCBIphages_predictions/predictions/'\n",
    "files = os.listdir(datadir)\n",
    "\n",
    "# intiialize dataframe\n",
    "VHMnet_NCBI_preds = pd.DataFrame()\n",
    "\n",
    "# load and stitch the files together\n",
    "for file in files:\n",
    "    loc = datadir + file\n",
    "    df = pd.read_csv(loc)\n",
    "    phage = file.split('.')[0]\n",
    "    df['phagename'] = phage\n",
    "\n",
    "    if VHMnet_NCBI_preds.empty:\n",
    "        VHMnet_NCBI_preds = df\n",
    "    else:\n",
    "        VHMnet_NCBI_preds = pd.concat([VHMnet_NCBI_preds, df], ignore_index=True)\n",
    "\n",
    "# reformat the hostname column to fit the format that I have in the host range\n",
    "hostnames = VHMnet_NCBI_preds['hostSpecies'].tolist()\n",
    "newnames = []\n",
    "for name in hostnames:\n",
    "    temp = name.split(' ')\n",
    "    string = temp[0] + '_' + temp[1]\n",
    "    newnames.append(string)\n",
    "VHMnet_NCBI_preds['hostSpecies'] = newnames\n",
    "\n",
    "# retrieve best predictions\n",
    "seen = []\n",
    "tokeep = []\n",
    "for index, row in VHMnet_NCBI_preds.iterrows():\n",
    "    phage = row['phagename']\n",
    "    if phage not in seen:\n",
    "        seen.append(phage)\n",
    "        tokeep.append(index)\n",
    "    else:\n",
    "        continue\n",
    "\n",
    "VHMnet_NCBI_bestpreds = VHMnet_NCBI_preds.iloc[tokeep]"
   ]
  },
  {
   "cell_type": "markdown",
   "metadata": {
    "collapsed": false,
    "pycharm": {
     "name": "#%% md\n"
    }
   },
   "source": [
    "Determine accuracy of the tool at the species level!\n"
   ]
  },
  {
   "cell_type": "code",
   "execution_count": 20,
   "metadata": {
    "collapsed": false,
    "pycharm": {
     "name": "#%%\n"
    }
   },
   "outputs": [
    {
     "name": "stdout",
     "output_type": "stream",
     "text": [
      "3\n",
      "7\n",
      "75\n",
      "85\n"
     ]
    }
   ],
   "source": [
    "# intialize integers\n",
    "correct = 0\n",
    "wrong = 0\n",
    "unknown = 0\n",
    "\n",
    "# iterate through the predictions and determine if the predictions were correct/incorrect/unknown\n",
    "for _, row in VHMnet_NCBI_bestpreds.iterrows():\n",
    "    # retrieve phage id and prediction\n",
    "    phage = row['phagename']\n",
    "    hostpred = row['hostSpecies']\n",
    "\n",
    "    # subset host range dataframe for current phage\n",
    "    if phage not in LiteratureHR['phagename'].tolist():\n",
    "        continue\n",
    "    else:\n",
    "        subset = LiteratureHR[LiteratureHR['phagename'] == phage]\n",
    "\n",
    "        if subset.empty:\n",
    "            continue\n",
    "        else:\n",
    "            known_hosts = subset['hostname'].tolist()\n",
    "            if hostpred not in known_hosts:\n",
    "                unknown += 1\n",
    "            else:\n",
    "                interaction = subset.loc[subset['hostname'] == hostpred, 'infection'].tolist()\n",
    "                if 'Inf' in interaction:\n",
    "                    correct += 1\n",
    "                elif 'NoInf' in interaction:\n",
    "                    wrong += 1\n",
    "\n",
    "print(correct)\n",
    "print(wrong)\n",
    "print(unknown)\n",
    "print(correct + wrong + unknown)"
   ]
  },
  {
   "cell_type": "code",
   "execution_count": 21,
   "metadata": {
    "collapsed": false,
    "pycharm": {
     "name": "#%%\n"
    }
   },
   "outputs": [
    {
     "name": "stdout",
     "output_type": "stream",
     "text": [
      "13\n",
      "29\n",
      "43\n",
      "85\n"
     ]
    }
   ],
   "source": [
    "# initialize integers\n",
    "correct = 0\n",
    "wrong = 0\n",
    "unknown = 0\n",
    "\n",
    "# iterate through dataframe\n",
    "for _, row in VHMnet_NCBI_bestpreds.iterrows():\n",
    "    phage = row['phagename']\n",
    "    hostpred_genus = row['hostGenus']\n",
    "\n",
    "    # subset host range dataframe for current phage\n",
    "    if phage not in LiteratureHR['phagename'].tolist():\n",
    "        continue\n",
    "    else:\n",
    "        subset = LiteratureHR[LiteratureHR['phagename'] == phage]\n",
    "\n",
    "        if subset.empty:\n",
    "            continue\n",
    "        else:\n",
    "            known_hosts = subset['genus'].tolist()\n",
    "            if hostpred_genus not in known_hosts:\n",
    "                unknown += 1\n",
    "            else:\n",
    "                interaction = subset.loc[subset['genus'] == hostpred_genus, 'infection'].tolist()\n",
    "                if 'Inf' in interaction:\n",
    "                    correct += 1\n",
    "                elif 'NoInf' in interaction:\n",
    "                    wrong += 1\n",
    "\n",
    "print(correct)\n",
    "print(wrong)\n",
    "print(unknown)\n",
    "print(correct + wrong + unknown)"
   ]
  },
  {
   "cell_type": "code",
   "execution_count": 22,
   "metadata": {
    "collapsed": false,
    "pycharm": {
     "name": "#%%\n"
    }
   },
   "outputs": [
    {
     "name": "stdout",
     "output_type": "stream",
     "text": [
      "18\n",
      "31\n",
      "36\n",
      "85\n"
     ]
    }
   ],
   "source": [
    "# initialize integers\n",
    "correct = 0\n",
    "wrong = 0\n",
    "unknown = 0\n",
    "\n",
    "# iterate through dataframe\n",
    "for _, row in VHMnet_NCBI_bestpreds.iterrows():\n",
    "    phage = row['phagename']\n",
    "    hostpred_family = row['hostFamily']\n",
    "\n",
    "    # subset host range dataframe for current phage\n",
    "    if phage not in LiteratureHR['phagename'].tolist():\n",
    "        continue\n",
    "    else:\n",
    "        subset = LiteratureHR[LiteratureHR['phagename'] == phage]\n",
    "\n",
    "        if subset.empty:\n",
    "            continue\n",
    "        else:\n",
    "            known_hosts = subset['family'].tolist()\n",
    "            if hostpred_family not in known_hosts:\n",
    "                unknown += 1\n",
    "            else:\n",
    "                interaction = subset.loc[subset['family'] == hostpred_family, 'infection'].tolist()\n",
    "                if 'Inf' in interaction:\n",
    "                    correct += 1\n",
    "                elif 'NoInf' in interaction:\n",
    "                    wrong += 1\n",
    "\n",
    "print(correct)\n",
    "print(wrong)\n",
    "print(unknown)\n",
    "print(correct + wrong + unknown)"
   ]
  },
  {
   "cell_type": "code",
   "execution_count": 23,
   "metadata": {
    "collapsed": false,
    "pycharm": {
     "name": "#%%\n"
    }
   },
   "outputs": [
    {
     "name": "stdout",
     "output_type": "stream",
     "text": [
      "23\n",
      "38\n",
      "24\n",
      "85\n"
     ]
    }
   ],
   "source": [
    "# initialize integers\n",
    "correct = 0\n",
    "wrong = 0\n",
    "unknown = 0\n",
    "\n",
    "# iterate through dataframe\n",
    "for _, row in VHMnet_NCBI_bestpreds.iterrows():\n",
    "    phage = row['phagename']\n",
    "    hostpred_order = row['hostOrder']\n",
    "\n",
    "    # subset host range dataframe for current phage\n",
    "    if phage not in LiteratureHR['phagename'].tolist():\n",
    "        continue\n",
    "    else:\n",
    "        subset = LiteratureHR[LiteratureHR['phagename'] == phage]\n",
    "\n",
    "        if subset.empty:\n",
    "            continue\n",
    "        else:\n",
    "            known_hosts = subset['order'].tolist()\n",
    "            if hostpred_order not in known_hosts:\n",
    "                unknown += 1\n",
    "            else:\n",
    "                interaction = subset.loc[subset['order'] == hostpred_order, 'infection'].tolist()\n",
    "                if 'Inf' in interaction:\n",
    "                    correct += 1\n",
    "                elif 'NoInf' in interaction:\n",
    "                    wrong += 1\n",
    "\n",
    "print(correct)\n",
    "print(wrong)\n",
    "print(unknown)\n",
    "print(correct + wrong + unknown)"
   ]
  },
  {
   "cell_type": "code",
   "execution_count": 24,
   "metadata": {
    "collapsed": false,
    "pycharm": {
     "name": "#%%\n"
    }
   },
   "outputs": [
    {
     "name": "stdout",
     "output_type": "stream",
     "text": [
      "28\n",
      "43\n",
      "14\n",
      "85\n"
     ]
    }
   ],
   "source": [
    "# initialize integers\n",
    "correct = 0\n",
    "wrong = 0\n",
    "unknown = 0\n",
    "\n",
    "# iterate through dataframe\n",
    "for _, row in VHMnet_NCBI_bestpreds.iterrows():\n",
    "    phage = row['phagename']\n",
    "    hostpred_class = row['hostClass']\n",
    "\n",
    "    # subset host range dataframe for current phage\n",
    "    if phage not in LiteratureHR['phagename'].tolist():\n",
    "        continue\n",
    "    else:\n",
    "        subset = LiteratureHR[LiteratureHR['phagename'] == phage]\n",
    "\n",
    "        if subset.empty:\n",
    "            continue\n",
    "        else:\n",
    "            known_hosts = subset['class'].tolist()\n",
    "            if hostpred_class not in known_hosts:\n",
    "                unknown += 1\n",
    "            else:\n",
    "                interaction = subset.loc[subset['class'] == hostpred_class, 'infection'].tolist()\n",
    "                if 'Inf' in interaction:\n",
    "                    correct += 1\n",
    "                elif 'NoInf' in interaction:\n",
    "                    wrong += 1\n",
    "\n",
    "print(correct)\n",
    "print(wrong)\n",
    "print(unknown)\n",
    "print(correct + wrong + unknown)"
   ]
  },
  {
   "cell_type": "code",
   "execution_count": 25,
   "metadata": {
    "collapsed": false,
    "pycharm": {
     "name": "#%%\n"
    }
   },
   "outputs": [
    {
     "name": "stdout",
     "output_type": "stream",
     "text": [
      "28\n",
      "45\n",
      "12\n",
      "85\n"
     ]
    }
   ],
   "source": [
    "# initialize integers\n",
    "correct = 0\n",
    "wrong = 0\n",
    "unknown = 0\n",
    "\n",
    "# iterate through dataframe\n",
    "for _, row in VHMnet_NCBI_bestpreds.iterrows():\n",
    "    phage = row['phagename']\n",
    "    hostpred_phylum = row['hostPhylum']\n",
    "\n",
    "    # subset host range dataframe for current phage\n",
    "    if phage not in LiteratureHR['phagename'].tolist():\n",
    "        continue\n",
    "    else:\n",
    "        subset = LiteratureHR[LiteratureHR['phagename'] == phage]\n",
    "\n",
    "        if subset.empty:\n",
    "            continue\n",
    "        else:\n",
    "            known_hosts = subset['phylum'].tolist()\n",
    "            if hostpred_phylum not in known_hosts:\n",
    "                unknown += 1\n",
    "            else:\n",
    "                interaction = subset.loc[subset['phylum'] == hostpred_phylum, 'infection'].tolist()\n",
    "                if 'Inf' in interaction:\n",
    "                    correct += 1\n",
    "                elif 'NoInf' in interaction:\n",
    "                    wrong += 1\n",
    "\n",
    "print(correct)\n",
    "print(wrong)\n",
    "print(unknown)\n",
    "print(correct + wrong + unknown)"
   ]
  },
  {
   "cell_type": "code",
   "execution_count": 26,
   "metadata": {
    "collapsed": false,
    "pycharm": {
     "name": "#%%\n"
    }
   },
   "outputs": [
    {
     "name": "stdout",
     "output_type": "stream",
     "text": [
      "35\n",
      "50\n",
      "0\n",
      "85\n"
     ]
    }
   ],
   "source": [
    "# initialize integers\n",
    "correct = 0\n",
    "wrong = 0\n",
    "unknown = 0\n",
    "\n",
    "# iterate through dataframe\n",
    "for _, row in VHMnet_NCBI_bestpreds.iterrows():\n",
    "    phage = row['phagename']\n",
    "    hostpred_domain = row['hostSuperkingdom']\n",
    "\n",
    "    # subset host range dataframe for current phage\n",
    "    if phage not in LiteratureHR['phagename'].tolist():\n",
    "        continue\n",
    "    else:\n",
    "        subset = LiteratureHR[LiteratureHR['phagename'] == phage]\n",
    "\n",
    "        if subset.empty:\n",
    "            continue\n",
    "        else:\n",
    "            known_hosts = subset['domain'].tolist()\n",
    "            if hostpred_domain not in known_hosts:\n",
    "                unknown += 1\n",
    "            else:\n",
    "                interaction = subset.loc[subset['domain'] == hostpred_domain, 'infection'].tolist()\n",
    "                if 'Inf' in interaction:\n",
    "                    correct += 1\n",
    "                elif 'NoInf' in interaction:\n",
    "                    wrong += 1\n",
    "\n",
    "print(correct)\n",
    "print(wrong)\n",
    "print(unknown)\n",
    "print(correct + wrong + unknown)"
   ]
  },
  {
   "cell_type": "markdown",
   "metadata": {
    "collapsed": false,
    "pycharm": {
     "name": "#%% md\n"
    }
   },
   "source": [
    "#### Summary and plots\n",
    "The bar plots were done in R. Check RStudio files in the same directory as this files for the plots."
   ]
  },
  {
   "cell_type": "code",
   "execution_count": 27,
   "metadata": {
    "collapsed": false,
    "pycharm": {
     "name": "#%%\n"
    }
   },
   "outputs": [],
   "source": [
    "# TODO: Bar plots of accuracies"
   ]
  },
  {
   "cell_type": "markdown",
   "metadata": {
    "collapsed": false,
    "pycharm": {
     "name": "#%% md\n"
    }
   },
   "source": [
    "### vHULK\n",
    "\n",
    "Now I will move on to vHULK. Same thing, I will start with the Staph Study. This tool returned a single file for all the predictions for all phages of interest. It returns two predictions, at the species level and at the genus level.\n",
    "\n",
    "\n",
    "#### Staph Study\n",
    "\n",
    "Let's read the first csv file which contains all the predictions for the Staph Study."
   ]
  },
  {
   "cell_type": "code",
   "execution_count": 28,
   "metadata": {
    "collapsed": false,
    "pycharm": {
     "name": "#%%\n"
    }
   },
   "outputs": [],
   "source": [
    "# load file\n",
    "vHULK_StaphStudy_preds = pd.read_csv('../data/predictions/vHULK/vHULK_StaphStudy_predictions.csv')\n",
    "\n",
    "# reformat the hostname column to fit the format that I have in the host range dataset\n",
    "phagenames = vHULK_StaphStudy_preds['BIN/genome'].tolist()\n",
    "newnames = []\n",
    "for name in phagenames:\n",
    "    GCAid = name + '.fna'\n",
    "    PGid = StaphStudy_virusnames.loc[StaphStudy_virusnames['filename'] == GCAid, 'phagename'].values[0]\n",
    "    newnames.append(PGid)\n",
    "vHULK_StaphStudy_preds['phagePGid'] = newnames"
   ]
  },
  {
   "cell_type": "markdown",
   "metadata": {
    "collapsed": false,
    "pycharm": {
     "name": "#%% md\n"
    }
   },
   "source": [
    "File is formatted and ready to go! Now let's calculate vHULK accuracy at the species level."
   ]
  },
  {
   "cell_type": "code",
   "execution_count": 29,
   "metadata": {
    "collapsed": false,
    "pycharm": {
     "name": "#%%\n"
    }
   },
   "outputs": [
    {
     "name": "stdout",
     "output_type": "stream",
     "text": [
      "29\n",
      "10\n",
      "0\n",
      "39\n"
     ]
    },
    {
     "name": "stderr",
     "output_type": "stream",
     "text": [
      "/var/folders/yy/x1x_rtqj13l_9jplp1l2hxgw0000gn/T/ipykernel_91984/888182815.py:36: FutureWarning: The frame.append method is deprecated and will be removed from pandas in a future version. Use pandas.concat instead.\n",
      "  results = results.append({'Tool' : 'vHULK', 'Dataset' : 'StaphStudy', 'Taxa_lvl' : 'Species', 'Correct' : correct, 'Wrong': wrong, 'Unknown': unknown}, ignore_index=True)\n"
     ]
    }
   ],
   "source": [
    "# initialize integers\n",
    "correct = 0\n",
    "wrong = 0\n",
    "unknown = 0\n",
    "\n",
    "# iterate through the prediction and determine accuracy\n",
    "for _, row in vHULK_StaphStudy_preds.iterrows():\n",
    "    # retrieve phage id and prediction\n",
    "    phage = row['phagePGid']\n",
    "    hostpred = row['final_prediction']\n",
    "\n",
    "    # subset hostrange dataframe for current phage\n",
    "    subset = StaphStudyHR[StaphStudyHR['phagename'] == phage]\n",
    "\n",
    "    # check if I have host of phage of interest\n",
    "    if subset.empty:\n",
    "        continue\n",
    "    # determine accuracy\n",
    "    else:\n",
    "        known_hosts = subset['hostname'].tolist()\n",
    "        if hostpred not in known_hosts:\n",
    "            unknown += 1\n",
    "        else:\n",
    "            interaction = subset.loc[subset['hostname'] == hostpred, 'infection'].tolist()\n",
    "            if 'Inf' in interaction:\n",
    "                correct += 1\n",
    "            elif 'NoInf' in interaction:\n",
    "                wrong += 1\n",
    "\n",
    "\n",
    "print(correct)\n",
    "print(wrong)\n",
    "print(unknown)\n",
    "print(correct + wrong + unknown)\n",
    "\n",
    "results = results.append({'Tool' : 'vHULK', 'Dataset' : 'StaphStudy', 'Taxa_lvl' : 'Species', 'Correct' : correct, 'Wrong': wrong, 'Unknown': unknown}, ignore_index=True)\n"
   ]
  },
  {
   "cell_type": "markdown",
   "metadata": {
    "collapsed": false,
    "pycharm": {
     "name": "#%% md\n"
    }
   },
   "source": [
    "Let's do at the genus level next!"
   ]
  },
  {
   "cell_type": "code",
   "execution_count": 30,
   "metadata": {
    "collapsed": false,
    "pycharm": {
     "name": "#%%\n"
    }
   },
   "outputs": [
    {
     "name": "stdout",
     "output_type": "stream",
     "text": [
      "39\n",
      "0\n",
      "0\n"
     ]
    },
    {
     "name": "stderr",
     "output_type": "stream",
     "text": [
      "/var/folders/yy/x1x_rtqj13l_9jplp1l2hxgw0000gn/T/ipykernel_91984/3920379083.py:35: FutureWarning: The frame.append method is deprecated and will be removed from pandas in a future version. Use pandas.concat instead.\n",
      "  results = results.append({'Tool' : 'vHULK', 'Dataset' : 'StaphStudy', 'Taxa_lvl' : 'Genus', 'Correct' : correct, 'Wrong': wrong, 'Unknown': unknown}, ignore_index=True)\n",
      "/var/folders/yy/x1x_rtqj13l_9jplp1l2hxgw0000gn/T/ipykernel_91984/3920379083.py:36: FutureWarning: The frame.append method is deprecated and will be removed from pandas in a future version. Use pandas.concat instead.\n",
      "  results = results.append({'Tool' : 'vHULK', 'Dataset' : 'StaphStudy', 'Taxa_lvl' : 'Family', 'Correct' : correct, 'Wrong': wrong, 'Unknown': unknown}, ignore_index=True)\n",
      "/var/folders/yy/x1x_rtqj13l_9jplp1l2hxgw0000gn/T/ipykernel_91984/3920379083.py:37: FutureWarning: The frame.append method is deprecated and will be removed from pandas in a future version. Use pandas.concat instead.\n",
      "  results = results.append({'Tool' : 'vHULK', 'Dataset' : 'StaphStudy', 'Taxa_lvl' : 'Order', 'Correct' : correct, 'Wrong': wrong, 'Unknown': unknown}, ignore_index=True)\n",
      "/var/folders/yy/x1x_rtqj13l_9jplp1l2hxgw0000gn/T/ipykernel_91984/3920379083.py:38: FutureWarning: The frame.append method is deprecated and will be removed from pandas in a future version. Use pandas.concat instead.\n",
      "  results = results.append({'Tool' : 'vHULK', 'Dataset' : 'StaphStudy', 'Taxa_lvl' : 'Class', 'Correct' : correct, 'Wrong': wrong, 'Unknown': unknown}, ignore_index=True)\n",
      "/var/folders/yy/x1x_rtqj13l_9jplp1l2hxgw0000gn/T/ipykernel_91984/3920379083.py:39: FutureWarning: The frame.append method is deprecated and will be removed from pandas in a future version. Use pandas.concat instead.\n",
      "  results = results.append({'Tool' : 'vHULK', 'Dataset' : 'StaphStudy', 'Taxa_lvl' : 'Phylum', 'Correct' : correct, 'Wrong': wrong, 'Unknown': unknown}, ignore_index=True)\n"
     ]
    }
   ],
   "source": [
    "# initialize integers\n",
    "correct = 0\n",
    "wrong = 0\n",
    "unknown = 0\n",
    "\n",
    "# iterate through the prediction and determine accuracy\n",
    "for _, row in vHULK_StaphStudy_preds.iterrows():\n",
    "    # retrieve phage id and prediction\n",
    "    phage = row['phagePGid']\n",
    "    hostpred_genus = row['final_prediction'].split('_')[0]\n",
    "\n",
    "    # subset hostrange dataframe for current phage\n",
    "    subset = StaphStudyHR[StaphStudyHR['phagename'] == phage]\n",
    "\n",
    "    # check if I have host of phage of interest\n",
    "    if subset.empty:\n",
    "        continue\n",
    "    # determine accuracy\n",
    "    else:\n",
    "        known_hosts = subset['genus'].tolist()\n",
    "        if hostpred_genus not in known_hosts:\n",
    "            unknown += 1\n",
    "        else:\n",
    "            interaction = subset.loc[subset['genus'] == hostpred_genus, 'infection'].tolist()\n",
    "            if 'Inf' in interaction:\n",
    "                correct += 1\n",
    "            elif 'NoInf' in interaction:\n",
    "                wrong += 1\n",
    "\n",
    "\n",
    "print(correct)\n",
    "print(wrong)\n",
    "print(unknown)\n",
    "\n",
    "results = results.append({'Tool' : 'vHULK', 'Dataset' : 'StaphStudy', 'Taxa_lvl' : 'Genus', 'Correct' : correct, 'Wrong': wrong, 'Unknown': unknown}, ignore_index=True)\n",
    "results = results.append({'Tool' : 'vHULK', 'Dataset' : 'StaphStudy', 'Taxa_lvl' : 'Family', 'Correct' : correct, 'Wrong': wrong, 'Unknown': unknown}, ignore_index=True)\n",
    "results = results.append({'Tool' : 'vHULK', 'Dataset' : 'StaphStudy', 'Taxa_lvl' : 'Order', 'Correct' : correct, 'Wrong': wrong, 'Unknown': unknown}, ignore_index=True)\n",
    "results = results.append({'Tool' : 'vHULK', 'Dataset' : 'StaphStudy', 'Taxa_lvl' : 'Class', 'Correct' : correct, 'Wrong': wrong, 'Unknown': unknown}, ignore_index=True)\n",
    "results = results.append({'Tool' : 'vHULK', 'Dataset' : 'StaphStudy', 'Taxa_lvl' : 'Phylum', 'Correct' : correct, 'Wrong': wrong, 'Unknown': unknown}, ignore_index=True)\n"
   ]
  },
  {
   "cell_type": "markdown",
   "metadata": {
    "collapsed": false,
    "pycharm": {
     "name": "#%% md\n"
    }
   },
   "source": [
    "'100% accuracy at the genus level!\n",
    "\n",
    "#### Nahant Collection\n",
    "\n",
    "Now let's move on to the Nahant collection.\n",
    "\n",
    "First thing, let's read the prediction file"
   ]
  },
  {
   "cell_type": "code",
   "execution_count": 31,
   "metadata": {
    "collapsed": false,
    "pycharm": {
     "name": "#%%\n"
    }
   },
   "outputs": [],
   "source": [
    "# load file\n",
    "vHULK_NahantCollection_preds = pd.read_csv('../data/predictions/vHULK/vHULK_NahantCollection_predictions.csv')\n",
    "\n",
    "# reformat the hostname column to fit the format that I have in the host range dataset\n",
    "phagenames = vHULK_NahantCollection_preds['BIN/genome'].tolist()\n",
    "newnames = []\n",
    "for name in phagenames:\n",
    "    GCAid = name.split('.')[0]\n",
    "    MGid = NahantCollection_virusnames.loc[NahantCollection_virusnames['GCAid'] == GCAid, 'MGid'].values[0]\n",
    "    newnames.append(MGid)\n",
    "vHULK_NahantCollection_preds['phageMGid'] = newnames"
   ]
  },
  {
   "cell_type": "markdown",
   "metadata": {
    "collapsed": false,
    "pycharm": {
     "name": "#%% md\n"
    }
   },
   "source": [
    "Prediction file is formatted and good to go! Interestingly, the column final_prediction contains many 'None' prediction. So I guess I will use the pred_species_softmax instead? Not sure how to score/assess the tool otherwise.\n",
    "\n",
    "\n",
    "\n",
    "Let's start with determining accuracy at the species level"
   ]
  },
  {
   "cell_type": "code",
   "execution_count": 32,
   "metadata": {
    "collapsed": false,
    "pycharm": {
     "name": "#%%\n"
    }
   },
   "outputs": [
    {
     "name": "stdout",
     "output_type": "stream",
     "text": [
      "0\n",
      "55\n",
      "193\n",
      "248\n"
     ]
    },
    {
     "name": "stderr",
     "output_type": "stream",
     "text": [
      "/var/folders/yy/x1x_rtqj13l_9jplp1l2hxgw0000gn/T/ipykernel_91984/2246082667.py:36: FutureWarning: The frame.append method is deprecated and will be removed from pandas in a future version. Use pandas.concat instead.\n",
      "  results = results.append({'Tool' : 'vHULK', 'Dataset' : 'NahantCollection', 'Taxa_lvl' : 'Species', 'Correct' : correct, 'Wrong': wrong, 'Unknown': unknown}, ignore_index=True)\n"
     ]
    }
   ],
   "source": [
    "# initialize integers\n",
    "correct = 0\n",
    "wrong = 0\n",
    "unknown = 0\n",
    "\n",
    "# iterate through the prediction and determine accuracy\n",
    "for _, row in vHULK_NahantCollection_preds.iterrows():\n",
    "    # retrieve phage id and prediction\n",
    "    phage = row['phageMGid']\n",
    "    hostpred = row['pred_species_softmax']\n",
    "\n",
    "    # subset hostrange dataframe for current phage\n",
    "    subset = NahantCollectionHR[NahantCollectionHR['phagename'] == phage]\n",
    "\n",
    "    # check if I have host of phage of interest\n",
    "    if subset.empty:\n",
    "        continue\n",
    "    # determine accuracy\n",
    "    else:\n",
    "        known_hosts = subset['hostname'].tolist()\n",
    "        if hostpred not in known_hosts:\n",
    "            unknown += 1\n",
    "        else:\n",
    "            interaction = subset.loc[subset['hostname'] == hostpred, 'infection'].tolist()\n",
    "            if 'Inf' in interaction:\n",
    "                correct += 1\n",
    "            elif 'NoInf' in interaction:\n",
    "                wrong += 1\n",
    "\n",
    "\n",
    "print(correct)\n",
    "print(wrong)\n",
    "print(unknown)\n",
    "print(correct + wrong + unknown)\n",
    "\n",
    "results = results.append({'Tool' : 'vHULK', 'Dataset' : 'NahantCollection', 'Taxa_lvl' : 'Species', 'Correct' : correct, 'Wrong': wrong, 'Unknown': unknown}, ignore_index=True)\n"
   ]
  },
  {
   "cell_type": "markdown",
   "metadata": {
    "collapsed": false,
    "pycharm": {
     "name": "#%% md\n"
    }
   },
   "source": [
    "Genus level"
   ]
  },
  {
   "cell_type": "code",
   "execution_count": 33,
   "metadata": {
    "collapsed": false,
    "pycharm": {
     "name": "#%%\n"
    }
   },
   "outputs": [
    {
     "name": "stdout",
     "output_type": "stream",
     "text": [
      "57\n",
      "11\n",
      "180\n",
      "248\n"
     ]
    },
    {
     "name": "stderr",
     "output_type": "stream",
     "text": [
      "/var/folders/yy/x1x_rtqj13l_9jplp1l2hxgw0000gn/T/ipykernel_91984/1968442726.py:36: FutureWarning: The frame.append method is deprecated and will be removed from pandas in a future version. Use pandas.concat instead.\n",
      "  results = results.append({'Tool' : 'vHULK', 'Dataset' : 'NahantCollection', 'Taxa_lvl' : 'Genus', 'Correct' : correct, 'Wrong': wrong, 'Unknown': unknown}, ignore_index=True)\n"
     ]
    }
   ],
   "source": [
    "# initialize integers\n",
    "correct = 0\n",
    "wrong = 0\n",
    "unknown = 0\n",
    "\n",
    "# iterate through the prediction and determine accuracy\n",
    "for _, row in vHULK_NahantCollection_preds.iterrows():\n",
    "    # retrieve phage id and prediction\n",
    "    phage = row['phageMGid']\n",
    "    hostpred_genus = row['pred_species_softmax'].split('_')[0]\n",
    "\n",
    "    # subset hostrange dataframe for current phage\n",
    "    subset = NahantCollectionHR[NahantCollectionHR['phagename'] == phage]\n",
    "\n",
    "    # check if I have host of phage of interest\n",
    "    if subset.empty:\n",
    "        continue\n",
    "    # determine accuracy\n",
    "    else:\n",
    "        known_hosts = subset['genus'].tolist()\n",
    "        if hostpred_genus not in known_hosts:\n",
    "            unknown += 1\n",
    "        else:\n",
    "            interaction = subset.loc[subset['genus'] == hostpred_genus, 'infection'].tolist()\n",
    "            if 'Inf' in interaction:\n",
    "                correct += 1\n",
    "            elif 'NoInf' in interaction:\n",
    "                wrong += 1\n",
    "\n",
    "\n",
    "print(correct)\n",
    "print(wrong)\n",
    "print(unknown)\n",
    "print(correct + wrong + unknown)\n",
    "\n",
    "results = results.append({'Tool' : 'vHULK', 'Dataset' : 'NahantCollection', 'Taxa_lvl' : 'Genus', 'Correct' : correct, 'Wrong': wrong, 'Unknown': unknown}, ignore_index=True)\n"
   ]
  },
  {
   "cell_type": "markdown",
   "metadata": {
    "collapsed": false,
    "pycharm": {
     "name": "#%% md\n"
    }
   },
   "source": [
    "Family level"
   ]
  },
  {
   "cell_type": "code",
   "execution_count": 34,
   "metadata": {
    "collapsed": false,
    "pycharm": {
     "name": "#%%\n"
    }
   },
   "outputs": [
    {
     "name": "stdout",
     "output_type": "stream",
     "text": [
      "61\n",
      "7\n",
      "180\n",
      "248\n"
     ]
    },
    {
     "name": "stderr",
     "output_type": "stream",
     "text": [
      "/var/folders/yy/x1x_rtqj13l_9jplp1l2hxgw0000gn/T/ipykernel_91984/1032444566.py:37: FutureWarning: The frame.append method is deprecated and will be removed from pandas in a future version. Use pandas.concat instead.\n",
      "  results = results.append({'Tool' : 'vHULK', 'Dataset' : 'NahantCollection', 'Taxa_lvl' : 'Family', 'Correct' : correct, 'Wrong': wrong, 'Unknown': unknown}, ignore_index=True)\n"
     ]
    }
   ],
   "source": [
    "# initialize integers\n",
    "correct = 0\n",
    "wrong = 0\n",
    "unknown = 0\n",
    "\n",
    "# iterate through the prediction and determine accuracy\n",
    "for _, row in vHULK_NahantCollection_preds.iterrows():\n",
    "    # retrieve phage id and prediction\n",
    "    phage = row['phageMGid']\n",
    "    hostgenus = row['pred_species_softmax'].split('_')[0]\n",
    "    hostpred_family = taxa.loc[taxa['Genus'] == hostgenus, 'Family'].values[0]\n",
    "\n",
    "    # subset hostrange dataframe for current phage\n",
    "    subset = NahantCollectionHR[NahantCollectionHR['phagename'] == phage]\n",
    "\n",
    "    # check if I have host of phage of interest\n",
    "    if subset.empty:\n",
    "        continue\n",
    "    # determine accuracy\n",
    "    else:\n",
    "        known_hosts = subset['family'].tolist()\n",
    "        if hostpred_family not in known_hosts:\n",
    "            unknown += 1\n",
    "        else:\n",
    "            interaction = subset.loc[subset['family'] == hostpred_family, 'infection'].tolist()\n",
    "            if 'Inf' in interaction:\n",
    "                correct += 1\n",
    "            elif 'NoInf' in interaction:\n",
    "                wrong += 1\n",
    "\n",
    "\n",
    "print(correct)\n",
    "print(wrong)\n",
    "print(unknown)\n",
    "print(correct + wrong + unknown)\n",
    "\n",
    "results = results.append({'Tool' : 'vHULK', 'Dataset' : 'NahantCollection', 'Taxa_lvl' : 'Family', 'Correct' : correct, 'Wrong': wrong, 'Unknown': unknown}, ignore_index=True)\n"
   ]
  },
  {
   "cell_type": "markdown",
   "metadata": {
    "collapsed": false,
    "pycharm": {
     "name": "#%% md\n"
    }
   },
   "source": [
    "Order level"
   ]
  },
  {
   "cell_type": "code",
   "execution_count": 35,
   "metadata": {
    "collapsed": false,
    "pycharm": {
     "name": "#%%\n"
    }
   },
   "outputs": [
    {
     "name": "stdout",
     "output_type": "stream",
     "text": [
      "61\n",
      "7\n",
      "180\n",
      "248\n"
     ]
    },
    {
     "name": "stderr",
     "output_type": "stream",
     "text": [
      "/var/folders/yy/x1x_rtqj13l_9jplp1l2hxgw0000gn/T/ipykernel_91984/266898483.py:37: FutureWarning: The frame.append method is deprecated and will be removed from pandas in a future version. Use pandas.concat instead.\n",
      "  results = results.append({'Tool' : 'vHULK', 'Dataset' : 'NahantCollection', 'Taxa_lvl' : 'Order', 'Correct' : correct, 'Wrong': wrong, 'Unknown': unknown}, ignore_index=True)\n"
     ]
    }
   ],
   "source": [
    "# initialize integers\n",
    "correct = 0\n",
    "wrong = 0\n",
    "unknown = 0\n",
    "\n",
    "# iterate through the prediction and determine accuracy\n",
    "for _, row in vHULK_NahantCollection_preds.iterrows():\n",
    "    # retrieve phage id and prediction\n",
    "    phage = row['phageMGid']\n",
    "    hostgenus = row['pred_species_softmax'].split('_')[0]\n",
    "    hostpred_order = taxa.loc[taxa['Genus'] == hostgenus, 'Order'].values[0]\n",
    "\n",
    "    # subset hostrange dataframe for current phage\n",
    "    subset = NahantCollectionHR[NahantCollectionHR['phagename'] == phage]\n",
    "\n",
    "    # check if I have host of phage of interest\n",
    "    if subset.empty:\n",
    "        continue\n",
    "    # determine accuracy\n",
    "    else:\n",
    "        known_hosts = subset['order'].tolist()\n",
    "        if hostpred_order not in known_hosts:\n",
    "            unknown += 1\n",
    "        else:\n",
    "            interaction = subset.loc[subset['order'] == hostpred_order, 'infection'].tolist()\n",
    "            if 'Inf' in interaction:\n",
    "                correct += 1\n",
    "            elif 'NoInf' in interaction:\n",
    "                wrong += 1\n",
    "\n",
    "\n",
    "print(correct)\n",
    "print(wrong)\n",
    "print(unknown)\n",
    "print(correct + wrong + unknown)\n",
    "\n",
    "results = results.append({'Tool' : 'vHULK', 'Dataset' : 'NahantCollection', 'Taxa_lvl' : 'Order', 'Correct' : correct, 'Wrong': wrong, 'Unknown': unknown}, ignore_index=True)\n"
   ]
  },
  {
   "cell_type": "markdown",
   "metadata": {
    "collapsed": false,
    "pycharm": {
     "name": "#%% md\n"
    }
   },
   "source": [
    "Class level"
   ]
  },
  {
   "cell_type": "code",
   "execution_count": 36,
   "metadata": {
    "collapsed": false,
    "pycharm": {
     "name": "#%%\n"
    }
   },
   "outputs": [
    {
     "name": "stdout",
     "output_type": "stream",
     "text": [
      "225\n",
      "10\n",
      "13\n",
      "248\n"
     ]
    },
    {
     "name": "stderr",
     "output_type": "stream",
     "text": [
      "/var/folders/yy/x1x_rtqj13l_9jplp1l2hxgw0000gn/T/ipykernel_91984/1299406411.py:37: FutureWarning: The frame.append method is deprecated and will be removed from pandas in a future version. Use pandas.concat instead.\n",
      "  results = results.append({'Tool' : 'vHULK', 'Dataset' : 'NahantCollection', 'Taxa_lvl' : 'Class', 'Correct' : correct, 'Wrong': wrong, 'Unknown': unknown}, ignore_index=True)\n"
     ]
    }
   ],
   "source": [
    "# initialize integers\n",
    "correct = 0\n",
    "wrong = 0\n",
    "unknown = 0\n",
    "\n",
    "# iterate through the prediction and determine accuracy\n",
    "for _, row in vHULK_NahantCollection_preds.iterrows():\n",
    "    # retrieve phage id and prediction\n",
    "    phage = row['phageMGid']\n",
    "    hostgenus = row['pred_species_softmax'].split('_')[0]\n",
    "    hostpred_class = taxa.loc[taxa['Genus'] == hostgenus, 'Class'].values[0]\n",
    "\n",
    "    # subset hostrange dataframe for current phage\n",
    "    subset = NahantCollectionHR[NahantCollectionHR['phagename'] == phage]\n",
    "\n",
    "    # check if I have host of phage of interest\n",
    "    if subset.empty:\n",
    "        continue\n",
    "    # determine accuracy\n",
    "    else:\n",
    "        known_hosts = subset['class'].tolist()\n",
    "        if hostpred_class not in known_hosts:\n",
    "            unknown += 1\n",
    "        else:\n",
    "            interaction = subset.loc[subset['class'] == hostpred_class, 'infection'].tolist()\n",
    "            if 'Inf' in interaction:\n",
    "                correct += 1\n",
    "            elif 'NoInf' in interaction:\n",
    "                wrong += 1\n",
    "\n",
    "\n",
    "print(correct)\n",
    "print(wrong)\n",
    "print(unknown)\n",
    "print(correct + wrong + unknown)\n",
    "\n",
    "results = results.append({'Tool' : 'vHULK', 'Dataset' : 'NahantCollection', 'Taxa_lvl' : 'Class', 'Correct' : correct, 'Wrong': wrong, 'Unknown': unknown}, ignore_index=True)\n"
   ]
  },
  {
   "cell_type": "markdown",
   "metadata": {
    "collapsed": false,
    "pycharm": {
     "name": "#%% md\n"
    }
   },
   "source": [
    "Phylum level"
   ]
  },
  {
   "cell_type": "code",
   "execution_count": 37,
   "metadata": {
    "collapsed": false,
    "pycharm": {
     "name": "#%%\n"
    }
   },
   "outputs": [
    {
     "name": "stdout",
     "output_type": "stream",
     "text": [
      "226\n",
      "10\n",
      "12\n",
      "248\n"
     ]
    },
    {
     "name": "stderr",
     "output_type": "stream",
     "text": [
      "/var/folders/yy/x1x_rtqj13l_9jplp1l2hxgw0000gn/T/ipykernel_91984/2242359109.py:37: FutureWarning: The frame.append method is deprecated and will be removed from pandas in a future version. Use pandas.concat instead.\n",
      "  results = results.append({'Tool' : 'vHULK', 'Dataset' : 'NahantCollection', 'Taxa_lvl' : 'Phylum', 'Correct' : correct, 'Wrong': wrong, 'Unknown': unknown}, ignore_index=True)\n"
     ]
    }
   ],
   "source": [
    "# initialize integers\n",
    "correct = 0\n",
    "wrong = 0\n",
    "unknown = 0\n",
    "\n",
    "# iterate through the prediction and determine accuracy\n",
    "for _, row in vHULK_NahantCollection_preds.iterrows():\n",
    "    # retrieve phage id and prediction\n",
    "    phage = row['phageMGid']\n",
    "    hostgenus = row['pred_species_softmax'].split('_')[0]\n",
    "    hostpred_phylum = taxa.loc[taxa['Genus'] == hostgenus, 'Phylum'].values[0]\n",
    "\n",
    "    # subset hostrange dataframe for current phage\n",
    "    subset = NahantCollectionHR[NahantCollectionHR['phagename'] == phage]\n",
    "\n",
    "    # check if I have host of phage of interest\n",
    "    if subset.empty:\n",
    "        continue\n",
    "    # determine accuracy\n",
    "    else:\n",
    "        known_hosts = subset['phylum'].tolist()\n",
    "        if hostpred_phylum not in known_hosts:\n",
    "            unknown += 1\n",
    "        else:\n",
    "            interaction = subset.loc[subset['phylum'] == hostpred_phylum, 'infection'].tolist()\n",
    "            if 'Inf' in interaction:\n",
    "                correct += 1\n",
    "            elif 'NoInf' in interaction:\n",
    "                wrong += 1\n",
    "\n",
    "\n",
    "print(correct)\n",
    "print(wrong)\n",
    "print(unknown)\n",
    "print(correct + wrong + unknown)\n",
    "\n",
    "results = results.append({'Tool' : 'vHULK', 'Dataset' : 'NahantCollection', 'Taxa_lvl' : 'Phylum', 'Correct' : correct, 'Wrong': wrong, 'Unknown': unknown}, ignore_index=True)\n"
   ]
  },
  {
   "cell_type": "markdown",
   "metadata": {
    "collapsed": false,
    "pycharm": {
     "name": "#%% md\n"
    }
   },
   "source": [
    "### CHERRY\n",
    "\n",
    "Let's move on the CHERRY. As usual, let's star twith the Staph Study! Same thing as vHULK, all the predictions were stored in a single file.\n",
    "\n",
    "#### Staph Study\n",
    "\n"
   ]
  },
  {
   "cell_type": "code",
   "execution_count": 38,
   "metadata": {
    "collapsed": false,
    "pycharm": {
     "name": "#%%\n"
    }
   },
   "outputs": [],
   "source": [
    "# load file\n",
    "CHERRY_StaphStudy_preds = pd.read_csv('../data/predictions/CHERRY/CHERRYpredictions_StaphStudy.csv')\n",
    "\n",
    "# reformat the hostname column to fit the format that I have\n",
    "hostnames = CHERRY_StaphStudy_preds['Top_1_label'].tolist()\n",
    "newnames = []\n",
    "for name in hostnames:\n",
    "    split = name.split(' ')\n",
    "    newnames.append(split[0] + '_' + split[1])\n",
    "CHERRY_StaphStudy_preds['hostprediction'] = newnames\n",
    "\n",
    "# reformat phage name to fit the format that I have\n",
    "phagenames = CHERRY_StaphStudy_preds['contig_name']\n",
    "newnames = []\n",
    "for name in phagenames:\n",
    "    PGid = StaphStudy_virusnames.loc[StaphStudy_virusnames['accession'] == name, 'phagename'].values[0]\n",
    "    newnames.append(PGid)\n",
    "CHERRY_StaphStudy_preds['phagePGid'] = newnames"
   ]
  },
  {
   "cell_type": "markdown",
   "metadata": {
    "collapsed": false,
    "pycharm": {
     "name": "#%% md\n"
    }
   },
   "source": [
    "File formatted and I am ready to determine their accuracy at different taxa level!\n",
    "\n",
    "Let's start with species level."
   ]
  },
  {
   "cell_type": "code",
   "execution_count": 39,
   "metadata": {
    "collapsed": false,
    "pycharm": {
     "name": "#%%\n"
    }
   },
   "outputs": [
    {
     "name": "stdout",
     "output_type": "stream",
     "text": [
      "14\n",
      "3\n",
      "22\n",
      "39\n"
     ]
    },
    {
     "name": "stderr",
     "output_type": "stream",
     "text": [
      "/var/folders/yy/x1x_rtqj13l_9jplp1l2hxgw0000gn/T/ipykernel_91984/752492902.py:36: FutureWarning: The frame.append method is deprecated and will be removed from pandas in a future version. Use pandas.concat instead.\n",
      "  results = results.append({'Tool' : 'CHERRY', 'Dataset' : 'StaphStudy', 'Taxa_lvl' : 'Species', 'Correct' : correct, 'Wrong': wrong, 'Unknown': unknown}, ignore_index=True)\n"
     ]
    }
   ],
   "source": [
    "# initialize integers\n",
    "correct = 0\n",
    "wrong = 0\n",
    "unknown = 0\n",
    "\n",
    "# iterate through the prediction and determine accuracy\n",
    "for _, row in CHERRY_StaphStudy_preds.iterrows():\n",
    "    # retrieve phage id and prediction\n",
    "    phage = row['phagePGid']\n",
    "    hostpred = row['hostprediction']\n",
    "\n",
    "    # subset hostrange dataframe for current phage\n",
    "    subset = StaphStudyHR[StaphStudyHR['phagename'] == phage]\n",
    "\n",
    "    # check if I have host of phage of interest\n",
    "    if subset.empty:\n",
    "        continue\n",
    "    # determine accuracy\n",
    "    else:\n",
    "        known_hosts = subset['hostname'].tolist()\n",
    "        if hostpred not in known_hosts:\n",
    "            unknown += 1\n",
    "        else:\n",
    "            interaction = subset.loc[subset['hostname'] == hostpred, 'infection'].tolist()\n",
    "            if 'Inf' in interaction:\n",
    "                correct += 1\n",
    "            elif 'NoInf' in interaction:\n",
    "                wrong += 1\n",
    "\n",
    "\n",
    "print(correct)\n",
    "print(wrong)\n",
    "print(unknown)\n",
    "print(correct + wrong + unknown)\n",
    "\n",
    "results = results.append({'Tool' : 'CHERRY', 'Dataset' : 'StaphStudy', 'Taxa_lvl' : 'Species', 'Correct' : correct, 'Wrong': wrong, 'Unknown': unknown}, ignore_index=True)\n"
   ]
  },
  {
   "cell_type": "markdown",
   "metadata": {
    "collapsed": false,
    "pycharm": {
     "name": "#%% md\n"
    }
   },
   "source": [
    "Genus level"
   ]
  },
  {
   "cell_type": "code",
   "execution_count": 40,
   "metadata": {
    "collapsed": false,
    "pycharm": {
     "name": "#%%\n"
    }
   },
   "outputs": [
    {
     "name": "stdout",
     "output_type": "stream",
     "text": [
      "17\n",
      "0\n",
      "22\n",
      "39\n"
     ]
    },
    {
     "name": "stderr",
     "output_type": "stream",
     "text": [
      "/var/folders/yy/x1x_rtqj13l_9jplp1l2hxgw0000gn/T/ipykernel_91984/754444028.py:36: FutureWarning: The frame.append method is deprecated and will be removed from pandas in a future version. Use pandas.concat instead.\n",
      "  results = results.append({'Tool' : 'CHERRY', 'Dataset' : 'StaphStudy', 'Taxa_lvl' : 'Genus', 'Correct' : correct, 'Wrong': wrong, 'Unknown': unknown}, ignore_index=True)\n"
     ]
    }
   ],
   "source": [
    "# initialize integers\n",
    "correct = 0\n",
    "wrong = 0\n",
    "unknown = 0\n",
    "\n",
    "# iterate through the prediction and determine accuracy\n",
    "for _, row in CHERRY_StaphStudy_preds.iterrows():\n",
    "    # retrieve phage id and prediction\n",
    "    phage = row['phagePGid']\n",
    "    hostpred_genus = row['hostprediction'].split('_')[0]\n",
    "\n",
    "    # subset hostrange dataframe for current phage\n",
    "    subset = StaphStudyHR[StaphStudyHR['phagename'] == phage]\n",
    "\n",
    "    # check if I have host of phage of interest\n",
    "    if subset.empty:\n",
    "        continue\n",
    "    # determine accuracy\n",
    "    else:\n",
    "        known_hosts = subset['genus'].tolist()\n",
    "        if hostpred_genus not in known_hosts:\n",
    "            unknown += 1\n",
    "        else:\n",
    "            interaction = subset.loc[subset['genus'] == hostpred_genus, 'infection'].tolist()\n",
    "            if 'Inf' in interaction:\n",
    "                correct += 1\n",
    "            elif 'NoInf' in interaction:\n",
    "                wrong += 1\n",
    "\n",
    "\n",
    "print(correct)\n",
    "print(wrong)\n",
    "print(unknown)\n",
    "print(correct + wrong + unknown)\n",
    "\n",
    "results = results.append({'Tool' : 'CHERRY', 'Dataset' : 'StaphStudy', 'Taxa_lvl' : 'Genus', 'Correct' : correct, 'Wrong': wrong, 'Unknown': unknown}, ignore_index=True)\n"
   ]
  },
  {
   "cell_type": "markdown",
   "metadata": {
    "collapsed": false,
    "pycharm": {
     "name": "#%% md\n"
    }
   },
   "source": [
    "Family level"
   ]
  },
  {
   "cell_type": "code",
   "execution_count": 41,
   "metadata": {
    "collapsed": false,
    "pycharm": {
     "name": "#%%\n"
    }
   },
   "outputs": [
    {
     "name": "stdout",
     "output_type": "stream",
     "text": [
      "17\n",
      "0\n",
      "22\n",
      "39\n"
     ]
    },
    {
     "name": "stderr",
     "output_type": "stream",
     "text": [
      "/var/folders/yy/x1x_rtqj13l_9jplp1l2hxgw0000gn/T/ipykernel_91984/2400072594.py:37: FutureWarning: The frame.append method is deprecated and will be removed from pandas in a future version. Use pandas.concat instead.\n",
      "  results = results.append({'Tool' : 'CHERRY', 'Dataset' : 'StaphStudy', 'Taxa_lvl' : 'Family', 'Correct' : correct, 'Wrong': wrong, 'Unknown': unknown}, ignore_index=True)\n"
     ]
    }
   ],
   "source": [
    "# initialize integers\n",
    "correct = 0\n",
    "wrong = 0\n",
    "unknown = 0\n",
    "\n",
    "# iterate through the prediction and determine accuracy\n",
    "for _, row in CHERRY_StaphStudy_preds.iterrows():\n",
    "    # retrieve phage id and prediction\n",
    "    phage = row['phagePGid']\n",
    "    hostgenus = row['hostprediction'].split('_')[0]\n",
    "    hostpred_family = taxa.loc[taxa['Genus'] == hostgenus, 'Family'].values[0]\n",
    "\n",
    "    # subset hostrange dataframe for current phage\n",
    "    subset = StaphStudyHR[StaphStudyHR['phagename'] == phage]\n",
    "\n",
    "    # check if I have host of phage of interest\n",
    "    if subset.empty:\n",
    "        continue\n",
    "    # determine accuracy\n",
    "    else:\n",
    "        known_hosts = subset['family'].tolist()\n",
    "        if hostpred_family not in known_hosts:\n",
    "            unknown += 1\n",
    "        else:\n",
    "            interaction = subset.loc[subset['family'] == hostpred_family, 'infection'].tolist()\n",
    "            if 'Inf' in interaction:\n",
    "                correct += 1\n",
    "            elif 'NoInf' in interaction:\n",
    "                wrong += 1\n",
    "\n",
    "\n",
    "print(correct)\n",
    "print(wrong)\n",
    "print(unknown)\n",
    "print(correct + wrong + unknown)\n",
    "\n",
    "results = results.append({'Tool' : 'CHERRY', 'Dataset' : 'StaphStudy', 'Taxa_lvl' : 'Family', 'Correct' : correct, 'Wrong': wrong, 'Unknown': unknown}, ignore_index=True)\n"
   ]
  },
  {
   "cell_type": "markdown",
   "metadata": {
    "collapsed": false,
    "pycharm": {
     "name": "#%% md\n"
    }
   },
   "source": [
    "Order"
   ]
  },
  {
   "cell_type": "code",
   "execution_count": 42,
   "metadata": {
    "collapsed": false,
    "pycharm": {
     "name": "#%%\n"
    }
   },
   "outputs": [
    {
     "name": "stdout",
     "output_type": "stream",
     "text": [
      "17\n",
      "0\n",
      "22\n",
      "39\n"
     ]
    },
    {
     "name": "stderr",
     "output_type": "stream",
     "text": [
      "/var/folders/yy/x1x_rtqj13l_9jplp1l2hxgw0000gn/T/ipykernel_91984/2562228612.py:37: FutureWarning: The frame.append method is deprecated and will be removed from pandas in a future version. Use pandas.concat instead.\n",
      "  results = results.append({'Tool' : 'CHERRY', 'Dataset' : 'StaphStudy', 'Taxa_lvl' : 'Order', 'Correct' : correct, 'Wrong': wrong, 'Unknown': unknown}, ignore_index=True)\n"
     ]
    }
   ],
   "source": [
    "# initialize integers\n",
    "correct = 0\n",
    "wrong = 0\n",
    "unknown = 0\n",
    "\n",
    "# iterate through the prediction and determine accuracy\n",
    "for _, row in CHERRY_StaphStudy_preds.iterrows():\n",
    "    # retrieve phage id and prediction\n",
    "    phage = row['phagePGid']\n",
    "    hostgenus = row['hostprediction'].split('_')[0]\n",
    "    hostpred_order = taxa.loc[taxa['Genus'] == hostgenus, 'Order'].values[0]\n",
    "\n",
    "    # subset hostrange dataframe for current phage\n",
    "    subset = StaphStudyHR[StaphStudyHR['phagename'] == phage]\n",
    "\n",
    "    # check if I have host of phage of interest\n",
    "    if subset.empty:\n",
    "        continue\n",
    "    # determine accuracy\n",
    "    else:\n",
    "        known_hosts = subset['order'].tolist()\n",
    "        if hostpred_order not in known_hosts:\n",
    "            unknown += 1\n",
    "        else:\n",
    "            interaction = subset.loc[subset['order'] == hostpred_order, 'infection'].tolist()\n",
    "            if 'Inf' in interaction:\n",
    "                correct += 1\n",
    "            elif 'NoInf' in interaction:\n",
    "                wrong += 1\n",
    "\n",
    "\n",
    "print(correct)\n",
    "print(wrong)\n",
    "print(unknown)\n",
    "print(correct + wrong + unknown)\n",
    "\n",
    "results = results.append({'Tool' : 'CHERRY', 'Dataset' : 'StaphStudy', 'Taxa_lvl' : 'Order', 'Correct' : correct, 'Wrong': wrong, 'Unknown': unknown}, ignore_index=True)\n"
   ]
  },
  {
   "cell_type": "markdown",
   "metadata": {
    "collapsed": false,
    "pycharm": {
     "name": "#%% md\n"
    }
   },
   "source": [
    "Class level\n"
   ]
  },
  {
   "cell_type": "code",
   "execution_count": 43,
   "metadata": {
    "collapsed": false,
    "pycharm": {
     "name": "#%%\n"
    }
   },
   "outputs": [
    {
     "name": "stdout",
     "output_type": "stream",
     "text": [
      "17"
     ]
    },
    {
     "name": "stderr",
     "output_type": "stream",
     "text": [
      "/var/folders/yy/x1x_rtqj13l_9jplp1l2hxgw0000gn/T/ipykernel_91984/349774287.py:37: FutureWarning: The frame.append method is deprecated and will be removed from pandas in a future version. Use pandas.concat instead.\n",
      "  results = results.append({'Tool' : 'CHERRY', 'Dataset' : 'StaphStudy', 'Taxa_lvl' : 'Class', 'Correct' : correct, 'Wrong': wrong, 'Unknown': unknown}, ignore_index=True)\n"
     ]
    },
    {
     "name": "stdout",
     "output_type": "stream",
     "text": [
      "\n",
      "0\n",
      "22\n",
      "39\n"
     ]
    }
   ],
   "source": [
    "# initialize integers\n",
    "correct = 0\n",
    "wrong = 0\n",
    "unknown = 0\n",
    "\n",
    "# iterate through the prediction and determine accuracy\n",
    "for _, row in CHERRY_StaphStudy_preds.iterrows():\n",
    "    # retrieve phage id and prediction\n",
    "    phage = row['phagePGid']\n",
    "    hostgenus = row['hostprediction'].split('_')[0]\n",
    "    hostpred_class = taxa.loc[taxa['Genus'] == hostgenus, 'Class'].values[0]\n",
    "\n",
    "    # subset hostrange dataframe for current phage\n",
    "    subset = StaphStudyHR[StaphStudyHR['phagename'] == phage]\n",
    "\n",
    "    # check if I have host of phage of interest\n",
    "    if subset.empty:\n",
    "        continue\n",
    "    # determine accuracy\n",
    "    else:\n",
    "        known_hosts = subset['class'].tolist()\n",
    "        if hostpred_class not in known_hosts:\n",
    "            unknown += 1\n",
    "        else:\n",
    "            interaction = subset.loc[subset['class'] == hostpred_class, 'infection'].tolist()\n",
    "            if 'Inf' in interaction:\n",
    "                correct += 1\n",
    "            elif 'NoInf' in interaction:\n",
    "                wrong += 1\n",
    "\n",
    "\n",
    "print(correct)\n",
    "print(wrong)\n",
    "print(unknown)\n",
    "print(correct + wrong + unknown)\n",
    "\n",
    "results = results.append({'Tool' : 'CHERRY', 'Dataset' : 'StaphStudy', 'Taxa_lvl' : 'Class', 'Correct' : correct, 'Wrong': wrong, 'Unknown': unknown}, ignore_index=True)\n"
   ]
  },
  {
   "cell_type": "markdown",
   "metadata": {
    "collapsed": false,
    "pycharm": {
     "name": "#%% md\n"
    }
   },
   "source": [
    "Phylum level"
   ]
  },
  {
   "cell_type": "code",
   "execution_count": 44,
   "metadata": {
    "collapsed": false,
    "pycharm": {
     "name": "#%%\n"
    }
   },
   "outputs": [
    {
     "name": "stdout",
     "output_type": "stream",
     "text": [
      "34\n",
      "0\n",
      "5\n",
      "39\n"
     ]
    },
    {
     "name": "stderr",
     "output_type": "stream",
     "text": [
      "/var/folders/yy/x1x_rtqj13l_9jplp1l2hxgw0000gn/T/ipykernel_91984/3158824013.py:37: FutureWarning: The frame.append method is deprecated and will be removed from pandas in a future version. Use pandas.concat instead.\n",
      "  results = results.append({'Tool' : 'CHERRY', 'Dataset' : 'StaphStudy', 'Taxa_lvl' : 'Phylum', 'Correct' : correct, 'Wrong': wrong, 'Unknown': unknown}, ignore_index=True)\n"
     ]
    }
   ],
   "source": [
    "# initialize integers\n",
    "correct = 0\n",
    "wrong = 0\n",
    "unknown = 0\n",
    "\n",
    "# iterate through the prediction and determine accuracy\n",
    "for _, row in CHERRY_StaphStudy_preds.iterrows():\n",
    "    # retrieve phage id and prediction\n",
    "    phage = row['phagePGid']\n",
    "    hostgenus = row['hostprediction'].split('_')[0]\n",
    "    hostpred_phylum = taxa.loc[taxa['Genus'] == hostgenus, 'Phylum'].values[0]\n",
    "\n",
    "    # subset hostrange dataframe for current phage\n",
    "    subset = StaphStudyHR[StaphStudyHR['phagename'] == phage]\n",
    "\n",
    "    # check if I have host of phage of interest\n",
    "    if subset.empty:\n",
    "        continue\n",
    "    # determine accuracy\n",
    "    else:\n",
    "        known_hosts = subset['phylum'].tolist()\n",
    "        if hostpred_phylum not in known_hosts:\n",
    "            unknown += 1\n",
    "        else:\n",
    "            interaction = subset.loc[subset['phylum'] == hostpred_phylum, 'infection'].tolist()\n",
    "            if 'Inf' in interaction:\n",
    "                correct += 1\n",
    "            elif 'NoInf' in interaction:\n",
    "                wrong += 1\n",
    "\n",
    "\n",
    "print(correct)\n",
    "print(wrong)\n",
    "print(unknown)\n",
    "print(correct + wrong + unknown)\n",
    "\n",
    "results = results.append({'Tool' : 'CHERRY', 'Dataset' : 'StaphStudy', 'Taxa_lvl' : 'Phylum', 'Correct' : correct, 'Wrong': wrong, 'Unknown': unknown}, ignore_index=True)\n"
   ]
  },
  {
   "cell_type": "markdown",
   "metadata": {
    "collapsed": false,
    "pycharm": {
     "name": "#%% md\n"
    }
   },
   "source": [
    "#### Nahant Collection\n",
    "\n",
    "Let's move on to the Nahant Collection!"
   ]
  },
  {
   "cell_type": "code",
   "execution_count": 45,
   "metadata": {
    "collapsed": false,
    "pycharm": {
     "name": "#%%\n"
    }
   },
   "outputs": [],
   "source": [
    "# load file\n",
    "CHERRY_NahantCollection_preds = pd.read_csv('../data/predictions/CHERRY/CHERRYpredictions_NahantCollection.csv')\n",
    "\n",
    "# reformat the hostname column to fit the format that I have\n",
    "hostnames = CHERRY_NahantCollection_preds['Top_1_label'].tolist()\n",
    "newnames = []\n",
    "for name in hostnames:\n",
    "    split = name.split(' ')\n",
    "    newnames.append(split[0] + '_' + split[1])\n",
    "CHERRY_NahantCollection_preds['hostprediction'] = newnames"
   ]
  },
  {
   "cell_type": "markdown",
   "metadata": {
    "collapsed": false,
    "pycharm": {
     "name": "#%% md\n"
    }
   },
   "source": [
    "Species level"
   ]
  },
  {
   "cell_type": "code",
   "execution_count": 46,
   "metadata": {
    "collapsed": false,
    "pycharm": {
     "name": "#%%\n"
    }
   },
   "outputs": [
    {
     "name": "stdout",
     "output_type": "stream",
     "text": [
      "6\n",
      "97\n",
      "145\n",
      "248\n"
     ]
    },
    {
     "name": "stderr",
     "output_type": "stream",
     "text": [
      "/var/folders/yy/x1x_rtqj13l_9jplp1l2hxgw0000gn/T/ipykernel_91984/3937366512.py:36: FutureWarning: The frame.append method is deprecated and will be removed from pandas in a future version. Use pandas.concat instead.\n",
      "  results = results.append({'Tool' : 'CHERRY', 'Dataset' : 'NahantCollection', 'Taxa_lvl' : 'Species', 'Correct' : correct, 'Wrong': wrong, 'Unknown': unknown}, ignore_index=True)\n"
     ]
    }
   ],
   "source": [
    "# initialize integers\n",
    "correct = 0\n",
    "wrong = 0\n",
    "unknown = 0\n",
    "\n",
    "# iterate through the prediction and determine accuracy\n",
    "for _, row in CHERRY_NahantCollection_preds.iterrows():\n",
    "    # retrieve phage id and prediction\n",
    "    phage = row['contig_name']\n",
    "    hostpred = row['hostprediction']\n",
    "\n",
    "    # subset hostrange dataframe for current phage\n",
    "    subset = NahantCollectionHR[NahantCollectionHR['phagename'] == phage]\n",
    "\n",
    "    # check if I have host of phage of interest\n",
    "    if subset.empty:\n",
    "        continue\n",
    "    # determine accuracy\n",
    "    else:\n",
    "        known_hosts = subset['hostname'].tolist()\n",
    "        if hostpred not in known_hosts:\n",
    "            unknown += 1\n",
    "        else:\n",
    "            interaction = subset.loc[subset['hostname'] == hostpred, 'infection'].tolist()\n",
    "            if 'Inf' in interaction:\n",
    "                correct += 1\n",
    "            elif 'NoInf' in interaction:\n",
    "                wrong += 1\n",
    "\n",
    "\n",
    "print(correct)\n",
    "print(wrong)\n",
    "print(unknown)\n",
    "print(correct + wrong + unknown)\n",
    "\n",
    "results = results.append({'Tool' : 'CHERRY', 'Dataset' : 'NahantCollection', 'Taxa_lvl' : 'Species', 'Correct' : correct, 'Wrong': wrong, 'Unknown': unknown}, ignore_index=True)\n"
   ]
  },
  {
   "cell_type": "markdown",
   "metadata": {
    "collapsed": false,
    "pycharm": {
     "name": "#%% md\n"
    }
   },
   "source": [
    "Genus level"
   ]
  },
  {
   "cell_type": "code",
   "execution_count": 47,
   "metadata": {
    "collapsed": false,
    "pycharm": {
     "name": "#%%\n"
    }
   },
   "outputs": [
    {
     "name": "stdout",
     "output_type": "stream",
     "text": [
      "117\n",
      "21\n",
      "110\n",
      "248\n"
     ]
    },
    {
     "name": "stderr",
     "output_type": "stream",
     "text": [
      "/var/folders/yy/x1x_rtqj13l_9jplp1l2hxgw0000gn/T/ipykernel_91984/2564772484.py:36: FutureWarning: The frame.append method is deprecated and will be removed from pandas in a future version. Use pandas.concat instead.\n",
      "  results = results.append({'Tool' : 'CHERRY', 'Dataset' : 'NahantCollection', 'Taxa_lvl' : 'Genus', 'Correct' : correct, 'Wrong': wrong, 'Unknown': unknown}, ignore_index=True)\n"
     ]
    }
   ],
   "source": [
    "# initialize integers\n",
    "correct = 0\n",
    "wrong = 0\n",
    "unknown = 0\n",
    "\n",
    "# iterate through the prediction and determine accuracy\n",
    "for _, row in CHERRY_NahantCollection_preds.iterrows():\n",
    "    # retrieve phage id and prediction\n",
    "    phage = row['contig_name']\n",
    "    hostpred_genus = row['hostprediction'].split('_')[0]\n",
    "\n",
    "    # subset hostrange dataframe for current phage\n",
    "    subset = NahantCollectionHR[NahantCollectionHR['phagename'] == phage]\n",
    "\n",
    "    # check if I have host of phage of interest\n",
    "    if subset.empty:\n",
    "        continue\n",
    "    # determine accuracy\n",
    "    else:\n",
    "        known_hosts = subset['genus'].tolist()\n",
    "        if hostpred_genus not in known_hosts:\n",
    "            unknown += 1\n",
    "        else:\n",
    "            interaction = subset.loc[subset['genus'] == hostpred_genus, 'infection'].tolist()\n",
    "            if 'Inf' in interaction:\n",
    "                correct += 1\n",
    "            elif 'NoInf' in interaction:\n",
    "                wrong += 1\n",
    "\n",
    "\n",
    "print(correct)\n",
    "print(wrong)\n",
    "print(unknown)\n",
    "print(correct + wrong + unknown)\n",
    "\n",
    "results = results.append({'Tool' : 'CHERRY', 'Dataset' : 'NahantCollection', 'Taxa_lvl' : 'Genus', 'Correct' : correct, 'Wrong': wrong, 'Unknown': unknown}, ignore_index=True)\n"
   ]
  },
  {
   "cell_type": "markdown",
   "metadata": {
    "collapsed": false,
    "pycharm": {
     "name": "#%% md\n"
    }
   },
   "source": [
    "Family level"
   ]
  },
  {
   "cell_type": "code",
   "execution_count": 48,
   "metadata": {
    "collapsed": false,
    "pycharm": {
     "name": "#%%\n"
    }
   },
   "outputs": [
    {
     "name": "stdout",
     "output_type": "stream",
     "text": [
      "128\n",
      "10\n",
      "110\n",
      "248\n"
     ]
    },
    {
     "name": "stderr",
     "output_type": "stream",
     "text": [
      "/var/folders/yy/x1x_rtqj13l_9jplp1l2hxgw0000gn/T/ipykernel_91984/224799748.py:37: FutureWarning: The frame.append method is deprecated and will be removed from pandas in a future version. Use pandas.concat instead.\n",
      "  results = results.append({'Tool' : 'CHERRY', 'Dataset' : 'NahantCollection', 'Taxa_lvl' : 'Family', 'Correct' : correct, 'Wrong': wrong, 'Unknown': unknown}, ignore_index=True)\n"
     ]
    }
   ],
   "source": [
    "# initialize integers\n",
    "correct = 0\n",
    "wrong = 0\n",
    "unknown = 0\n",
    "\n",
    "# iterate through the prediction and determine accuracy\n",
    "for _, row in CHERRY_NahantCollection_preds.iterrows():\n",
    "    # retrieve phage id and prediction\n",
    "    phage = row['contig_name']\n",
    "    hostgenus = row['hostprediction'].split('_')[0]\n",
    "    hostpred_family = taxa.loc[taxa['Genus'] == hostgenus, 'Family'].values[0]\n",
    "\n",
    "    # subset hostrange dataframe for current phage\n",
    "    subset = NahantCollectionHR[NahantCollectionHR['phagename'] == phage]\n",
    "\n",
    "    # check if I have host of phage of interest\n",
    "    if subset.empty:\n",
    "        continue\n",
    "    # determine accuracy\n",
    "    else:\n",
    "        known_hosts = subset['family'].tolist()\n",
    "        if hostpred_family not in known_hosts:\n",
    "            unknown += 1\n",
    "        else:\n",
    "            interaction = subset.loc[subset['family'] == hostpred_family, 'infection'].tolist()\n",
    "            if 'Inf' in interaction:\n",
    "                correct += 1\n",
    "            elif 'NoInf' in interaction:\n",
    "                wrong += 1\n",
    "\n",
    "\n",
    "print(correct)\n",
    "print(wrong)\n",
    "print(unknown)\n",
    "print(correct + wrong + unknown)\n",
    "\n",
    "results = results.append({'Tool' : 'CHERRY', 'Dataset' : 'NahantCollection', 'Taxa_lvl' : 'Family', 'Correct' : correct, 'Wrong': wrong, 'Unknown': unknown}, ignore_index=True)\n",
    "\n"
   ]
  },
  {
   "cell_type": "markdown",
   "metadata": {
    "collapsed": false,
    "pycharm": {
     "name": "#%% md\n"
    }
   },
   "source": [
    "Order taxa level"
   ]
  },
  {
   "cell_type": "code",
   "execution_count": 49,
   "metadata": {
    "collapsed": false,
    "pycharm": {
     "name": "#%%\n"
    }
   },
   "outputs": [
    {
     "name": "stdout",
     "output_type": "stream",
     "text": [
      "128\n",
      "37\n",
      "83\n",
      "248\n"
     ]
    },
    {
     "name": "stderr",
     "output_type": "stream",
     "text": [
      "/var/folders/yy/x1x_rtqj13l_9jplp1l2hxgw0000gn/T/ipykernel_91984/2025759894.py:37: FutureWarning: The frame.append method is deprecated and will be removed from pandas in a future version. Use pandas.concat instead.\n",
      "  results = results.append({'Tool' : 'CHERRY', 'Dataset' : 'NahantCollection', 'Taxa_lvl' : 'Order', 'Correct' : correct, 'Wrong': wrong, 'Unknown': unknown}, ignore_index=True)\n"
     ]
    }
   ],
   "source": [
    "# initialize integers\n",
    "correct = 0\n",
    "wrong = 0\n",
    "unknown = 0\n",
    "\n",
    "# iterate through the prediction and determine accuracy\n",
    "for _, row in CHERRY_NahantCollection_preds.iterrows():\n",
    "    # retrieve phage id and prediction\n",
    "    phage = row['contig_name']\n",
    "    hostgenus = row['hostprediction'].split('_')[0]\n",
    "    hostpred_order = taxa.loc[taxa['Genus'] == hostgenus, 'Order'].values[0]\n",
    "\n",
    "    # subset hostrange dataframe for current phage\n",
    "    subset = NahantCollectionHR[NahantCollectionHR['phagename'] == phage]\n",
    "\n",
    "    # check if I have host of phage of interest\n",
    "    if subset.empty:\n",
    "        continue\n",
    "    # determine accuracy\n",
    "    else:\n",
    "        known_hosts = subset['order'].tolist()\n",
    "        if hostpred_order not in known_hosts:\n",
    "            unknown += 1\n",
    "        else:\n",
    "            interaction = subset.loc[subset['order'] == hostpred_order, 'infection'].tolist()\n",
    "            if 'Inf' in interaction:\n",
    "                correct += 1\n",
    "            elif 'NoInf' in interaction:\n",
    "                wrong += 1\n",
    "\n",
    "\n",
    "print(correct)\n",
    "print(wrong)\n",
    "print(unknown)\n",
    "print(correct + wrong + unknown)\n",
    "\n",
    "results = results.append({'Tool' : 'CHERRY', 'Dataset' : 'NahantCollection', 'Taxa_lvl' : 'Order', 'Correct' : correct, 'Wrong': wrong, 'Unknown': unknown}, ignore_index=True)\n",
    "\n"
   ]
  },
  {
   "cell_type": "markdown",
   "metadata": {
    "collapsed": false,
    "pycharm": {
     "name": "#%% md\n"
    }
   },
   "source": [
    "Class taxa level"
   ]
  },
  {
   "cell_type": "code",
   "execution_count": 50,
   "metadata": {
    "collapsed": false,
    "pycharm": {
     "name": "#%%\n"
    }
   },
   "outputs": [
    {
     "name": "stdout",
     "output_type": "stream",
     "text": [
      "222\n",
      "9\n",
      "17\n",
      "248\n"
     ]
    },
    {
     "name": "stderr",
     "output_type": "stream",
     "text": [
      "/var/folders/yy/x1x_rtqj13l_9jplp1l2hxgw0000gn/T/ipykernel_91984/1171195113.py:37: FutureWarning: The frame.append method is deprecated and will be removed from pandas in a future version. Use pandas.concat instead.\n",
      "  results = results.append({'Tool' : 'CHERRY', 'Dataset' : 'NahantCollection', 'Taxa_lvl' : 'Class', 'Correct' : correct, 'Wrong': wrong, 'Unknown': unknown}, ignore_index=True)\n"
     ]
    }
   ],
   "source": [
    "# initialize integers\n",
    "correct = 0\n",
    "wrong = 0\n",
    "unknown = 0\n",
    "\n",
    "# iterate through the prediction and determine accuracy\n",
    "for _, row in CHERRY_NahantCollection_preds.iterrows():\n",
    "    # retrieve phage id and prediction\n",
    "    phage = row['contig_name']\n",
    "    hostgenus = row['hostprediction'].split('_')[0]\n",
    "    hostpred_class = taxa.loc[taxa['Genus'] == hostgenus, 'Class'].values[0]\n",
    "\n",
    "    # subset hostrange dataframe for current phage\n",
    "    subset = NahantCollectionHR[NahantCollectionHR['phagename'] == phage]\n",
    "\n",
    "    # check if I have host of phage of interest\n",
    "    if subset.empty:\n",
    "        continue\n",
    "    # determine accuracy\n",
    "    else:\n",
    "        known_hosts = subset['class'].tolist()\n",
    "        if hostpred_class not in known_hosts:\n",
    "            unknown += 1\n",
    "        else:\n",
    "            interaction = subset.loc[subset['class'] == hostpred_class, 'infection'].tolist()\n",
    "            if 'Inf' in interaction:\n",
    "                correct += 1\n",
    "            elif 'NoInf' in interaction:\n",
    "                wrong += 1\n",
    "\n",
    "\n",
    "print(correct)\n",
    "print(wrong)\n",
    "print(unknown)\n",
    "print(correct + wrong + unknown)\n",
    "\n",
    "results = results.append({'Tool' : 'CHERRY', 'Dataset' : 'NahantCollection', 'Taxa_lvl' : 'Class', 'Correct' : correct, 'Wrong': wrong, 'Unknown': unknown}, ignore_index=True)\n",
    "\n"
   ]
  },
  {
   "cell_type": "markdown",
   "metadata": {
    "collapsed": false,
    "pycharm": {
     "name": "#%% md\n"
    }
   },
   "source": [
    "Phylum level"
   ]
  },
  {
   "cell_type": "code",
   "execution_count": 51,
   "metadata": {
    "collapsed": false,
    "pycharm": {
     "name": "#%%\n"
    }
   },
   "outputs": [
    {
     "name": "stdout",
     "output_type": "stream",
     "text": [
      "224\n",
      "9\n",
      "15\n",
      "248\n"
     ]
    },
    {
     "name": "stderr",
     "output_type": "stream",
     "text": [
      "/var/folders/yy/x1x_rtqj13l_9jplp1l2hxgw0000gn/T/ipykernel_91984/696753010.py:37: FutureWarning: The frame.append method is deprecated and will be removed from pandas in a future version. Use pandas.concat instead.\n",
      "  results = results.append({'Tool' : 'CHERRY', 'Dataset' : 'NahantCollection', 'Taxa_lvl' : 'Phylum', 'Correct' : correct, 'Wrong': wrong, 'Unknown': unknown}, ignore_index=True)\n"
     ]
    }
   ],
   "source": [
    "# initialize integers\n",
    "correct = 0\n",
    "wrong = 0\n",
    "unknown = 0\n",
    "\n",
    "# iterate through the prediction and determine accuracy\n",
    "for _, row in CHERRY_NahantCollection_preds.iterrows():\n",
    "    # retrieve phage id and prediction\n",
    "    phage = row['contig_name']\n",
    "    hostgenus = row['hostprediction'].split('_')[0]\n",
    "    hostpred_phylum = taxa.loc[taxa['Genus'] == hostgenus, 'Phylum'].values[0]\n",
    "\n",
    "    # subset hostrange dataframe for current phage\n",
    "    subset = NahantCollectionHR[NahantCollectionHR['phagename'] == phage]\n",
    "\n",
    "    # check if I have host of phage of interest\n",
    "    if subset.empty:\n",
    "        continue\n",
    "    # determine accuracy\n",
    "    else:\n",
    "        known_hosts = subset['phylum'].tolist()\n",
    "        if hostpred_phylum not in known_hosts:\n",
    "            unknown += 1\n",
    "        else:\n",
    "            interaction = subset.loc[subset['phylum'] == hostpred_phylum, 'infection'].tolist()\n",
    "            if 'Inf' in interaction:\n",
    "                correct += 1\n",
    "            elif 'NoInf' in interaction:\n",
    "                wrong += 1\n",
    "\n",
    "\n",
    "print(correct)\n",
    "print(wrong)\n",
    "print(unknown)\n",
    "print(correct + wrong + unknown)\n",
    "\n",
    "results = results.append({'Tool' : 'CHERRY', 'Dataset' : 'NahantCollection', 'Taxa_lvl' : 'Phylum', 'Correct' : correct, 'Wrong': wrong, 'Unknown': unknown}, ignore_index=True)\n",
    "\n"
   ]
  },
  {
   "cell_type": "markdown",
   "metadata": {
    "collapsed": false,
    "pycharm": {
     "name": "#%% md\n"
    }
   },
   "source": [
    "### RAFAH\n",
    "\n",
    "This is the last tool I ran. Same thing, let's explore its accuracy rate in predicting taxa for the Staph Study and the Nahant Collection. There are no predictions at the species level, rather it starts at the genus level.\n",
    "\n",
    "#### Staph Study\n",
    "\n",
    "Load file and format it as needed!"
   ]
  },
  {
   "cell_type": "code",
   "execution_count": 52,
   "metadata": {
    "collapsed": false,
    "pycharm": {
     "name": "#%%\n"
    }
   },
   "outputs": [],
   "source": [
    "# load file\n",
    "RAFAH_StaphStudy_preds = pd.read_csv('../data/predictions/RaFAH/RaFAH_StaphStudy_Host_Predictions.tsv', sep='\\t')\n",
    "\n",
    "# reformat the phage name to fit the format that I have\n",
    "phagenames = RAFAH_StaphStudy_preds['Sequence']\n",
    "newnames = []\n",
    "for name in phagenames:\n",
    "    PGid = StaphStudy_virusnames.loc[StaphStudy_virusnames['accession'] == name, 'phagename'].values[0]\n",
    "    newnames.append(PGid)\n",
    "RAFAH_StaphStudy_preds['phagePGid'] = newnames"
   ]
  },
  {
   "cell_type": "code",
   "execution_count": 53,
   "metadata": {},
   "outputs": [
    {
     "data": {
      "text/html": [
       "<div>\n",
       "<style scoped>\n",
       "    .dataframe tbody tr th:only-of-type {\n",
       "        vertical-align: middle;\n",
       "    }\n",
       "\n",
       "    .dataframe tbody tr th {\n",
       "        vertical-align: top;\n",
       "    }\n",
       "\n",
       "    .dataframe thead th {\n",
       "        text-align: right;\n",
       "    }\n",
       "</style>\n",
       "<table border=\"1\" class=\"dataframe\">\n",
       "  <thead>\n",
       "    <tr style=\"text-align: right;\">\n",
       "      <th></th>\n",
       "      <th>Sequence</th>\n",
       "      <th>Predicted_Host</th>\n",
       "      <th>Winner_Score</th>\n",
       "      <th>Abiotrophia</th>\n",
       "      <th>Acetobacter</th>\n",
       "      <th>Acholeplasma</th>\n",
       "      <th>Achromobacter</th>\n",
       "      <th>Acidaminococcus</th>\n",
       "      <th>Acidianus</th>\n",
       "      <th>Acidiferrobacter</th>\n",
       "      <th>...</th>\n",
       "      <th>Xenorhabdus</th>\n",
       "      <th>Xylanimonas</th>\n",
       "      <th>Xylella</th>\n",
       "      <th>Yersinia</th>\n",
       "      <th>Yokenella</th>\n",
       "      <th>Youngiibacter</th>\n",
       "      <th>Zhongshania</th>\n",
       "      <th>Zymomonas</th>\n",
       "      <th>Zymophilus</th>\n",
       "      <th>phagePGid</th>\n",
       "    </tr>\n",
       "  </thead>\n",
       "  <tbody>\n",
       "    <tr>\n",
       "      <th>0</th>\n",
       "      <td>MZ417315.1</td>\n",
       "      <td>Staphylococcus</td>\n",
       "      <td>0.995</td>\n",
       "      <td>0</td>\n",
       "      <td>0</td>\n",
       "      <td>0</td>\n",
       "      <td>0.000</td>\n",
       "      <td>0</td>\n",
       "      <td>0</td>\n",
       "      <td>0</td>\n",
       "      <td>...</td>\n",
       "      <td>0</td>\n",
       "      <td>0.000</td>\n",
       "      <td>0</td>\n",
       "      <td>0.000</td>\n",
       "      <td>0</td>\n",
       "      <td>0</td>\n",
       "      <td>0</td>\n",
       "      <td>0</td>\n",
       "      <td>0</td>\n",
       "      <td>PG-2021_10</td>\n",
       "    </tr>\n",
       "    <tr>\n",
       "      <th>1</th>\n",
       "      <td>MZ417316.1</td>\n",
       "      <td>Staphylococcus</td>\n",
       "      <td>0.986</td>\n",
       "      <td>0</td>\n",
       "      <td>0</td>\n",
       "      <td>0</td>\n",
       "      <td>0.000</td>\n",
       "      <td>0</td>\n",
       "      <td>0</td>\n",
       "      <td>0</td>\n",
       "      <td>...</td>\n",
       "      <td>0</td>\n",
       "      <td>0.000</td>\n",
       "      <td>0</td>\n",
       "      <td>0.000</td>\n",
       "      <td>0</td>\n",
       "      <td>0</td>\n",
       "      <td>0</td>\n",
       "      <td>0</td>\n",
       "      <td>0</td>\n",
       "      <td>PG-2021_12</td>\n",
       "    </tr>\n",
       "    <tr>\n",
       "      <th>2</th>\n",
       "      <td>MZ417317.1</td>\n",
       "      <td>Staphylococcus</td>\n",
       "      <td>0.986</td>\n",
       "      <td>0</td>\n",
       "      <td>0</td>\n",
       "      <td>0</td>\n",
       "      <td>0.000</td>\n",
       "      <td>0</td>\n",
       "      <td>0</td>\n",
       "      <td>0</td>\n",
       "      <td>...</td>\n",
       "      <td>0</td>\n",
       "      <td>0.000</td>\n",
       "      <td>0</td>\n",
       "      <td>0.000</td>\n",
       "      <td>0</td>\n",
       "      <td>0</td>\n",
       "      <td>0</td>\n",
       "      <td>0</td>\n",
       "      <td>0</td>\n",
       "      <td>PG-2021_14</td>\n",
       "    </tr>\n",
       "    <tr>\n",
       "      <th>3</th>\n",
       "      <td>MZ417318.1</td>\n",
       "      <td>Staphylococcus</td>\n",
       "      <td>0.986</td>\n",
       "      <td>0</td>\n",
       "      <td>0</td>\n",
       "      <td>0</td>\n",
       "      <td>0.000</td>\n",
       "      <td>0</td>\n",
       "      <td>0</td>\n",
       "      <td>0</td>\n",
       "      <td>...</td>\n",
       "      <td>0</td>\n",
       "      <td>0.000</td>\n",
       "      <td>0</td>\n",
       "      <td>0.000</td>\n",
       "      <td>0</td>\n",
       "      <td>0</td>\n",
       "      <td>0</td>\n",
       "      <td>0</td>\n",
       "      <td>0</td>\n",
       "      <td>PG-2021_15</td>\n",
       "    </tr>\n",
       "    <tr>\n",
       "      <th>4</th>\n",
       "      <td>MZ417319.1</td>\n",
       "      <td>Staphylococcus</td>\n",
       "      <td>0.994</td>\n",
       "      <td>0</td>\n",
       "      <td>0</td>\n",
       "      <td>0</td>\n",
       "      <td>0.000</td>\n",
       "      <td>0</td>\n",
       "      <td>0</td>\n",
       "      <td>0</td>\n",
       "      <td>...</td>\n",
       "      <td>0</td>\n",
       "      <td>0.000</td>\n",
       "      <td>0</td>\n",
       "      <td>0.000</td>\n",
       "      <td>0</td>\n",
       "      <td>0</td>\n",
       "      <td>0</td>\n",
       "      <td>0</td>\n",
       "      <td>0</td>\n",
       "      <td>PG-2021_16</td>\n",
       "    </tr>\n",
       "    <tr>\n",
       "      <th>5</th>\n",
       "      <td>MZ417320.1</td>\n",
       "      <td>Staphylococcus</td>\n",
       "      <td>0.995</td>\n",
       "      <td>0</td>\n",
       "      <td>0</td>\n",
       "      <td>0</td>\n",
       "      <td>0.000</td>\n",
       "      <td>0</td>\n",
       "      <td>0</td>\n",
       "      <td>0</td>\n",
       "      <td>...</td>\n",
       "      <td>0</td>\n",
       "      <td>0.000</td>\n",
       "      <td>0</td>\n",
       "      <td>0.000</td>\n",
       "      <td>0</td>\n",
       "      <td>0</td>\n",
       "      <td>0</td>\n",
       "      <td>0</td>\n",
       "      <td>0</td>\n",
       "      <td>PG-2021_17</td>\n",
       "    </tr>\n",
       "    <tr>\n",
       "      <th>6</th>\n",
       "      <td>MZ417321.1</td>\n",
       "      <td>Staphylococcus</td>\n",
       "      <td>0.961</td>\n",
       "      <td>0</td>\n",
       "      <td>0</td>\n",
       "      <td>0</td>\n",
       "      <td>0.000</td>\n",
       "      <td>0</td>\n",
       "      <td>0</td>\n",
       "      <td>0</td>\n",
       "      <td>...</td>\n",
       "      <td>0</td>\n",
       "      <td>0.000</td>\n",
       "      <td>0</td>\n",
       "      <td>0.001</td>\n",
       "      <td>0</td>\n",
       "      <td>0</td>\n",
       "      <td>0</td>\n",
       "      <td>0</td>\n",
       "      <td>0</td>\n",
       "      <td>PG-2021_18</td>\n",
       "    </tr>\n",
       "    <tr>\n",
       "      <th>7</th>\n",
       "      <td>MZ417322.1</td>\n",
       "      <td>Staphylococcus</td>\n",
       "      <td>0.859</td>\n",
       "      <td>0</td>\n",
       "      <td>0</td>\n",
       "      <td>0</td>\n",
       "      <td>0.001</td>\n",
       "      <td>0</td>\n",
       "      <td>0</td>\n",
       "      <td>0</td>\n",
       "      <td>...</td>\n",
       "      <td>0</td>\n",
       "      <td>0.000</td>\n",
       "      <td>0</td>\n",
       "      <td>0.004</td>\n",
       "      <td>0</td>\n",
       "      <td>0</td>\n",
       "      <td>0</td>\n",
       "      <td>0</td>\n",
       "      <td>0</td>\n",
       "      <td>PG-2021_19</td>\n",
       "    </tr>\n",
       "    <tr>\n",
       "      <th>8</th>\n",
       "      <td>MZ417323.1</td>\n",
       "      <td>Staphylococcus</td>\n",
       "      <td>0.949</td>\n",
       "      <td>0</td>\n",
       "      <td>0</td>\n",
       "      <td>0</td>\n",
       "      <td>0.000</td>\n",
       "      <td>0</td>\n",
       "      <td>0</td>\n",
       "      <td>0</td>\n",
       "      <td>...</td>\n",
       "      <td>0</td>\n",
       "      <td>0.000</td>\n",
       "      <td>0</td>\n",
       "      <td>0.000</td>\n",
       "      <td>0</td>\n",
       "      <td>0</td>\n",
       "      <td>0</td>\n",
       "      <td>0</td>\n",
       "      <td>0</td>\n",
       "      <td>PG-2021_1</td>\n",
       "    </tr>\n",
       "    <tr>\n",
       "      <th>9</th>\n",
       "      <td>MZ417324.1</td>\n",
       "      <td>Staphylococcus</td>\n",
       "      <td>0.986</td>\n",
       "      <td>0</td>\n",
       "      <td>0</td>\n",
       "      <td>0</td>\n",
       "      <td>0.000</td>\n",
       "      <td>0</td>\n",
       "      <td>0</td>\n",
       "      <td>0</td>\n",
       "      <td>...</td>\n",
       "      <td>0</td>\n",
       "      <td>0.000</td>\n",
       "      <td>0</td>\n",
       "      <td>0.000</td>\n",
       "      <td>0</td>\n",
       "      <td>0</td>\n",
       "      <td>0</td>\n",
       "      <td>0</td>\n",
       "      <td>0</td>\n",
       "      <td>PG-2021_22</td>\n",
       "    </tr>\n",
       "    <tr>\n",
       "      <th>10</th>\n",
       "      <td>MZ417325.1</td>\n",
       "      <td>Staphylococcus</td>\n",
       "      <td>0.907</td>\n",
       "      <td>0</td>\n",
       "      <td>0</td>\n",
       "      <td>0</td>\n",
       "      <td>0.000</td>\n",
       "      <td>0</td>\n",
       "      <td>0</td>\n",
       "      <td>0</td>\n",
       "      <td>...</td>\n",
       "      <td>0</td>\n",
       "      <td>0.000</td>\n",
       "      <td>0</td>\n",
       "      <td>0.000</td>\n",
       "      <td>0</td>\n",
       "      <td>0</td>\n",
       "      <td>0</td>\n",
       "      <td>0</td>\n",
       "      <td>0</td>\n",
       "      <td>PG-2021_23</td>\n",
       "    </tr>\n",
       "    <tr>\n",
       "      <th>11</th>\n",
       "      <td>MZ417326.1</td>\n",
       "      <td>Staphylococcus</td>\n",
       "      <td>0.852</td>\n",
       "      <td>0</td>\n",
       "      <td>0</td>\n",
       "      <td>0</td>\n",
       "      <td>0.000</td>\n",
       "      <td>0</td>\n",
       "      <td>0</td>\n",
       "      <td>0</td>\n",
       "      <td>...</td>\n",
       "      <td>0</td>\n",
       "      <td>0.000</td>\n",
       "      <td>0</td>\n",
       "      <td>0.000</td>\n",
       "      <td>0</td>\n",
       "      <td>0</td>\n",
       "      <td>0</td>\n",
       "      <td>0</td>\n",
       "      <td>0</td>\n",
       "      <td>PG-2021_27</td>\n",
       "    </tr>\n",
       "    <tr>\n",
       "      <th>12</th>\n",
       "      <td>MZ417327.1</td>\n",
       "      <td>Staphylococcus</td>\n",
       "      <td>0.976</td>\n",
       "      <td>0</td>\n",
       "      <td>0</td>\n",
       "      <td>0</td>\n",
       "      <td>0.000</td>\n",
       "      <td>0</td>\n",
       "      <td>0</td>\n",
       "      <td>0</td>\n",
       "      <td>...</td>\n",
       "      <td>0</td>\n",
       "      <td>0.000</td>\n",
       "      <td>0</td>\n",
       "      <td>0.000</td>\n",
       "      <td>0</td>\n",
       "      <td>0</td>\n",
       "      <td>0</td>\n",
       "      <td>0</td>\n",
       "      <td>0</td>\n",
       "      <td>PG-2021_29</td>\n",
       "    </tr>\n",
       "    <tr>\n",
       "      <th>13</th>\n",
       "      <td>MZ417328.1</td>\n",
       "      <td>Staphylococcus</td>\n",
       "      <td>0.983</td>\n",
       "      <td>0</td>\n",
       "      <td>0</td>\n",
       "      <td>0</td>\n",
       "      <td>0.000</td>\n",
       "      <td>0</td>\n",
       "      <td>0</td>\n",
       "      <td>0</td>\n",
       "      <td>...</td>\n",
       "      <td>0</td>\n",
       "      <td>0.000</td>\n",
       "      <td>0</td>\n",
       "      <td>0.000</td>\n",
       "      <td>0</td>\n",
       "      <td>0</td>\n",
       "      <td>0</td>\n",
       "      <td>0</td>\n",
       "      <td>0</td>\n",
       "      <td>PG-2021_2</td>\n",
       "    </tr>\n",
       "    <tr>\n",
       "      <th>14</th>\n",
       "      <td>MZ417329.1</td>\n",
       "      <td>Staphylococcus</td>\n",
       "      <td>0.974</td>\n",
       "      <td>0</td>\n",
       "      <td>0</td>\n",
       "      <td>0</td>\n",
       "      <td>0.000</td>\n",
       "      <td>0</td>\n",
       "      <td>0</td>\n",
       "      <td>0</td>\n",
       "      <td>...</td>\n",
       "      <td>0</td>\n",
       "      <td>0.000</td>\n",
       "      <td>0</td>\n",
       "      <td>0.001</td>\n",
       "      <td>0</td>\n",
       "      <td>0</td>\n",
       "      <td>0</td>\n",
       "      <td>0</td>\n",
       "      <td>0</td>\n",
       "      <td>PG-2021_31</td>\n",
       "    </tr>\n",
       "    <tr>\n",
       "      <th>15</th>\n",
       "      <td>MZ417330.1</td>\n",
       "      <td>Staphylococcus</td>\n",
       "      <td>0.974</td>\n",
       "      <td>0</td>\n",
       "      <td>0</td>\n",
       "      <td>0</td>\n",
       "      <td>0.000</td>\n",
       "      <td>0</td>\n",
       "      <td>0</td>\n",
       "      <td>0</td>\n",
       "      <td>...</td>\n",
       "      <td>0</td>\n",
       "      <td>0.000</td>\n",
       "      <td>0</td>\n",
       "      <td>0.001</td>\n",
       "      <td>0</td>\n",
       "      <td>0</td>\n",
       "      <td>0</td>\n",
       "      <td>0</td>\n",
       "      <td>0</td>\n",
       "      <td>PG-2021_33</td>\n",
       "    </tr>\n",
       "    <tr>\n",
       "      <th>16</th>\n",
       "      <td>MZ417331.1</td>\n",
       "      <td>Staphylococcus</td>\n",
       "      <td>0.987</td>\n",
       "      <td>0</td>\n",
       "      <td>0</td>\n",
       "      <td>0</td>\n",
       "      <td>0.000</td>\n",
       "      <td>0</td>\n",
       "      <td>0</td>\n",
       "      <td>0</td>\n",
       "      <td>...</td>\n",
       "      <td>0</td>\n",
       "      <td>0.000</td>\n",
       "      <td>0</td>\n",
       "      <td>0.000</td>\n",
       "      <td>0</td>\n",
       "      <td>0</td>\n",
       "      <td>0</td>\n",
       "      <td>0</td>\n",
       "      <td>0</td>\n",
       "      <td>PG-2021_35</td>\n",
       "    </tr>\n",
       "    <tr>\n",
       "      <th>17</th>\n",
       "      <td>MZ417332.1</td>\n",
       "      <td>Staphylococcus</td>\n",
       "      <td>0.990</td>\n",
       "      <td>0</td>\n",
       "      <td>0</td>\n",
       "      <td>0</td>\n",
       "      <td>0.000</td>\n",
       "      <td>0</td>\n",
       "      <td>0</td>\n",
       "      <td>0</td>\n",
       "      <td>...</td>\n",
       "      <td>0</td>\n",
       "      <td>0.000</td>\n",
       "      <td>0</td>\n",
       "      <td>0.000</td>\n",
       "      <td>0</td>\n",
       "      <td>0</td>\n",
       "      <td>0</td>\n",
       "      <td>0</td>\n",
       "      <td>0</td>\n",
       "      <td>PG-2021_38</td>\n",
       "    </tr>\n",
       "    <tr>\n",
       "      <th>18</th>\n",
       "      <td>MZ417333.1</td>\n",
       "      <td>Staphylococcus</td>\n",
       "      <td>0.948</td>\n",
       "      <td>0</td>\n",
       "      <td>0</td>\n",
       "      <td>0</td>\n",
       "      <td>0.000</td>\n",
       "      <td>0</td>\n",
       "      <td>0</td>\n",
       "      <td>0</td>\n",
       "      <td>...</td>\n",
       "      <td>0</td>\n",
       "      <td>0.000</td>\n",
       "      <td>0</td>\n",
       "      <td>0.000</td>\n",
       "      <td>0</td>\n",
       "      <td>0</td>\n",
       "      <td>0</td>\n",
       "      <td>0</td>\n",
       "      <td>0</td>\n",
       "      <td>PG-2021_40</td>\n",
       "    </tr>\n",
       "    <tr>\n",
       "      <th>19</th>\n",
       "      <td>MZ417334.1</td>\n",
       "      <td>Staphylococcus</td>\n",
       "      <td>0.986</td>\n",
       "      <td>0</td>\n",
       "      <td>0</td>\n",
       "      <td>0</td>\n",
       "      <td>0.000</td>\n",
       "      <td>0</td>\n",
       "      <td>0</td>\n",
       "      <td>0</td>\n",
       "      <td>...</td>\n",
       "      <td>0</td>\n",
       "      <td>0.000</td>\n",
       "      <td>0</td>\n",
       "      <td>0.000</td>\n",
       "      <td>0</td>\n",
       "      <td>0</td>\n",
       "      <td>0</td>\n",
       "      <td>0</td>\n",
       "      <td>0</td>\n",
       "      <td>PG-2021_41</td>\n",
       "    </tr>\n",
       "    <tr>\n",
       "      <th>20</th>\n",
       "      <td>MZ417335.1</td>\n",
       "      <td>Staphylococcus</td>\n",
       "      <td>0.986</td>\n",
       "      <td>0</td>\n",
       "      <td>0</td>\n",
       "      <td>0</td>\n",
       "      <td>0.000</td>\n",
       "      <td>0</td>\n",
       "      <td>0</td>\n",
       "      <td>0</td>\n",
       "      <td>...</td>\n",
       "      <td>0</td>\n",
       "      <td>0.000</td>\n",
       "      <td>0</td>\n",
       "      <td>0.000</td>\n",
       "      <td>0</td>\n",
       "      <td>0</td>\n",
       "      <td>0</td>\n",
       "      <td>0</td>\n",
       "      <td>0</td>\n",
       "      <td>PG-2021_43</td>\n",
       "    </tr>\n",
       "    <tr>\n",
       "      <th>21</th>\n",
       "      <td>MZ417336.1</td>\n",
       "      <td>Staphylococcus</td>\n",
       "      <td>0.873</td>\n",
       "      <td>0</td>\n",
       "      <td>0</td>\n",
       "      <td>0</td>\n",
       "      <td>0.000</td>\n",
       "      <td>0</td>\n",
       "      <td>0</td>\n",
       "      <td>0</td>\n",
       "      <td>...</td>\n",
       "      <td>0</td>\n",
       "      <td>0.000</td>\n",
       "      <td>0</td>\n",
       "      <td>0.000</td>\n",
       "      <td>0</td>\n",
       "      <td>0</td>\n",
       "      <td>0</td>\n",
       "      <td>0</td>\n",
       "      <td>0</td>\n",
       "      <td>PG-2021_46</td>\n",
       "    </tr>\n",
       "    <tr>\n",
       "      <th>22</th>\n",
       "      <td>MZ417337.1</td>\n",
       "      <td>Staphylococcus</td>\n",
       "      <td>0.993</td>\n",
       "      <td>0</td>\n",
       "      <td>0</td>\n",
       "      <td>0</td>\n",
       "      <td>0.000</td>\n",
       "      <td>0</td>\n",
       "      <td>0</td>\n",
       "      <td>0</td>\n",
       "      <td>...</td>\n",
       "      <td>0</td>\n",
       "      <td>0.000</td>\n",
       "      <td>0</td>\n",
       "      <td>0.000</td>\n",
       "      <td>0</td>\n",
       "      <td>0</td>\n",
       "      <td>0</td>\n",
       "      <td>0</td>\n",
       "      <td>0</td>\n",
       "      <td>PG-2021_47</td>\n",
       "    </tr>\n",
       "    <tr>\n",
       "      <th>23</th>\n",
       "      <td>MZ417338.1</td>\n",
       "      <td>Staphylococcus</td>\n",
       "      <td>0.808</td>\n",
       "      <td>0</td>\n",
       "      <td>0</td>\n",
       "      <td>0</td>\n",
       "      <td>0.000</td>\n",
       "      <td>0</td>\n",
       "      <td>0</td>\n",
       "      <td>0</td>\n",
       "      <td>...</td>\n",
       "      <td>0</td>\n",
       "      <td>0.001</td>\n",
       "      <td>0</td>\n",
       "      <td>0.000</td>\n",
       "      <td>0</td>\n",
       "      <td>0</td>\n",
       "      <td>0</td>\n",
       "      <td>0</td>\n",
       "      <td>0</td>\n",
       "      <td>PG-2021_4</td>\n",
       "    </tr>\n",
       "    <tr>\n",
       "      <th>24</th>\n",
       "      <td>MZ417339.1</td>\n",
       "      <td>Staphylococcus</td>\n",
       "      <td>0.877</td>\n",
       "      <td>0</td>\n",
       "      <td>0</td>\n",
       "      <td>0</td>\n",
       "      <td>0.000</td>\n",
       "      <td>0</td>\n",
       "      <td>0</td>\n",
       "      <td>0</td>\n",
       "      <td>...</td>\n",
       "      <td>0</td>\n",
       "      <td>0.000</td>\n",
       "      <td>0</td>\n",
       "      <td>0.000</td>\n",
       "      <td>0</td>\n",
       "      <td>0</td>\n",
       "      <td>0</td>\n",
       "      <td>0</td>\n",
       "      <td>0</td>\n",
       "      <td>PG-2021_5</td>\n",
       "    </tr>\n",
       "    <tr>\n",
       "      <th>25</th>\n",
       "      <td>MZ417340.1</td>\n",
       "      <td>Staphylococcus</td>\n",
       "      <td>0.983</td>\n",
       "      <td>0</td>\n",
       "      <td>0</td>\n",
       "      <td>0</td>\n",
       "      <td>0.000</td>\n",
       "      <td>0</td>\n",
       "      <td>0</td>\n",
       "      <td>0</td>\n",
       "      <td>...</td>\n",
       "      <td>0</td>\n",
       "      <td>0.000</td>\n",
       "      <td>0</td>\n",
       "      <td>0.000</td>\n",
       "      <td>0</td>\n",
       "      <td>0</td>\n",
       "      <td>0</td>\n",
       "      <td>0</td>\n",
       "      <td>0</td>\n",
       "      <td>PG-2021_64</td>\n",
       "    </tr>\n",
       "    <tr>\n",
       "      <th>26</th>\n",
       "      <td>MZ417341.1</td>\n",
       "      <td>Staphylococcus</td>\n",
       "      <td>0.807</td>\n",
       "      <td>0</td>\n",
       "      <td>0</td>\n",
       "      <td>0</td>\n",
       "      <td>0.000</td>\n",
       "      <td>0</td>\n",
       "      <td>0</td>\n",
       "      <td>0</td>\n",
       "      <td>...</td>\n",
       "      <td>0</td>\n",
       "      <td>0.001</td>\n",
       "      <td>0</td>\n",
       "      <td>0.000</td>\n",
       "      <td>0</td>\n",
       "      <td>0</td>\n",
       "      <td>0</td>\n",
       "      <td>0</td>\n",
       "      <td>0</td>\n",
       "      <td>PG-2021_67</td>\n",
       "    </tr>\n",
       "    <tr>\n",
       "      <th>27</th>\n",
       "      <td>MZ417342.1</td>\n",
       "      <td>Staphylococcus</td>\n",
       "      <td>0.812</td>\n",
       "      <td>0</td>\n",
       "      <td>0</td>\n",
       "      <td>0</td>\n",
       "      <td>0.000</td>\n",
       "      <td>0</td>\n",
       "      <td>0</td>\n",
       "      <td>0</td>\n",
       "      <td>...</td>\n",
       "      <td>0</td>\n",
       "      <td>0.001</td>\n",
       "      <td>0</td>\n",
       "      <td>0.000</td>\n",
       "      <td>0</td>\n",
       "      <td>0</td>\n",
       "      <td>0</td>\n",
       "      <td>0</td>\n",
       "      <td>0</td>\n",
       "      <td>PG-2021_68</td>\n",
       "    </tr>\n",
       "    <tr>\n",
       "      <th>28</th>\n",
       "      <td>MZ417343.1</td>\n",
       "      <td>Staphylococcus</td>\n",
       "      <td>0.877</td>\n",
       "      <td>0</td>\n",
       "      <td>0</td>\n",
       "      <td>0</td>\n",
       "      <td>0.000</td>\n",
       "      <td>0</td>\n",
       "      <td>0</td>\n",
       "      <td>0</td>\n",
       "      <td>...</td>\n",
       "      <td>0</td>\n",
       "      <td>0.000</td>\n",
       "      <td>0</td>\n",
       "      <td>0.000</td>\n",
       "      <td>0</td>\n",
       "      <td>0</td>\n",
       "      <td>0</td>\n",
       "      <td>0</td>\n",
       "      <td>0</td>\n",
       "      <td>PG-2021_74</td>\n",
       "    </tr>\n",
       "    <tr>\n",
       "      <th>29</th>\n",
       "      <td>MZ417344.1</td>\n",
       "      <td>Staphylococcus</td>\n",
       "      <td>0.974</td>\n",
       "      <td>0</td>\n",
       "      <td>0</td>\n",
       "      <td>0</td>\n",
       "      <td>0.000</td>\n",
       "      <td>0</td>\n",
       "      <td>0</td>\n",
       "      <td>0</td>\n",
       "      <td>...</td>\n",
       "      <td>0</td>\n",
       "      <td>0.000</td>\n",
       "      <td>0</td>\n",
       "      <td>0.001</td>\n",
       "      <td>0</td>\n",
       "      <td>0</td>\n",
       "      <td>0</td>\n",
       "      <td>0</td>\n",
       "      <td>0</td>\n",
       "      <td>PG-2021_76</td>\n",
       "    </tr>\n",
       "    <tr>\n",
       "      <th>30</th>\n",
       "      <td>MZ417345.1</td>\n",
       "      <td>Staphylococcus</td>\n",
       "      <td>0.994</td>\n",
       "      <td>0</td>\n",
       "      <td>0</td>\n",
       "      <td>0</td>\n",
       "      <td>0.000</td>\n",
       "      <td>0</td>\n",
       "      <td>0</td>\n",
       "      <td>0</td>\n",
       "      <td>...</td>\n",
       "      <td>0</td>\n",
       "      <td>0.000</td>\n",
       "      <td>0</td>\n",
       "      <td>0.000</td>\n",
       "      <td>0</td>\n",
       "      <td>0</td>\n",
       "      <td>0</td>\n",
       "      <td>0</td>\n",
       "      <td>0</td>\n",
       "      <td>PG-2021_84</td>\n",
       "    </tr>\n",
       "    <tr>\n",
       "      <th>31</th>\n",
       "      <td>MZ417346.1</td>\n",
       "      <td>Staphylococcus</td>\n",
       "      <td>0.968</td>\n",
       "      <td>0</td>\n",
       "      <td>0</td>\n",
       "      <td>0</td>\n",
       "      <td>0.000</td>\n",
       "      <td>0</td>\n",
       "      <td>0</td>\n",
       "      <td>0</td>\n",
       "      <td>...</td>\n",
       "      <td>0</td>\n",
       "      <td>0.000</td>\n",
       "      <td>0</td>\n",
       "      <td>0.007</td>\n",
       "      <td>0</td>\n",
       "      <td>0</td>\n",
       "      <td>0</td>\n",
       "      <td>0</td>\n",
       "      <td>0</td>\n",
       "      <td>PG-2021_86</td>\n",
       "    </tr>\n",
       "    <tr>\n",
       "      <th>32</th>\n",
       "      <td>MZ417347.1</td>\n",
       "      <td>Staphylococcus</td>\n",
       "      <td>0.771</td>\n",
       "      <td>0</td>\n",
       "      <td>0</td>\n",
       "      <td>0</td>\n",
       "      <td>0.000</td>\n",
       "      <td>0</td>\n",
       "      <td>0</td>\n",
       "      <td>0</td>\n",
       "      <td>...</td>\n",
       "      <td>0</td>\n",
       "      <td>0.000</td>\n",
       "      <td>0</td>\n",
       "      <td>0.008</td>\n",
       "      <td>0</td>\n",
       "      <td>0</td>\n",
       "      <td>0</td>\n",
       "      <td>0</td>\n",
       "      <td>0</td>\n",
       "      <td>PG-2021_87</td>\n",
       "    </tr>\n",
       "    <tr>\n",
       "      <th>33</th>\n",
       "      <td>MZ417348.1</td>\n",
       "      <td>Staphylococcus</td>\n",
       "      <td>0.877</td>\n",
       "      <td>0</td>\n",
       "      <td>0</td>\n",
       "      <td>0</td>\n",
       "      <td>0.000</td>\n",
       "      <td>0</td>\n",
       "      <td>0</td>\n",
       "      <td>0</td>\n",
       "      <td>...</td>\n",
       "      <td>0</td>\n",
       "      <td>0.000</td>\n",
       "      <td>0</td>\n",
       "      <td>0.000</td>\n",
       "      <td>0</td>\n",
       "      <td>0</td>\n",
       "      <td>0</td>\n",
       "      <td>0</td>\n",
       "      <td>0</td>\n",
       "      <td>PG-2021_88</td>\n",
       "    </tr>\n",
       "    <tr>\n",
       "      <th>34</th>\n",
       "      <td>MZ417349.1</td>\n",
       "      <td>Staphylococcus</td>\n",
       "      <td>0.985</td>\n",
       "      <td>0</td>\n",
       "      <td>0</td>\n",
       "      <td>0</td>\n",
       "      <td>0.000</td>\n",
       "      <td>0</td>\n",
       "      <td>0</td>\n",
       "      <td>0</td>\n",
       "      <td>...</td>\n",
       "      <td>0</td>\n",
       "      <td>0.000</td>\n",
       "      <td>0</td>\n",
       "      <td>0.000</td>\n",
       "      <td>0</td>\n",
       "      <td>0</td>\n",
       "      <td>0</td>\n",
       "      <td>0</td>\n",
       "      <td>0</td>\n",
       "      <td>PG-2021_89</td>\n",
       "    </tr>\n",
       "    <tr>\n",
       "      <th>35</th>\n",
       "      <td>MZ417350.1</td>\n",
       "      <td>Staphylococcus</td>\n",
       "      <td>0.983</td>\n",
       "      <td>0</td>\n",
       "      <td>0</td>\n",
       "      <td>0</td>\n",
       "      <td>0.000</td>\n",
       "      <td>0</td>\n",
       "      <td>0</td>\n",
       "      <td>0</td>\n",
       "      <td>...</td>\n",
       "      <td>0</td>\n",
       "      <td>0.000</td>\n",
       "      <td>0</td>\n",
       "      <td>0.000</td>\n",
       "      <td>0</td>\n",
       "      <td>0</td>\n",
       "      <td>0</td>\n",
       "      <td>0</td>\n",
       "      <td>0</td>\n",
       "      <td>PG-2021_8</td>\n",
       "    </tr>\n",
       "    <tr>\n",
       "      <th>36</th>\n",
       "      <td>MZ417351.1</td>\n",
       "      <td>Staphylococcus</td>\n",
       "      <td>0.996</td>\n",
       "      <td>0</td>\n",
       "      <td>0</td>\n",
       "      <td>0</td>\n",
       "      <td>0.000</td>\n",
       "      <td>0</td>\n",
       "      <td>0</td>\n",
       "      <td>0</td>\n",
       "      <td>...</td>\n",
       "      <td>0</td>\n",
       "      <td>0.000</td>\n",
       "      <td>0</td>\n",
       "      <td>0.000</td>\n",
       "      <td>0</td>\n",
       "      <td>0</td>\n",
       "      <td>0</td>\n",
       "      <td>0</td>\n",
       "      <td>0</td>\n",
       "      <td>PG-2021_90</td>\n",
       "    </tr>\n",
       "    <tr>\n",
       "      <th>37</th>\n",
       "      <td>MZ417352.1</td>\n",
       "      <td>Staphylococcus</td>\n",
       "      <td>0.993</td>\n",
       "      <td>0</td>\n",
       "      <td>0</td>\n",
       "      <td>0</td>\n",
       "      <td>0.000</td>\n",
       "      <td>0</td>\n",
       "      <td>0</td>\n",
       "      <td>0</td>\n",
       "      <td>...</td>\n",
       "      <td>0</td>\n",
       "      <td>0.000</td>\n",
       "      <td>0</td>\n",
       "      <td>0.000</td>\n",
       "      <td>0</td>\n",
       "      <td>0</td>\n",
       "      <td>0</td>\n",
       "      <td>0</td>\n",
       "      <td>0</td>\n",
       "      <td>PG-2021_91</td>\n",
       "    </tr>\n",
       "    <tr>\n",
       "      <th>38</th>\n",
       "      <td>MZ417353.1</td>\n",
       "      <td>Staphylococcus</td>\n",
       "      <td>0.966</td>\n",
       "      <td>0</td>\n",
       "      <td>0</td>\n",
       "      <td>0</td>\n",
       "      <td>0.000</td>\n",
       "      <td>0</td>\n",
       "      <td>0</td>\n",
       "      <td>0</td>\n",
       "      <td>...</td>\n",
       "      <td>0</td>\n",
       "      <td>0.000</td>\n",
       "      <td>0</td>\n",
       "      <td>0.000</td>\n",
       "      <td>0</td>\n",
       "      <td>0</td>\n",
       "      <td>0</td>\n",
       "      <td>0</td>\n",
       "      <td>0</td>\n",
       "      <td>PG-2021_93</td>\n",
       "    </tr>\n",
       "    <tr>\n",
       "      <th>39</th>\n",
       "      <td>MZ417354.1</td>\n",
       "      <td>Staphylococcus</td>\n",
       "      <td>0.995</td>\n",
       "      <td>0</td>\n",
       "      <td>0</td>\n",
       "      <td>0</td>\n",
       "      <td>0.000</td>\n",
       "      <td>0</td>\n",
       "      <td>0</td>\n",
       "      <td>0</td>\n",
       "      <td>...</td>\n",
       "      <td>0</td>\n",
       "      <td>0.000</td>\n",
       "      <td>0</td>\n",
       "      <td>0.000</td>\n",
       "      <td>0</td>\n",
       "      <td>0</td>\n",
       "      <td>0</td>\n",
       "      <td>0</td>\n",
       "      <td>0</td>\n",
       "      <td>PG-2021_9</td>\n",
       "    </tr>\n",
       "  </tbody>\n",
       "</table>\n",
       "<p>40 rows × 621 columns</p>\n",
       "</div>"
      ],
      "text/plain": [
       "      Sequence  Predicted_Host  Winner_Score  Abiotrophia  Acetobacter  \\\n",
       "0   MZ417315.1  Staphylococcus         0.995            0            0   \n",
       "1   MZ417316.1  Staphylococcus         0.986            0            0   \n",
       "2   MZ417317.1  Staphylococcus         0.986            0            0   \n",
       "3   MZ417318.1  Staphylococcus         0.986            0            0   \n",
       "4   MZ417319.1  Staphylococcus         0.994            0            0   \n",
       "5   MZ417320.1  Staphylococcus         0.995            0            0   \n",
       "6   MZ417321.1  Staphylococcus         0.961            0            0   \n",
       "7   MZ417322.1  Staphylococcus         0.859            0            0   \n",
       "8   MZ417323.1  Staphylococcus         0.949            0            0   \n",
       "9   MZ417324.1  Staphylococcus         0.986            0            0   \n",
       "10  MZ417325.1  Staphylococcus         0.907            0            0   \n",
       "11  MZ417326.1  Staphylococcus         0.852            0            0   \n",
       "12  MZ417327.1  Staphylococcus         0.976            0            0   \n",
       "13  MZ417328.1  Staphylococcus         0.983            0            0   \n",
       "14  MZ417329.1  Staphylococcus         0.974            0            0   \n",
       "15  MZ417330.1  Staphylococcus         0.974            0            0   \n",
       "16  MZ417331.1  Staphylococcus         0.987            0            0   \n",
       "17  MZ417332.1  Staphylococcus         0.990            0            0   \n",
       "18  MZ417333.1  Staphylococcus         0.948            0            0   \n",
       "19  MZ417334.1  Staphylococcus         0.986            0            0   \n",
       "20  MZ417335.1  Staphylococcus         0.986            0            0   \n",
       "21  MZ417336.1  Staphylococcus         0.873            0            0   \n",
       "22  MZ417337.1  Staphylococcus         0.993            0            0   \n",
       "23  MZ417338.1  Staphylococcus         0.808            0            0   \n",
       "24  MZ417339.1  Staphylococcus         0.877            0            0   \n",
       "25  MZ417340.1  Staphylococcus         0.983            0            0   \n",
       "26  MZ417341.1  Staphylococcus         0.807            0            0   \n",
       "27  MZ417342.1  Staphylococcus         0.812            0            0   \n",
       "28  MZ417343.1  Staphylococcus         0.877            0            0   \n",
       "29  MZ417344.1  Staphylococcus         0.974            0            0   \n",
       "30  MZ417345.1  Staphylococcus         0.994            0            0   \n",
       "31  MZ417346.1  Staphylococcus         0.968            0            0   \n",
       "32  MZ417347.1  Staphylococcus         0.771            0            0   \n",
       "33  MZ417348.1  Staphylococcus         0.877            0            0   \n",
       "34  MZ417349.1  Staphylococcus         0.985            0            0   \n",
       "35  MZ417350.1  Staphylococcus         0.983            0            0   \n",
       "36  MZ417351.1  Staphylococcus         0.996            0            0   \n",
       "37  MZ417352.1  Staphylococcus         0.993            0            0   \n",
       "38  MZ417353.1  Staphylococcus         0.966            0            0   \n",
       "39  MZ417354.1  Staphylococcus         0.995            0            0   \n",
       "\n",
       "    Acholeplasma  Achromobacter  Acidaminococcus  Acidianus  Acidiferrobacter  \\\n",
       "0              0          0.000                0          0                 0   \n",
       "1              0          0.000                0          0                 0   \n",
       "2              0          0.000                0          0                 0   \n",
       "3              0          0.000                0          0                 0   \n",
       "4              0          0.000                0          0                 0   \n",
       "5              0          0.000                0          0                 0   \n",
       "6              0          0.000                0          0                 0   \n",
       "7              0          0.001                0          0                 0   \n",
       "8              0          0.000                0          0                 0   \n",
       "9              0          0.000                0          0                 0   \n",
       "10             0          0.000                0          0                 0   \n",
       "11             0          0.000                0          0                 0   \n",
       "12             0          0.000                0          0                 0   \n",
       "13             0          0.000                0          0                 0   \n",
       "14             0          0.000                0          0                 0   \n",
       "15             0          0.000                0          0                 0   \n",
       "16             0          0.000                0          0                 0   \n",
       "17             0          0.000                0          0                 0   \n",
       "18             0          0.000                0          0                 0   \n",
       "19             0          0.000                0          0                 0   \n",
       "20             0          0.000                0          0                 0   \n",
       "21             0          0.000                0          0                 0   \n",
       "22             0          0.000                0          0                 0   \n",
       "23             0          0.000                0          0                 0   \n",
       "24             0          0.000                0          0                 0   \n",
       "25             0          0.000                0          0                 0   \n",
       "26             0          0.000                0          0                 0   \n",
       "27             0          0.000                0          0                 0   \n",
       "28             0          0.000                0          0                 0   \n",
       "29             0          0.000                0          0                 0   \n",
       "30             0          0.000                0          0                 0   \n",
       "31             0          0.000                0          0                 0   \n",
       "32             0          0.000                0          0                 0   \n",
       "33             0          0.000                0          0                 0   \n",
       "34             0          0.000                0          0                 0   \n",
       "35             0          0.000                0          0                 0   \n",
       "36             0          0.000                0          0                 0   \n",
       "37             0          0.000                0          0                 0   \n",
       "38             0          0.000                0          0                 0   \n",
       "39             0          0.000                0          0                 0   \n",
       "\n",
       "    ...  Xenorhabdus  Xylanimonas  Xylella  Yersinia  Yokenella  \\\n",
       "0   ...            0        0.000        0     0.000          0   \n",
       "1   ...            0        0.000        0     0.000          0   \n",
       "2   ...            0        0.000        0     0.000          0   \n",
       "3   ...            0        0.000        0     0.000          0   \n",
       "4   ...            0        0.000        0     0.000          0   \n",
       "5   ...            0        0.000        0     0.000          0   \n",
       "6   ...            0        0.000        0     0.001          0   \n",
       "7   ...            0        0.000        0     0.004          0   \n",
       "8   ...            0        0.000        0     0.000          0   \n",
       "9   ...            0        0.000        0     0.000          0   \n",
       "10  ...            0        0.000        0     0.000          0   \n",
       "11  ...            0        0.000        0     0.000          0   \n",
       "12  ...            0        0.000        0     0.000          0   \n",
       "13  ...            0        0.000        0     0.000          0   \n",
       "14  ...            0        0.000        0     0.001          0   \n",
       "15  ...            0        0.000        0     0.001          0   \n",
       "16  ...            0        0.000        0     0.000          0   \n",
       "17  ...            0        0.000        0     0.000          0   \n",
       "18  ...            0        0.000        0     0.000          0   \n",
       "19  ...            0        0.000        0     0.000          0   \n",
       "20  ...            0        0.000        0     0.000          0   \n",
       "21  ...            0        0.000        0     0.000          0   \n",
       "22  ...            0        0.000        0     0.000          0   \n",
       "23  ...            0        0.001        0     0.000          0   \n",
       "24  ...            0        0.000        0     0.000          0   \n",
       "25  ...            0        0.000        0     0.000          0   \n",
       "26  ...            0        0.001        0     0.000          0   \n",
       "27  ...            0        0.001        0     0.000          0   \n",
       "28  ...            0        0.000        0     0.000          0   \n",
       "29  ...            0        0.000        0     0.001          0   \n",
       "30  ...            0        0.000        0     0.000          0   \n",
       "31  ...            0        0.000        0     0.007          0   \n",
       "32  ...            0        0.000        0     0.008          0   \n",
       "33  ...            0        0.000        0     0.000          0   \n",
       "34  ...            0        0.000        0     0.000          0   \n",
       "35  ...            0        0.000        0     0.000          0   \n",
       "36  ...            0        0.000        0     0.000          0   \n",
       "37  ...            0        0.000        0     0.000          0   \n",
       "38  ...            0        0.000        0     0.000          0   \n",
       "39  ...            0        0.000        0     0.000          0   \n",
       "\n",
       "    Youngiibacter  Zhongshania  Zymomonas  Zymophilus   phagePGid  \n",
       "0               0            0          0           0  PG-2021_10  \n",
       "1               0            0          0           0  PG-2021_12  \n",
       "2               0            0          0           0  PG-2021_14  \n",
       "3               0            0          0           0  PG-2021_15  \n",
       "4               0            0          0           0  PG-2021_16  \n",
       "5               0            0          0           0  PG-2021_17  \n",
       "6               0            0          0           0  PG-2021_18  \n",
       "7               0            0          0           0  PG-2021_19  \n",
       "8               0            0          0           0   PG-2021_1  \n",
       "9               0            0          0           0  PG-2021_22  \n",
       "10              0            0          0           0  PG-2021_23  \n",
       "11              0            0          0           0  PG-2021_27  \n",
       "12              0            0          0           0  PG-2021_29  \n",
       "13              0            0          0           0   PG-2021_2  \n",
       "14              0            0          0           0  PG-2021_31  \n",
       "15              0            0          0           0  PG-2021_33  \n",
       "16              0            0          0           0  PG-2021_35  \n",
       "17              0            0          0           0  PG-2021_38  \n",
       "18              0            0          0           0  PG-2021_40  \n",
       "19              0            0          0           0  PG-2021_41  \n",
       "20              0            0          0           0  PG-2021_43  \n",
       "21              0            0          0           0  PG-2021_46  \n",
       "22              0            0          0           0  PG-2021_47  \n",
       "23              0            0          0           0   PG-2021_4  \n",
       "24              0            0          0           0   PG-2021_5  \n",
       "25              0            0          0           0  PG-2021_64  \n",
       "26              0            0          0           0  PG-2021_67  \n",
       "27              0            0          0           0  PG-2021_68  \n",
       "28              0            0          0           0  PG-2021_74  \n",
       "29              0            0          0           0  PG-2021_76  \n",
       "30              0            0          0           0  PG-2021_84  \n",
       "31              0            0          0           0  PG-2021_86  \n",
       "32              0            0          0           0  PG-2021_87  \n",
       "33              0            0          0           0  PG-2021_88  \n",
       "34              0            0          0           0  PG-2021_89  \n",
       "35              0            0          0           0   PG-2021_8  \n",
       "36              0            0          0           0  PG-2021_90  \n",
       "37              0            0          0           0  PG-2021_91  \n",
       "38              0            0          0           0  PG-2021_93  \n",
       "39              0            0          0           0   PG-2021_9  \n",
       "\n",
       "[40 rows x 621 columns]"
      ]
     },
     "execution_count": 53,
     "metadata": {},
     "output_type": "execute_result"
    }
   ],
   "source": [
    "RAFAH_StaphStudy_preds"
   ]
  },
  {
   "cell_type": "markdown",
   "metadata": {
    "collapsed": false,
    "pycharm": {
     "name": "#%% md\n"
    }
   },
   "source": [
    "Genus species level"
   ]
  },
  {
   "cell_type": "code",
   "execution_count": 53,
   "metadata": {
    "collapsed": false,
    "pycharm": {
     "name": "#%%\n"
    }
   },
   "outputs": [
    {
     "name": "stdout",
     "output_type": "stream",
     "text": [
      "39\n",
      "0\n",
      "0\n",
      "39\n"
     ]
    },
    {
     "name": "stderr",
     "output_type": "stream",
     "text": [
      "/var/folders/yy/x1x_rtqj13l_9jplp1l2hxgw0000gn/T/ipykernel_37643/530910736.py:35: FutureWarning: The frame.append method is deprecated and will be removed from pandas in a future version. Use pandas.concat instead.\n",
      "  results = results.append({'Tool' : 'RAFAH', 'Dataset' : 'StaphStudy', 'Taxa_lvl' : 'Genus', 'Correct' : correct, 'Wrong': wrong, 'Unknown': unknown}, ignore_index=True)\n",
      "/var/folders/yy/x1x_rtqj13l_9jplp1l2hxgw0000gn/T/ipykernel_37643/530910736.py:36: FutureWarning: The frame.append method is deprecated and will be removed from pandas in a future version. Use pandas.concat instead.\n",
      "  results = results.append({'Tool' : 'RAFAH', 'Dataset' : 'StaphStudy', 'Taxa_lvl' : 'Family', 'Correct' : correct, 'Wrong': wrong, 'Unknown': unknown}, ignore_index=True)\n",
      "/var/folders/yy/x1x_rtqj13l_9jplp1l2hxgw0000gn/T/ipykernel_37643/530910736.py:37: FutureWarning: The frame.append method is deprecated and will be removed from pandas in a future version. Use pandas.concat instead.\n",
      "  results = results.append({'Tool' : 'RAFAH', 'Dataset' : 'StaphStudy', 'Taxa_lvl' : 'Order', 'Correct' : correct, 'Wrong': wrong, 'Unknown': unknown}, ignore_index=True)\n",
      "/var/folders/yy/x1x_rtqj13l_9jplp1l2hxgw0000gn/T/ipykernel_37643/530910736.py:38: FutureWarning: The frame.append method is deprecated and will be removed from pandas in a future version. Use pandas.concat instead.\n",
      "  results = results.append({'Tool' : 'RAFAH', 'Dataset' : 'StaphStudy', 'Taxa_lvl' : 'Class', 'Correct' : correct, 'Wrong': wrong, 'Unknown': unknown}, ignore_index=True)\n",
      "/var/folders/yy/x1x_rtqj13l_9jplp1l2hxgw0000gn/T/ipykernel_37643/530910736.py:39: FutureWarning: The frame.append method is deprecated and will be removed from pandas in a future version. Use pandas.concat instead.\n",
      "  results = results.append({'Tool' : 'RAFAH', 'Dataset' : 'StaphStudy', 'Taxa_lvl' : 'Phylum', 'Correct' : correct, 'Wrong': wrong, 'Unknown': unknown}, ignore_index=True)\n"
     ]
    }
   ],
   "source": [
    "# initialize integers\n",
    "correct = 0\n",
    "wrong = 0\n",
    "unknown = 0\n",
    "\n",
    "# iterate through the predictions and determine accuracy\n",
    "for _, row in RAFAH_StaphStudy_preds.iterrows():\n",
    "    # retrieve phage id and prediction\n",
    "    phage = row['phagePGid']\n",
    "    hostgenus = row['Predicted_Host']\n",
    "\n",
    "    # subset hostrange dataframe for current phage\n",
    "    subset = StaphStudyHR[StaphStudyHR['phagename'] == phage]\n",
    "\n",
    "    # check if I have host range of phage of interest\n",
    "    if subset.empty:\n",
    "        continue\n",
    "    # determine accuracy\n",
    "    else:\n",
    "        known_hosts = subset['genus'].tolist()\n",
    "        if hostgenus not in known_hosts:\n",
    "            unknown += 1\n",
    "        else:\n",
    "            interaction = subset.loc[subset['genus'] == hostgenus, 'infection'].tolist()\n",
    "            if 'Inf' in interaction:\n",
    "                correct += 1\n",
    "            elif 'NoInf' in interaction:\n",
    "                wrong += 1\n",
    "\n",
    "print(correct)\n",
    "print(wrong)\n",
    "print(unknown)\n",
    "print(correct + wrong + unknown)\n",
    "\n",
    "results = results.append({'Tool' : 'RAFAH', 'Dataset' : 'StaphStudy', 'Taxa_lvl' : 'Genus', 'Correct' : correct, 'Wrong': wrong, 'Unknown': unknown}, ignore_index=True)\n",
    "results = results.append({'Tool' : 'RAFAH', 'Dataset' : 'StaphStudy', 'Taxa_lvl' : 'Family', 'Correct' : correct, 'Wrong': wrong, 'Unknown': unknown}, ignore_index=True)\n",
    "results = results.append({'Tool' : 'RAFAH', 'Dataset' : 'StaphStudy', 'Taxa_lvl' : 'Order', 'Correct' : correct, 'Wrong': wrong, 'Unknown': unknown}, ignore_index=True)\n",
    "results = results.append({'Tool' : 'RAFAH', 'Dataset' : 'StaphStudy', 'Taxa_lvl' : 'Class', 'Correct' : correct, 'Wrong': wrong, 'Unknown': unknown}, ignore_index=True)\n",
    "results = results.append({'Tool' : 'RAFAH', 'Dataset' : 'StaphStudy', 'Taxa_lvl' : 'Phylum', 'Correct' : correct, 'Wrong': wrong, 'Unknown': unknown}, ignore_index=True)\n",
    "\n"
   ]
  },
  {
   "cell_type": "markdown",
   "metadata": {
    "collapsed": false,
    "pycharm": {
     "name": "#%% md\n"
    }
   },
   "source": [
    "#### Nahant Collection\n",
    "\n",
    "Load file and format it as necessary\n"
   ]
  },
  {
   "cell_type": "code",
   "execution_count": 54,
   "metadata": {
    "collapsed": false,
    "pycharm": {
     "name": "#%%\n"
    }
   },
   "outputs": [],
   "source": [
    "# load file\n",
    "RAFAH_NahantCollection_preds = pd.read_csv('../data/predictions/RaFAH/RaFAH_NahantCollection_Host_Predictions.tsv', sep='\\t')"
   ]
  },
  {
   "cell_type": "markdown",
   "metadata": {
    "collapsed": false,
    "pycharm": {
     "name": "#%% md\n"
    }
   },
   "source": [
    "Genus level"
   ]
  },
  {
   "cell_type": "code",
   "execution_count": 55,
   "metadata": {
    "collapsed": false,
    "pycharm": {
     "name": "#%%\n"
    }
   },
   "outputs": [
    {
     "name": "stdout",
     "output_type": "stream",
     "text": [
      "84\n",
      "11\n",
      "153\n",
      "248\n"
     ]
    },
    {
     "name": "stderr",
     "output_type": "stream",
     "text": [
      "/var/folders/yy/x1x_rtqj13l_9jplp1l2hxgw0000gn/T/ipykernel_37643/2355729214.py:35: FutureWarning: The frame.append method is deprecated and will be removed from pandas in a future version. Use pandas.concat instead.\n",
      "  results = results.append({'Tool' : 'RAFAH', 'Dataset' : 'NahantCollection', 'Taxa_lvl' : 'Genus', 'Correct' : correct, 'Wrong': wrong, 'Unknown': unknown}, ignore_index=True)\n"
     ]
    }
   ],
   "source": [
    "# initialize integers\n",
    "correct = 0\n",
    "wrong = 0\n",
    "unknown = 0\n",
    "\n",
    "# iterate through the predictions and determine accuracy\n",
    "for _, row in RAFAH_NahantCollection_preds.iterrows():\n",
    "    # retrieve phage id and prediction\n",
    "    phage = row['Sequence']\n",
    "    hostgenus = row['Predicted_Host']\n",
    "\n",
    "    # subset hostrange dataframe for current phage\n",
    "    subset = NahantCollectionHR[NahantCollectionHR['phagename'] == phage]\n",
    "\n",
    "    # check if I have host range of phage of interest\n",
    "    if subset.empty:\n",
    "        continue\n",
    "    # determine accuracy\n",
    "    else:\n",
    "        known_hosts = subset['genus'].tolist()\n",
    "        if hostgenus not in known_hosts:\n",
    "            unknown += 1\n",
    "        else:\n",
    "            interaction = subset.loc[subset['genus'] == hostgenus, 'infection'].tolist()\n",
    "            if 'Inf' in interaction:\n",
    "                correct += 1\n",
    "            elif 'NoInf' in interaction:\n",
    "                wrong += 1\n",
    "\n",
    "print(correct)\n",
    "print(wrong)\n",
    "print(unknown)\n",
    "print(correct + wrong + unknown)\n",
    "\n",
    "results = results.append({'Tool' : 'RAFAH', 'Dataset' : 'NahantCollection', 'Taxa_lvl' : 'Genus', 'Correct' : correct, 'Wrong': wrong, 'Unknown': unknown}, ignore_index=True)\n",
    "\n"
   ]
  },
  {
   "cell_type": "markdown",
   "metadata": {
    "collapsed": false,
    "pycharm": {
     "name": "#%% md\n"
    }
   },
   "source": [
    "Family taxa level"
   ]
  },
  {
   "cell_type": "code",
   "execution_count": 56,
   "metadata": {
    "collapsed": false,
    "pycharm": {
     "name": "#%%\n"
    }
   },
   "outputs": [
    {
     "name": "stdout",
     "output_type": "stream",
     "text": [
      "88\n",
      "7\n",
      "153\n",
      "248\n"
     ]
    },
    {
     "name": "stderr",
     "output_type": "stream",
     "text": [
      "/var/folders/yy/x1x_rtqj13l_9jplp1l2hxgw0000gn/T/ipykernel_37643/2521979754.py:36: FutureWarning: The frame.append method is deprecated and will be removed from pandas in a future version. Use pandas.concat instead.\n",
      "  results = results.append({'Tool' : 'RAFAH', 'Dataset' : 'NahantCollection', 'Taxa_lvl' : 'Family', 'Correct' : correct, 'Wrong': wrong, 'Unknown': unknown}, ignore_index=True)\n"
     ]
    }
   ],
   "source": [
    "# initialize integers\n",
    "correct = 0\n",
    "wrong = 0\n",
    "unknown = 0\n",
    "\n",
    "# iterate through the predictions and determine accuracy\n",
    "for _, row in RAFAH_NahantCollection_preds.iterrows():\n",
    "    # retrieve phage id and prediction\n",
    "    phage = row['Sequence']\n",
    "    hostgenus = row['Predicted_Host']\n",
    "    hostpred_family = taxa.loc[taxa['Genus'] == hostgenus, 'Family'].values[0]\n",
    "\n",
    "    # subset hostrange dataframe for current phage\n",
    "    subset = NahantCollectionHR[NahantCollectionHR['phagename'] == phage]\n",
    "\n",
    "    # check if I have host range of phage of interest\n",
    "    if subset.empty:\n",
    "        continue\n",
    "    # determine accuracy\n",
    "    else:\n",
    "        known_hosts = subset['family'].tolist()\n",
    "        if hostpred_family not in known_hosts:\n",
    "            unknown += 1\n",
    "        else:\n",
    "            interaction = subset.loc[subset['family'] == hostpred_family, 'infection'].tolist()\n",
    "            if 'Inf' in interaction:\n",
    "                correct += 1\n",
    "            elif 'NoInf' in interaction:\n",
    "                wrong += 1\n",
    "\n",
    "print(correct)\n",
    "print(wrong)\n",
    "print(unknown)\n",
    "print(correct + wrong + unknown)\n",
    "\n",
    "results = results.append({'Tool' : 'RAFAH', 'Dataset' : 'NahantCollection', 'Taxa_lvl' : 'Family', 'Correct' : correct, 'Wrong': wrong, 'Unknown': unknown}, ignore_index=True)\n",
    "\n"
   ]
  },
  {
   "cell_type": "markdown",
   "metadata": {
    "collapsed": false,
    "pycharm": {
     "name": "#%% md\n"
    }
   },
   "source": [
    "Order taxa level"
   ]
  },
  {
   "cell_type": "code",
   "execution_count": 57,
   "metadata": {
    "collapsed": false,
    "pycharm": {
     "name": "#%%\n"
    }
   },
   "outputs": [
    {
     "name": "stdout",
     "output_type": "stream",
     "text": [
      "88\n",
      "31\n",
      "129\n",
      "248\n"
     ]
    },
    {
     "name": "stderr",
     "output_type": "stream",
     "text": [
      "/var/folders/yy/x1x_rtqj13l_9jplp1l2hxgw0000gn/T/ipykernel_37643/2217446707.py:36: FutureWarning: The frame.append method is deprecated and will be removed from pandas in a future version. Use pandas.concat instead.\n",
      "  results = results.append({'Tool' : 'RAFAH', 'Dataset' : 'NahantCollection', 'Taxa_lvl' : 'Order', 'Correct' : correct, 'Wrong': wrong, 'Unknown': unknown}, ignore_index=True)\n"
     ]
    }
   ],
   "source": [
    "# initialize integers\n",
    "correct = 0\n",
    "wrong = 0\n",
    "unknown = 0\n",
    "\n",
    "# iterate through the predictions and determine accuracy\n",
    "for _, row in RAFAH_NahantCollection_preds.iterrows():\n",
    "    # retrieve phage id and prediction\n",
    "    phage = row['Sequence']\n",
    "    hostgenus = row['Predicted_Host']\n",
    "    hostpred_order = taxa.loc[taxa['Genus'] == hostgenus, 'Order'].values[0]\n",
    "\n",
    "    # subset hostrange dataframe for current phage\n",
    "    subset = NahantCollectionHR[NahantCollectionHR['phagename'] == phage]\n",
    "\n",
    "    # check if I have host range of phage of interest\n",
    "    if subset.empty:\n",
    "        continue\n",
    "    # determine accuracy\n",
    "    else:\n",
    "        known_hosts = subset['order'].tolist()\n",
    "        if hostpred_order not in known_hosts:\n",
    "            unknown += 1\n",
    "        else:\n",
    "            interaction = subset.loc[subset['order'] == hostpred_order, 'infection'].tolist()\n",
    "            if 'Inf' in interaction:\n",
    "                correct += 1\n",
    "            elif 'NoInf' in interaction:\n",
    "                wrong += 1\n",
    "\n",
    "print(correct)\n",
    "print(wrong)\n",
    "print(unknown)\n",
    "print(correct + wrong + unknown)\n",
    "\n",
    "results = results.append({'Tool' : 'RAFAH', 'Dataset' : 'NahantCollection', 'Taxa_lvl' : 'Order', 'Correct' : correct, 'Wrong': wrong, 'Unknown': unknown}, ignore_index=True)\n",
    "\n"
   ]
  },
  {
   "cell_type": "markdown",
   "metadata": {
    "collapsed": false,
    "pycharm": {
     "name": "#%% md\n"
    }
   },
   "source": [
    "Class taxa level"
   ]
  },
  {
   "cell_type": "code",
   "execution_count": 58,
   "metadata": {
    "collapsed": false,
    "pycharm": {
     "name": "#%%\n"
    }
   },
   "outputs": [
    {
     "name": "stdout",
     "output_type": "stream",
     "text": [
      "204\n",
      "8\n",
      "36\n",
      "248\n"
     ]
    },
    {
     "name": "stderr",
     "output_type": "stream",
     "text": [
      "/var/folders/yy/x1x_rtqj13l_9jplp1l2hxgw0000gn/T/ipykernel_37643/2438883843.py:36: FutureWarning: The frame.append method is deprecated and will be removed from pandas in a future version. Use pandas.concat instead.\n",
      "  results = results.append({'Tool' : 'RAFAH', 'Dataset' : 'NahantCollection', 'Taxa_lvl' : 'Class', 'Correct' : correct, 'Wrong': wrong, 'Unknown': unknown}, ignore_index=True)\n"
     ]
    }
   ],
   "source": [
    "# initialize integers\n",
    "correct = 0\n",
    "wrong = 0\n",
    "unknown = 0\n",
    "\n",
    "# iterate through the predictions and determine accuracy\n",
    "for _, row in RAFAH_NahantCollection_preds.iterrows():\n",
    "    # retrieve phage id and prediction\n",
    "    phage = row['Sequence']\n",
    "    hostgenus = row['Predicted_Host']\n",
    "    hostpred_class = taxa.loc[taxa['Genus'] == hostgenus, 'Class'].values[0]\n",
    "\n",
    "    # subset hostrange dataframe for current phage\n",
    "    subset = NahantCollectionHR[NahantCollectionHR['phagename'] == phage]\n",
    "\n",
    "    # check if I have host range of phage of interest\n",
    "    if subset.empty:\n",
    "        continue\n",
    "    # determine accuracy\n",
    "    else:\n",
    "        known_hosts = subset['class'].tolist()\n",
    "        if hostpred_class not in known_hosts:\n",
    "            unknown += 1\n",
    "        else:\n",
    "            interaction = subset.loc[subset['class'] == hostpred_class, 'infection'].tolist()\n",
    "            if 'Inf' in interaction:\n",
    "                correct += 1\n",
    "            elif 'NoInf' in interaction:\n",
    "                wrong += 1\n",
    "\n",
    "print(correct)\n",
    "print(wrong)\n",
    "print(unknown)\n",
    "print(correct + wrong + unknown)\n",
    "\n",
    "results = results.append({'Tool' : 'RAFAH', 'Dataset' : 'NahantCollection', 'Taxa_lvl' : 'Class', 'Correct' : correct, 'Wrong': wrong, 'Unknown': unknown}, ignore_index=True)\n",
    "\n"
   ]
  },
  {
   "cell_type": "markdown",
   "metadata": {
    "collapsed": false,
    "pycharm": {
     "name": "#%% md\n"
    }
   },
   "source": [
    "Phylum taxa level"
   ]
  },
  {
   "cell_type": "code",
   "execution_count": 59,
   "metadata": {
    "collapsed": false,
    "pycharm": {
     "name": "#%%\n"
    }
   },
   "outputs": [
    {
     "name": "stdout",
     "output_type": "stream",
     "text": [
      "230\n",
      "8\n",
      "10\n",
      "248\n"
     ]
    },
    {
     "name": "stderr",
     "output_type": "stream",
     "text": [
      "/var/folders/yy/x1x_rtqj13l_9jplp1l2hxgw0000gn/T/ipykernel_37643/3323951267.py:36: FutureWarning: The frame.append method is deprecated and will be removed from pandas in a future version. Use pandas.concat instead.\n",
      "  results = results.append({'Tool' : 'RAFAH', 'Dataset' : 'NahantCollection', 'Taxa_lvl' : 'Phylum', 'Correct' : correct, 'Wrong': wrong, 'Unknown': unknown}, ignore_index=True)\n"
     ]
    }
   ],
   "source": [
    "# initialize integers\n",
    "correct = 0\n",
    "wrong = 0\n",
    "unknown = 0\n",
    "\n",
    "# iterate through the predictions and determine accuracy\n",
    "for _, row in RAFAH_NahantCollection_preds.iterrows():\n",
    "    # retrieve phage id and prediction\n",
    "    phage = row['Sequence']\n",
    "    hostgenus = row['Predicted_Host']\n",
    "    hostpred_phylum = taxa.loc[taxa['Genus'] == hostgenus, 'Phylum'].values[0]\n",
    "\n",
    "    # subset hostrange dataframe for current phage\n",
    "    subset = NahantCollectionHR[NahantCollectionHR['phagename'] == phage]\n",
    "\n",
    "    # check if I have host range of phage of interest\n",
    "    if subset.empty:\n",
    "        continue\n",
    "    # determine accuracy\n",
    "    else:\n",
    "        known_hosts = subset['phylum'].tolist()\n",
    "        if hostpred_phylum not in known_hosts:\n",
    "            unknown += 1\n",
    "        else:\n",
    "            interaction = subset.loc[subset['phylum'] == hostpred_phylum, 'infection'].tolist()\n",
    "            if 'Inf' in interaction:\n",
    "                correct += 1\n",
    "            elif 'NoInf' in interaction:\n",
    "                wrong += 1\n",
    "\n",
    "print(correct)\n",
    "print(wrong)\n",
    "print(unknown)\n",
    "print(correct + wrong + unknown)\n",
    "\n",
    "results = results.append({'Tool' : 'RAFAH', 'Dataset' : 'NahantCollection', 'Taxa_lvl' : 'Phylum', 'Correct' : correct, 'Wrong': wrong, 'Unknown': unknown}, ignore_index=True)\n",
    "\n"
   ]
  },
  {
   "cell_type": "markdown",
   "metadata": {},
   "source": [
    "### iPHoP (considering all predictions)\n",
    "\n",
    "10/02/2022 - I tried a new tool to predict host. This is the most recent tool to date that uses other tools to predict host.\n",
    "\n",
    "Only going to focus on the Nahant Collection and the Staph Study since I figured out those are the only one interested in predicting for. "
   ]
  },
  {
   "cell_type": "markdown",
   "metadata": {},
   "source": [
    "#### Staph Study\n",
    "\n",
    "Let's load the prediction file. "
   ]
  },
  {
   "cell_type": "code",
   "execution_count": 60,
   "metadata": {},
   "outputs": [
    {
     "data": {
      "text/html": [
       "<div>\n",
       "<style scoped>\n",
       "    .dataframe tbody tr th:only-of-type {\n",
       "        vertical-align: middle;\n",
       "    }\n",
       "\n",
       "    .dataframe tbody tr th {\n",
       "        vertical-align: top;\n",
       "    }\n",
       "\n",
       "    .dataframe thead th {\n",
       "        text-align: right;\n",
       "    }\n",
       "</style>\n",
       "<table border=\"1\" class=\"dataframe\">\n",
       "  <thead>\n",
       "    <tr style=\"text-align: right;\">\n",
       "      <th></th>\n",
       "      <th>Virus</th>\n",
       "      <th>Host genome</th>\n",
       "      <th>Host taxonomy</th>\n",
       "      <th>Main method</th>\n",
       "      <th>Confidence score</th>\n",
       "      <th>Additional methods</th>\n",
       "      <th>phagePGid</th>\n",
       "      <th>Species</th>\n",
       "      <th>Genus</th>\n",
       "      <th>Family</th>\n",
       "      <th>Order</th>\n",
       "      <th>Class</th>\n",
       "      <th>Phylum</th>\n",
       "    </tr>\n",
       "  </thead>\n",
       "  <tbody>\n",
       "    <tr>\n",
       "      <th>123</th>\n",
       "      <td>MZ417315.1</td>\n",
       "      <td>RS_GCF_002902385.1</td>\n",
       "      <td>d__Bacteria;p__Firmicutes;c__Bacilli;o__Staphy...</td>\n",
       "      <td>CRISPR</td>\n",
       "      <td>98.1</td>\n",
       "      <td>iPHoP-RF;97.10</td>\n",
       "      <td>PG-2021_10</td>\n",
       "      <td>Staphylococcus intermedius</td>\n",
       "      <td>Staphylococcus</td>\n",
       "      <td>Staphylococcaceae</td>\n",
       "      <td>Staphylococcales</td>\n",
       "      <td>Bacilli</td>\n",
       "      <td>Firmicutes</td>\n",
       "    </tr>\n",
       "    <tr>\n",
       "      <th>124</th>\n",
       "      <td>MZ417315.1</td>\n",
       "      <td>RS_GCF_900636325.1</td>\n",
       "      <td>d__Bacteria;p__Firmicutes;c__Bacilli;o__Staphy...</td>\n",
       "      <td>CRISPR</td>\n",
       "      <td>97.6</td>\n",
       "      <td>iPHoP-RF;97.10</td>\n",
       "      <td>PG-2021_10</td>\n",
       "      <td>Staphylococcus delphini</td>\n",
       "      <td>Staphylococcus</td>\n",
       "      <td>Staphylococcaceae</td>\n",
       "      <td>Staphylococcales</td>\n",
       "      <td>Bacilli</td>\n",
       "      <td>Firmicutes</td>\n",
       "    </tr>\n",
       "    <tr>\n",
       "      <th>125</th>\n",
       "      <td>MZ417315.1</td>\n",
       "      <td>RS_GCF_000010125.1</td>\n",
       "      <td>d__Bacteria;p__Firmicutes;c__Bacilli;o__Staphy...</td>\n",
       "      <td>iPHoP-RF</td>\n",
       "      <td>97.1</td>\n",
       "      <td>None</td>\n",
       "      <td>PG-2021_10</td>\n",
       "      <td>Staphylococcus saprophyticus</td>\n",
       "      <td>Staphylococcus</td>\n",
       "      <td>Staphylococcaceae</td>\n",
       "      <td>Staphylococcales</td>\n",
       "      <td>Bacilli</td>\n",
       "      <td>Firmicutes</td>\n",
       "    </tr>\n",
       "    <tr>\n",
       "      <th>126</th>\n",
       "      <td>MZ417315.1</td>\n",
       "      <td>RS_GCF_000236925.1</td>\n",
       "      <td>d__Bacteria;p__Firmicutes;c__Bacilli;o__Staphy...</td>\n",
       "      <td>iPHoP-RF</td>\n",
       "      <td>97.1</td>\n",
       "      <td>None</td>\n",
       "      <td>PG-2021_10</td>\n",
       "      <td>Staphylococcus argenteus</td>\n",
       "      <td>Staphylococcus</td>\n",
       "      <td>Staphylococcaceae</td>\n",
       "      <td>Staphylococcales</td>\n",
       "      <td>Bacilli</td>\n",
       "      <td>Firmicutes</td>\n",
       "    </tr>\n",
       "    <tr>\n",
       "      <th>127</th>\n",
       "      <td>MZ417315.1</td>\n",
       "      <td>RS_GCF_000338275.1</td>\n",
       "      <td>d__Bacteria;p__Firmicutes;c__Bacilli;o__Staphy...</td>\n",
       "      <td>iPHoP-RF</td>\n",
       "      <td>97.1</td>\n",
       "      <td>None</td>\n",
       "      <td>PG-2021_10</td>\n",
       "      <td>Staphylococcus xylosus_B</td>\n",
       "      <td>Staphylococcus</td>\n",
       "      <td>Staphylococcaceae</td>\n",
       "      <td>Staphylococcales</td>\n",
       "      <td>Bacilli</td>\n",
       "      <td>Firmicutes</td>\n",
       "    </tr>\n",
       "    <tr>\n",
       "      <th>...</th>\n",
       "      <td>...</td>\n",
       "      <td>...</td>\n",
       "      <td>...</td>\n",
       "      <td>...</td>\n",
       "      <td>...</td>\n",
       "      <td>...</td>\n",
       "      <td>...</td>\n",
       "      <td>...</td>\n",
       "      <td>...</td>\n",
       "      <td>...</td>\n",
       "      <td>...</td>\n",
       "      <td>...</td>\n",
       "      <td>...</td>\n",
       "    </tr>\n",
       "    <tr>\n",
       "      <th>674</th>\n",
       "      <td>MZ417354.1</td>\n",
       "      <td>RS_GCF_002902325.1</td>\n",
       "      <td>d__Bacteria;p__Firmicutes;c__Bacilli;o__Staphy...</td>\n",
       "      <td>iPHoP-RF</td>\n",
       "      <td>97.1</td>\n",
       "      <td>CRISPR;96.40</td>\n",
       "      <td>PG-2021_9</td>\n",
       "      <td>Staphylococcus capitis</td>\n",
       "      <td>Staphylococcus</td>\n",
       "      <td>Staphylococcaceae</td>\n",
       "      <td>Staphylococcales</td>\n",
       "      <td>Bacilli</td>\n",
       "      <td>Firmicutes</td>\n",
       "    </tr>\n",
       "    <tr>\n",
       "      <th>675</th>\n",
       "      <td>MZ417354.1</td>\n",
       "      <td>RS_GCF_002902345.1</td>\n",
       "      <td>d__Bacteria;p__Firmicutes;c__Bacilli;o__Staphy...</td>\n",
       "      <td>iPHoP-RF</td>\n",
       "      <td>97.1</td>\n",
       "      <td>CRISPR;96.50</td>\n",
       "      <td>PG-2021_9</td>\n",
       "      <td>Staphylococcus arlettae</td>\n",
       "      <td>Staphylococcus</td>\n",
       "      <td>Staphylococcaceae</td>\n",
       "      <td>Staphylococcales</td>\n",
       "      <td>Bacilli</td>\n",
       "      <td>Firmicutes</td>\n",
       "    </tr>\n",
       "    <tr>\n",
       "      <th>676</th>\n",
       "      <td>MZ417354.1</td>\n",
       "      <td>RS_GCF_003697915.1</td>\n",
       "      <td>d__Bacteria;p__Firmicutes;c__Bacilli;o__Staphy...</td>\n",
       "      <td>iPHoP-RF</td>\n",
       "      <td>96.7</td>\n",
       "      <td>None</td>\n",
       "      <td>PG-2021_9</td>\n",
       "      <td>Staphylococcus pseudoxylosus</td>\n",
       "      <td>Staphylococcus</td>\n",
       "      <td>Staphylococcaceae</td>\n",
       "      <td>Staphylococcales</td>\n",
       "      <td>Bacilli</td>\n",
       "      <td>Firmicutes</td>\n",
       "    </tr>\n",
       "    <tr>\n",
       "      <th>677</th>\n",
       "      <td>MZ417354.1</td>\n",
       "      <td>RS_GCF_001431205.1</td>\n",
       "      <td>d__Bacteria;p__Firmicutes;c__Bacilli;o__Staphy...</td>\n",
       "      <td>iPHoP-RF</td>\n",
       "      <td>96.1</td>\n",
       "      <td>None</td>\n",
       "      <td>PG-2021_9</td>\n",
       "      <td>Staphylococcus sp001431205</td>\n",
       "      <td>Staphylococcus</td>\n",
       "      <td>Staphylococcaceae</td>\n",
       "      <td>Staphylococcales</td>\n",
       "      <td>Bacilli</td>\n",
       "      <td>Firmicutes</td>\n",
       "    </tr>\n",
       "    <tr>\n",
       "      <th>678</th>\n",
       "      <td>MZ417354.1</td>\n",
       "      <td>RS_GCF_003417065.1</td>\n",
       "      <td>d__Bacteria;p__Bacteroidota;c__Bacteroidia;o__...</td>\n",
       "      <td>blast</td>\n",
       "      <td>92.0</td>\n",
       "      <td>iPHoP-RF;54.90</td>\n",
       "      <td>PG-2021_9</td>\n",
       "      <td>Hymenobacter sp003417065</td>\n",
       "      <td>Hymenobacter</td>\n",
       "      <td>Hymenobacteraceae</td>\n",
       "      <td>Cytophagales</td>\n",
       "      <td>Bacteroidia</td>\n",
       "      <td>Bacteroidota</td>\n",
       "    </tr>\n",
       "  </tbody>\n",
       "</table>\n",
       "<p>556 rows × 13 columns</p>\n",
       "</div>"
      ],
      "text/plain": [
       "          Virus         Host genome  \\\n",
       "123  MZ417315.1  RS_GCF_002902385.1   \n",
       "124  MZ417315.1  RS_GCF_900636325.1   \n",
       "125  MZ417315.1  RS_GCF_000010125.1   \n",
       "126  MZ417315.1  RS_GCF_000236925.1   \n",
       "127  MZ417315.1  RS_GCF_000338275.1   \n",
       "..          ...                 ...   \n",
       "674  MZ417354.1  RS_GCF_002902325.1   \n",
       "675  MZ417354.1  RS_GCF_002902345.1   \n",
       "676  MZ417354.1  RS_GCF_003697915.1   \n",
       "677  MZ417354.1  RS_GCF_001431205.1   \n",
       "678  MZ417354.1  RS_GCF_003417065.1   \n",
       "\n",
       "                                         Host taxonomy Main method  \\\n",
       "123  d__Bacteria;p__Firmicutes;c__Bacilli;o__Staphy...      CRISPR   \n",
       "124  d__Bacteria;p__Firmicutes;c__Bacilli;o__Staphy...      CRISPR   \n",
       "125  d__Bacteria;p__Firmicutes;c__Bacilli;o__Staphy...    iPHoP-RF   \n",
       "126  d__Bacteria;p__Firmicutes;c__Bacilli;o__Staphy...    iPHoP-RF   \n",
       "127  d__Bacteria;p__Firmicutes;c__Bacilli;o__Staphy...    iPHoP-RF   \n",
       "..                                                 ...         ...   \n",
       "674  d__Bacteria;p__Firmicutes;c__Bacilli;o__Staphy...    iPHoP-RF   \n",
       "675  d__Bacteria;p__Firmicutes;c__Bacilli;o__Staphy...    iPHoP-RF   \n",
       "676  d__Bacteria;p__Firmicutes;c__Bacilli;o__Staphy...    iPHoP-RF   \n",
       "677  d__Bacteria;p__Firmicutes;c__Bacilli;o__Staphy...    iPHoP-RF   \n",
       "678  d__Bacteria;p__Bacteroidota;c__Bacteroidia;o__...       blast   \n",
       "\n",
       "     Confidence score Additional methods   phagePGid  \\\n",
       "123              98.1     iPHoP-RF;97.10  PG-2021_10   \n",
       "124              97.6     iPHoP-RF;97.10  PG-2021_10   \n",
       "125              97.1               None  PG-2021_10   \n",
       "126              97.1               None  PG-2021_10   \n",
       "127              97.1               None  PG-2021_10   \n",
       "..                ...                ...         ...   \n",
       "674              97.1       CRISPR;96.40   PG-2021_9   \n",
       "675              97.1       CRISPR;96.50   PG-2021_9   \n",
       "676              96.7               None   PG-2021_9   \n",
       "677              96.1               None   PG-2021_9   \n",
       "678              92.0     iPHoP-RF;54.90   PG-2021_9   \n",
       "\n",
       "                          Species           Genus             Family  \\\n",
       "123    Staphylococcus intermedius  Staphylococcus  Staphylococcaceae   \n",
       "124       Staphylococcus delphini  Staphylococcus  Staphylococcaceae   \n",
       "125  Staphylococcus saprophyticus  Staphylococcus  Staphylococcaceae   \n",
       "126      Staphylococcus argenteus  Staphylococcus  Staphylococcaceae   \n",
       "127      Staphylococcus xylosus_B  Staphylococcus  Staphylococcaceae   \n",
       "..                            ...             ...                ...   \n",
       "674        Staphylococcus capitis  Staphylococcus  Staphylococcaceae   \n",
       "675       Staphylococcus arlettae  Staphylococcus  Staphylococcaceae   \n",
       "676  Staphylococcus pseudoxylosus  Staphylococcus  Staphylococcaceae   \n",
       "677    Staphylococcus sp001431205  Staphylococcus  Staphylococcaceae   \n",
       "678      Hymenobacter sp003417065    Hymenobacter  Hymenobacteraceae   \n",
       "\n",
       "                Order        Class        Phylum  \n",
       "123  Staphylococcales      Bacilli    Firmicutes  \n",
       "124  Staphylococcales      Bacilli    Firmicutes  \n",
       "125  Staphylococcales      Bacilli    Firmicutes  \n",
       "126  Staphylococcales      Bacilli    Firmicutes  \n",
       "127  Staphylococcales      Bacilli    Firmicutes  \n",
       "..                ...          ...           ...  \n",
       "674  Staphylococcales      Bacilli    Firmicutes  \n",
       "675  Staphylococcales      Bacilli    Firmicutes  \n",
       "676  Staphylococcales      Bacilli    Firmicutes  \n",
       "677  Staphylococcales      Bacilli    Firmicutes  \n",
       "678      Cytophagales  Bacteroidia  Bacteroidota  \n",
       "\n",
       "[556 rows x 13 columns]"
      ]
     },
     "execution_count": 60,
     "metadata": {},
     "output_type": "execute_result"
    }
   ],
   "source": [
    "# load file\n",
    "iPHoP_StaphStudy_preds = pd.read_csv('../data/predictions/iPHoP/StaphStudy_Host_prediction_to_genome_m90.csv', sep=',')\n",
    "\n",
    "# reformat the phage name to fit the format that I have\n",
    "phagenames = iPHoP_StaphStudy_preds['Virus']\n",
    "newnames = []\n",
    "for name in phagenames:\n",
    "    if name not in StaphStudy_virusnames['accession'].tolist():\n",
    "        PGid = 'NA'\n",
    "    else:\n",
    "        PGid = StaphStudy_virusnames.loc[StaphStudy_virusnames['accession'] == name, 'phagename'].values[0]\n",
    "    newnames.append(PGid)\n",
    "iPHoP_StaphStudy_preds['phagePGid'] = newnames\n",
    "\n",
    "# reformat prediction \n",
    "Species = []\n",
    "Genus = []\n",
    "Family = []\n",
    "Order = []\n",
    "Class = []\n",
    "Phylum = []\n",
    "\n",
    "for _, row in iPHoP_StaphStudy_preds.iterrows():\n",
    "    taxa = row['Host taxonomy'].split(';')\n",
    "    Phylum.append(taxa[1].lstrip('p__'))\n",
    "    Class.append(taxa[2].lstrip('c__'))\n",
    "    Order.append(taxa[3].lstrip('o__'))\n",
    "    Family.append(taxa[4].lstrip('f__'))\n",
    "    Genus.append(taxa[5].lstrip('g__'))\n",
    "    Species.append(taxa[6].lstrip('s__'))\n",
    "\n",
    "iPHoP_StaphStudy_preds['Species'] = Species\n",
    "iPHoP_StaphStudy_preds['Genus'] = Genus\n",
    "iPHoP_StaphStudy_preds['Family'] = Family\n",
    "iPHoP_StaphStudy_preds['Order'] = Order\n",
    "iPHoP_StaphStudy_preds['Class'] = Class\n",
    "iPHoP_StaphStudy_preds['Phylum'] = Phylum\n",
    "\n",
    "iPHoP_StaphStudy_preds = iPHoP_StaphStudy_preds[iPHoP_StaphStudy_preds['phagePGid'] != 'NA']\n",
    "iPHoP_StaphStudy_preds"
   ]
  },
  {
   "cell_type": "markdown",
   "metadata": {},
   "source": [
    "##### Species level"
   ]
  },
  {
   "cell_type": "code",
   "execution_count": 61,
   "metadata": {},
   "outputs": [
    {
     "name": "stdout",
     "output_type": "stream",
     "text": [
      "86\n",
      "114\n",
      "324\n",
      "524\n"
     ]
    },
    {
     "name": "stderr",
     "output_type": "stream",
     "text": [
      "/var/folders/yy/x1x_rtqj13l_9jplp1l2hxgw0000gn/T/ipykernel_37643/3018864843.py:35: FutureWarning: The frame.append method is deprecated and will be removed from pandas in a future version. Use pandas.concat instead.\n",
      "  results = results.append({'Tool' : 'iPHoP', 'Dataset' : 'StaphStudy', 'Taxa_lvl' : 'Species', 'Correct' : correct, 'Wrong': wrong, 'Unknown': unknown}, ignore_index=True)\n"
     ]
    }
   ],
   "source": [
    "# initialize integers\n",
    "correct = 0\n",
    "wrong = 0\n",
    "unknown = 0\n",
    "\n",
    "# iterate through the prediction and determine accuracy\n",
    "for _, row in iPHoP_StaphStudy_preds.iterrows():\n",
    "    # retrieve phage id and prediction\n",
    "    phage = row['phagePGid']\n",
    "    hostpred = row['Species'].replace(' ', '_')\n",
    "\n",
    "    # subset hostrange dataframe for current phage\n",
    "    subset = StaphStudyHR[StaphStudyHR['phagename'] == phage]\n",
    "\n",
    "    # check if I have host of phage of interest\n",
    "    if subset.empty:\n",
    "        continue\n",
    "    # determine accuracy\n",
    "    else:\n",
    "        known_hosts = subset['hostname'].tolist()\n",
    "        if hostpred not in known_hosts:\n",
    "            unknown += 1\n",
    "        else:\n",
    "            interaction = subset.loc[subset['hostname'] == hostpred, 'infection'].tolist()\n",
    "            if 'Inf' in interaction:\n",
    "                correct += 1\n",
    "            elif 'NoInf' in interaction:\n",
    "                wrong += 1\n",
    "\n",
    "print(correct)\n",
    "print(wrong)\n",
    "print(unknown)\n",
    "print(correct + wrong + unknown)\n",
    "\n",
    "results = results.append({'Tool' : 'iPHoP', 'Dataset' : 'StaphStudy', 'Taxa_lvl' : 'Species', 'Correct' : correct, 'Wrong': wrong, 'Unknown': unknown}, ignore_index=True)\n"
   ]
  },
  {
   "cell_type": "markdown",
   "metadata": {},
   "source": [
    "##### Genus level"
   ]
  },
  {
   "cell_type": "code",
   "execution_count": 62,
   "metadata": {},
   "outputs": [
    {
     "name": "stdout",
     "output_type": "stream",
     "text": [
      "503\n",
      "0\n",
      "21\n",
      "524\n"
     ]
    },
    {
     "name": "stderr",
     "output_type": "stream",
     "text": [
      "/var/folders/yy/x1x_rtqj13l_9jplp1l2hxgw0000gn/T/ipykernel_37643/1823049242.py:35: FutureWarning: The frame.append method is deprecated and will be removed from pandas in a future version. Use pandas.concat instead.\n",
      "  results = results.append({'Tool' : 'iPHoP', 'Dataset' : 'StaphStudy', 'Taxa_lvl' : 'Genus', 'Correct' : correct, 'Wrong': wrong, 'Unknown': unknown}, ignore_index=True)\n"
     ]
    }
   ],
   "source": [
    "# initialize integers\n",
    "correct = 0\n",
    "wrong = 0\n",
    "unknown = 0\n",
    "\n",
    "# iterate through the predictions and determine accuracy\n",
    "for _, row in iPHoP_StaphStudy_preds.iterrows():\n",
    "    # retrieve phage id and prediction\n",
    "    phage = row['phagePGid']\n",
    "    hostgenus = row['Genus']\n",
    "\n",
    "    # subset hostrange dataframe for current phage\n",
    "    subset = StaphStudyHR[StaphStudyHR['phagename'] == phage]\n",
    "\n",
    "    # check if I have host range of phage of interest\n",
    "    if subset.empty:\n",
    "        continue\n",
    "    # determine accuracy\n",
    "    else:\n",
    "        known_hosts = subset['genus'].tolist()\n",
    "        if hostgenus not in known_hosts:\n",
    "            unknown += 1\n",
    "        else:\n",
    "            interaction = subset.loc[subset['genus'] == hostgenus, 'infection'].tolist()\n",
    "            if 'Inf' in interaction:\n",
    "                correct += 1\n",
    "            elif 'NoInf' in interaction:\n",
    "                wrong += 1\n",
    "\n",
    "print(correct)\n",
    "print(wrong)\n",
    "print(unknown)\n",
    "print(correct + wrong + unknown)\n",
    "\n",
    "results = results.append({'Tool' : 'iPHoP', 'Dataset' : 'StaphStudy', 'Taxa_lvl' : 'Genus', 'Correct' : correct, 'Wrong': wrong, 'Unknown': unknown}, ignore_index=True)\n"
   ]
  },
  {
   "cell_type": "markdown",
   "metadata": {},
   "source": [
    "##### Family level"
   ]
  },
  {
   "cell_type": "code",
   "execution_count": 63,
   "metadata": {},
   "outputs": [
    {
     "name": "stdout",
     "output_type": "stream",
     "text": [
      "503\n",
      "0\n",
      "21\n",
      "524\n"
     ]
    },
    {
     "name": "stderr",
     "output_type": "stream",
     "text": [
      "/var/folders/yy/x1x_rtqj13l_9jplp1l2hxgw0000gn/T/ipykernel_37643/3798743924.py:35: FutureWarning: The frame.append method is deprecated and will be removed from pandas in a future version. Use pandas.concat instead.\n",
      "  results = results.append({'Tool' : 'iPHoP', 'Dataset' : 'StaphStudy', 'Taxa_lvl' : 'Family', 'Correct' : correct, 'Wrong': wrong, 'Unknown': unknown}, ignore_index=True)\n"
     ]
    }
   ],
   "source": [
    " # initialize integers\n",
    "correct = 0\n",
    "wrong = 0\n",
    "unknown = 0\n",
    "\n",
    "# iterate through the predictions and determine accuracy\n",
    "for _, row in iPHoP_StaphStudy_preds.iterrows():\n",
    "    # retrieve phage id and prediction\n",
    "    phage = row['phagePGid']\n",
    "    hostfamily = row['Family']\n",
    "\n",
    "    # subset hostrange dataframe for current phage\n",
    "    subset = StaphStudyHR[StaphStudyHR['phagename'] == phage]\n",
    "\n",
    "    # check if I have host range of phage of interest\n",
    "    if subset.empty:\n",
    "        continue\n",
    "    # determine accuracy\n",
    "    else:\n",
    "        known_hosts = subset['family'].tolist()\n",
    "        if hostfamily not in known_hosts:\n",
    "            unknown += 1\n",
    "        else:\n",
    "            interaction = subset.loc[subset['family'] == hostfamily, 'infection'].tolist()\n",
    "            if 'Inf' in interaction:\n",
    "                correct += 1\n",
    "            elif 'NoInf' in interaction:\n",
    "                wrong += 1\n",
    "\n",
    "print(correct)\n",
    "print(wrong)\n",
    "print(unknown)\n",
    "print(correct + wrong + unknown)\n",
    "\n",
    "results = results.append({'Tool' : 'iPHoP', 'Dataset' : 'StaphStudy', 'Taxa_lvl' : 'Family', 'Correct' : correct, 'Wrong': wrong, 'Unknown': unknown}, ignore_index=True)\n"
   ]
  },
  {
   "cell_type": "markdown",
   "metadata": {},
   "source": [
    "##### Order level"
   ]
  },
  {
   "cell_type": "code",
   "execution_count": 64,
   "metadata": {},
   "outputs": [
    {
     "name": "stdout",
     "output_type": "stream",
     "text": [
      "0\n",
      "0\n",
      "524\n",
      "524\n"
     ]
    }
   ],
   "source": [
    " # initialize integers\n",
    "correct = 0\n",
    "wrong = 0\n",
    "unknown = 0\n",
    "\n",
    "# iterate through the predictions and determine accuracy\n",
    "for _, row in iPHoP_StaphStudy_preds.iterrows():\n",
    "    # retrieve phage id and prediction\n",
    "    phage = row['phagePGid']\n",
    "    hostpred = row['Order']\n",
    "\n",
    "    # subset hostrange dataframe for current phage\n",
    "    subset = StaphStudyHR[StaphStudyHR['phagename'] == phage]\n",
    "\n",
    "    # check if I have host range of phage of interest\n",
    "    if subset.empty:\n",
    "        continue\n",
    "    # determine accuracy\n",
    "    else:\n",
    "        known_hosts = subset['order'].tolist()\n",
    "        if hostpred not in known_hosts:\n",
    "            unknown += 1\n",
    "        else:\n",
    "            interaction = subset.loc[subset['order'] == hostfamily, 'infection'].tolist()\n",
    "            if 'Inf' in interaction:\n",
    "                correct += 1\n",
    "            elif 'NoInf' in interaction:\n",
    "                wrong += 1\n",
    "\n",
    "print(correct)\n",
    "print(wrong)\n",
    "print(unknown)\n",
    "print(correct + wrong + unknown)"
   ]
  },
  {
   "cell_type": "markdown",
   "metadata": {},
   "source": [
    "Having weird issues above because of taxa mistmatch (Stahpylococcale versus Bacillale). Hopefully I will not have those issues with the Nahant Collection. \n",
    "\n",
    "In the meantime, because all the host in the Staph Study were Bacillale, it as simple as comparing how many were predicted as Staphylococcale versus not. "
   ]
  },
  {
   "cell_type": "code",
   "execution_count": 65,
   "metadata": {},
   "outputs": [
    {
     "name": "stderr",
     "output_type": "stream",
     "text": [
      "/var/folders/yy/x1x_rtqj13l_9jplp1l2hxgw0000gn/T/ipykernel_37643/2679172136.py:5: FutureWarning: The frame.append method is deprecated and will be removed from pandas in a future version. Use pandas.concat instead.\n",
      "  results = results.append({'Tool' : 'iPHoP', 'Dataset' : 'StaphStudy', 'Taxa_lvl' : 'Order', 'Correct' : correct, 'Wrong': wrong, 'Unknown': unknown}, ignore_index=True)\n"
     ]
    }
   ],
   "source": [
    "correct = 503\n",
    "wrong = 0\n",
    "unknown = 21\n",
    "\n",
    "results = results.append({'Tool' : 'iPHoP', 'Dataset' : 'StaphStudy', 'Taxa_lvl' : 'Order', 'Correct' : correct, 'Wrong': wrong, 'Unknown': unknown}, ignore_index=True)\n"
   ]
  },
  {
   "cell_type": "markdown",
   "metadata": {},
   "source": [
    "##### Class level"
   ]
  },
  {
   "cell_type": "code",
   "execution_count": 66,
   "metadata": {},
   "outputs": [
    {
     "name": "stdout",
     "output_type": "stream",
     "text": [
      "503\n",
      "0\n",
      "21\n",
      "524\n"
     ]
    },
    {
     "name": "stderr",
     "output_type": "stream",
     "text": [
      "/var/folders/yy/x1x_rtqj13l_9jplp1l2hxgw0000gn/T/ipykernel_37643/2660217046.py:35: FutureWarning: The frame.append method is deprecated and will be removed from pandas in a future version. Use pandas.concat instead.\n",
      "  results = results.append({'Tool' : 'iPHoP', 'Dataset' : 'StaphStudy', 'Taxa_lvl' : 'Class', 'Correct' : correct, 'Wrong': wrong, 'Unknown': unknown}, ignore_index=True)\n"
     ]
    }
   ],
   "source": [
    " # initialize integers\n",
    "correct = 0\n",
    "wrong = 0\n",
    "unknown = 0\n",
    "\n",
    "# iterate through the predictions and determine accuracy\n",
    "for _, row in iPHoP_StaphStudy_preds.iterrows():\n",
    "    # retrieve phage id and prediction\n",
    "    phage = row['phagePGid']\n",
    "    hostclass = row['Class']\n",
    "\n",
    "    # subset hostrange dataframe for current phage\n",
    "    subset = StaphStudyHR[StaphStudyHR['phagename'] == phage]\n",
    "\n",
    "    # check if I have host range of phage of interest\n",
    "    if subset.empty:\n",
    "        continue\n",
    "    # determine accuracy\n",
    "    else:\n",
    "        known_hosts = subset['class'].tolist()\n",
    "        if hostclass not in known_hosts:\n",
    "            unknown += 1\n",
    "        else:\n",
    "            interaction = subset.loc[subset['class'] == hostclass, 'infection'].tolist()\n",
    "            if 'Inf' in interaction:\n",
    "                correct += 1\n",
    "            elif 'NoInf' in interaction:\n",
    "                wrong += 1\n",
    "\n",
    "print(correct)\n",
    "print(wrong)\n",
    "print(unknown)\n",
    "print(correct + wrong + unknown)\n",
    "\n",
    "results = results.append({'Tool' : 'iPHoP', 'Dataset' : 'StaphStudy', 'Taxa_lvl' : 'Class', 'Correct' : correct, 'Wrong': wrong, 'Unknown': unknown}, ignore_index=True)\n"
   ]
  },
  {
   "cell_type": "markdown",
   "metadata": {},
   "source": [
    "##### Phylum"
   ]
  },
  {
   "cell_type": "code",
   "execution_count": 67,
   "metadata": {},
   "outputs": [
    {
     "name": "stdout",
     "output_type": "stream",
     "text": [
      "503\n",
      "0\n",
      "21\n",
      "524\n"
     ]
    },
    {
     "name": "stderr",
     "output_type": "stream",
     "text": [
      "/var/folders/yy/x1x_rtqj13l_9jplp1l2hxgw0000gn/T/ipykernel_37643/250894921.py:35: FutureWarning: The frame.append method is deprecated and will be removed from pandas in a future version. Use pandas.concat instead.\n",
      "  results = results.append({'Tool' : 'iPHoP', 'Dataset' : 'StaphStudy', 'Taxa_lvl' : 'Phylum', 'Correct' : correct, 'Wrong': wrong, 'Unknown': unknown}, ignore_index=True)\n"
     ]
    }
   ],
   "source": [
    " # initialize integers\n",
    "correct = 0\n",
    "wrong = 0\n",
    "unknown = 0\n",
    "\n",
    "# iterate through the predictions and determine accuracy\n",
    "for _, row in iPHoP_StaphStudy_preds.iterrows():\n",
    "    # retrieve phage id and prediction\n",
    "    phage = row['phagePGid']\n",
    "    hostphylum = row['Phylum']\n",
    "\n",
    "    # subset hostrange dataframe for current phage\n",
    "    subset = StaphStudyHR[StaphStudyHR['phagename'] == phage]\n",
    "\n",
    "    # check if I have host range of phage of interest\n",
    "    if subset.empty:\n",
    "        continue\n",
    "    # determine accuracy\n",
    "    else:\n",
    "        known_hosts = subset['phylum'].tolist()\n",
    "        if hostphylum not in known_hosts:\n",
    "            unknown += 1\n",
    "        else:\n",
    "            interaction = subset.loc[subset['phylum'] == hostphylum, 'infection'].tolist()\n",
    "            if 'Inf' in interaction:\n",
    "                correct += 1\n",
    "            elif 'NoInf' in interaction:\n",
    "                wrong += 1\n",
    "\n",
    "print(correct)\n",
    "print(wrong)\n",
    "print(unknown)\n",
    "print(correct + wrong + unknown)\n",
    "\n",
    "results = results.append({'Tool' : 'iPHoP', 'Dataset' : 'StaphStudy', 'Taxa_lvl' : 'Phylum', 'Correct' : correct, 'Wrong': wrong, 'Unknown': unknown}, ignore_index=True)"
   ]
  },
  {
   "cell_type": "markdown",
   "metadata": {},
   "source": [
    "#### Nahant Collection"
   ]
  },
  {
   "cell_type": "code",
   "execution_count": 68,
   "metadata": {},
   "outputs": [
    {
     "data": {
      "text/html": [
       "<div>\n",
       "<style scoped>\n",
       "    .dataframe tbody tr th:only-of-type {\n",
       "        vertical-align: middle;\n",
       "    }\n",
       "\n",
       "    .dataframe tbody tr th {\n",
       "        vertical-align: top;\n",
       "    }\n",
       "\n",
       "    .dataframe thead th {\n",
       "        text-align: right;\n",
       "    }\n",
       "</style>\n",
       "<table border=\"1\" class=\"dataframe\">\n",
       "  <thead>\n",
       "    <tr style=\"text-align: right;\">\n",
       "      <th></th>\n",
       "      <th>Virus</th>\n",
       "      <th>Host genome</th>\n",
       "      <th>Host taxonomy</th>\n",
       "      <th>Main method</th>\n",
       "      <th>Confidence score</th>\n",
       "      <th>Additional methods</th>\n",
       "      <th>Species</th>\n",
       "      <th>Genus</th>\n",
       "      <th>Family</th>\n",
       "      <th>Order</th>\n",
       "      <th>Class</th>\n",
       "      <th>Phylum</th>\n",
       "    </tr>\n",
       "  </thead>\n",
       "  <tbody>\n",
       "    <tr>\n",
       "      <th>123</th>\n",
       "      <td>MG592390.1</td>\n",
       "      <td>RS_GCF_006538565.1</td>\n",
       "      <td>d__Bacteria;p__Proteobacteria;c__Gammaproteoba...</td>\n",
       "      <td>iPHoP-RF</td>\n",
       "      <td>96.4</td>\n",
       "      <td>None</td>\n",
       "      <td>Vibrio comitans</td>\n",
       "      <td>Vibrio</td>\n",
       "      <td>Vibrionaceae</td>\n",
       "      <td>Enterobacterales</td>\n",
       "      <td>Gammaproteobacteria</td>\n",
       "      <td>Proteobacteria</td>\n",
       "    </tr>\n",
       "    <tr>\n",
       "      <th>124</th>\n",
       "      <td>MG592390.1</td>\n",
       "      <td>RS_GCF_000316985.1</td>\n",
       "      <td>d__Bacteria;p__Proteobacteria;c__Gammaproteoba...</td>\n",
       "      <td>iPHoP-RF</td>\n",
       "      <td>95.7</td>\n",
       "      <td>None</td>\n",
       "      <td>Vibrio sp000316985</td>\n",
       "      <td>Vibrio</td>\n",
       "      <td>Vibrionaceae</td>\n",
       "      <td>Enterobacterales</td>\n",
       "      <td>Gammaproteobacteria</td>\n",
       "      <td>Proteobacteria</td>\n",
       "    </tr>\n",
       "    <tr>\n",
       "      <th>125</th>\n",
       "      <td>MG592390.1</td>\n",
       "      <td>RS_GCF_013394185.1</td>\n",
       "      <td>d__Bacteria;p__Proteobacteria;c__Gammaproteoba...</td>\n",
       "      <td>iPHoP-RF</td>\n",
       "      <td>95.7</td>\n",
       "      <td>None</td>\n",
       "      <td>Vibrio sp013394185</td>\n",
       "      <td>Vibrio</td>\n",
       "      <td>Vibrionaceae</td>\n",
       "      <td>Enterobacterales</td>\n",
       "      <td>Gammaproteobacteria</td>\n",
       "      <td>Proteobacteria</td>\n",
       "    </tr>\n",
       "    <tr>\n",
       "      <th>126</th>\n",
       "      <td>MG592390.1</td>\n",
       "      <td>RS_GCF_000272045.2</td>\n",
       "      <td>d__Bacteria;p__Proteobacteria;c__Gammaproteoba...</td>\n",
       "      <td>iPHoP-RF</td>\n",
       "      <td>95.4</td>\n",
       "      <td>None</td>\n",
       "      <td>Vibrio crassostreae_C</td>\n",
       "      <td>Vibrio</td>\n",
       "      <td>Vibrionaceae</td>\n",
       "      <td>Enterobacterales</td>\n",
       "      <td>Gammaproteobacteria</td>\n",
       "      <td>Proteobacteria</td>\n",
       "    </tr>\n",
       "    <tr>\n",
       "      <th>127</th>\n",
       "      <td>MG592390.1</td>\n",
       "      <td>RS_GCF_001048535.1</td>\n",
       "      <td>d__Bacteria;p__Proteobacteria;c__Gammaproteoba...</td>\n",
       "      <td>iPHoP-RF</td>\n",
       "      <td>95.4</td>\n",
       "      <td>None</td>\n",
       "      <td>Vibrio crassostreae</td>\n",
       "      <td>Vibrio</td>\n",
       "      <td>Vibrionaceae</td>\n",
       "      <td>Enterobacterales</td>\n",
       "      <td>Gammaproteobacteria</td>\n",
       "      <td>Proteobacteria</td>\n",
       "    </tr>\n",
       "    <tr>\n",
       "      <th>...</th>\n",
       "      <td>...</td>\n",
       "      <td>...</td>\n",
       "      <td>...</td>\n",
       "      <td>...</td>\n",
       "      <td>...</td>\n",
       "      <td>...</td>\n",
       "      <td>...</td>\n",
       "      <td>...</td>\n",
       "      <td>...</td>\n",
       "      <td>...</td>\n",
       "      <td>...</td>\n",
       "      <td>...</td>\n",
       "    </tr>\n",
       "    <tr>\n",
       "      <th>6163</th>\n",
       "      <td>MG592672.1</td>\n",
       "      <td>RS_GCF_003937805.1</td>\n",
       "      <td>d__Bacteria;p__Proteobacteria;c__Gammaproteoba...</td>\n",
       "      <td>iPHoP-RF</td>\n",
       "      <td>91.1</td>\n",
       "      <td>None</td>\n",
       "      <td>Vibrio pectenicida</td>\n",
       "      <td>Vibrio</td>\n",
       "      <td>Vibrionaceae</td>\n",
       "      <td>Enterobacterales</td>\n",
       "      <td>Gammaproteobacteria</td>\n",
       "      <td>Proteobacteria</td>\n",
       "    </tr>\n",
       "    <tr>\n",
       "      <th>6164</th>\n",
       "      <td>MG592672.1</td>\n",
       "      <td>RS_GCF_000171815.1</td>\n",
       "      <td>d__Bacteria;p__Proteobacteria;c__Gammaproteoba...</td>\n",
       "      <td>iPHoP-RF</td>\n",
       "      <td>90.1</td>\n",
       "      <td>None</td>\n",
       "      <td>Vibrio sp000171815</td>\n",
       "      <td>Vibrio</td>\n",
       "      <td>Vibrionaceae</td>\n",
       "      <td>Enterobacterales</td>\n",
       "      <td>Gammaproteobacteria</td>\n",
       "      <td>Proteobacteria</td>\n",
       "    </tr>\n",
       "    <tr>\n",
       "      <th>6165</th>\n",
       "      <td>MG592672.1</td>\n",
       "      <td>RS_GCF_000400365.1</td>\n",
       "      <td>d__Bacteria;p__Proteobacteria;c__Gammaproteoba...</td>\n",
       "      <td>iPHoP-RF</td>\n",
       "      <td>90.1</td>\n",
       "      <td>None</td>\n",
       "      <td>Vibrio jasicida</td>\n",
       "      <td>Vibrio</td>\n",
       "      <td>Vibrionaceae</td>\n",
       "      <td>Enterobacterales</td>\n",
       "      <td>Gammaproteobacteria</td>\n",
       "      <td>Proteobacteria</td>\n",
       "    </tr>\n",
       "    <tr>\n",
       "      <th>6166</th>\n",
       "      <td>MG592672.1</td>\n",
       "      <td>RS_GCF_001048675.1</td>\n",
       "      <td>d__Bacteria;p__Proteobacteria;c__Gammaproteoba...</td>\n",
       "      <td>iPHoP-RF</td>\n",
       "      <td>90.1</td>\n",
       "      <td>None</td>\n",
       "      <td>Vibrio diabolicus</td>\n",
       "      <td>Vibrio</td>\n",
       "      <td>Vibrionaceae</td>\n",
       "      <td>Enterobacterales</td>\n",
       "      <td>Gammaproteobacteria</td>\n",
       "      <td>Proteobacteria</td>\n",
       "    </tr>\n",
       "    <tr>\n",
       "      <th>6167</th>\n",
       "      <td>MG592672.1</td>\n",
       "      <td>RS_GCF_014596725.1</td>\n",
       "      <td>d__Bacteria;p__Proteobacteria;c__Gammaproteoba...</td>\n",
       "      <td>iPHoP-RF</td>\n",
       "      <td>90.1</td>\n",
       "      <td>None</td>\n",
       "      <td>Vibrio sp014596725</td>\n",
       "      <td>Vibrio</td>\n",
       "      <td>Vibrionaceae</td>\n",
       "      <td>Enterobacterales</td>\n",
       "      <td>Gammaproteobacteria</td>\n",
       "      <td>Proteobacteria</td>\n",
       "    </tr>\n",
       "  </tbody>\n",
       "</table>\n",
       "<p>6045 rows × 12 columns</p>\n",
       "</div>"
      ],
      "text/plain": [
       "           Virus         Host genome  \\\n",
       "123   MG592390.1  RS_GCF_006538565.1   \n",
       "124   MG592390.1  RS_GCF_000316985.1   \n",
       "125   MG592390.1  RS_GCF_013394185.1   \n",
       "126   MG592390.1  RS_GCF_000272045.2   \n",
       "127   MG592390.1  RS_GCF_001048535.1   \n",
       "...          ...                 ...   \n",
       "6163  MG592672.1  RS_GCF_003937805.1   \n",
       "6164  MG592672.1  RS_GCF_000171815.1   \n",
       "6165  MG592672.1  RS_GCF_000400365.1   \n",
       "6166  MG592672.1  RS_GCF_001048675.1   \n",
       "6167  MG592672.1  RS_GCF_014596725.1   \n",
       "\n",
       "                                          Host taxonomy Main method  \\\n",
       "123   d__Bacteria;p__Proteobacteria;c__Gammaproteoba...    iPHoP-RF   \n",
       "124   d__Bacteria;p__Proteobacteria;c__Gammaproteoba...    iPHoP-RF   \n",
       "125   d__Bacteria;p__Proteobacteria;c__Gammaproteoba...    iPHoP-RF   \n",
       "126   d__Bacteria;p__Proteobacteria;c__Gammaproteoba...    iPHoP-RF   \n",
       "127   d__Bacteria;p__Proteobacteria;c__Gammaproteoba...    iPHoP-RF   \n",
       "...                                                 ...         ...   \n",
       "6163  d__Bacteria;p__Proteobacteria;c__Gammaproteoba...    iPHoP-RF   \n",
       "6164  d__Bacteria;p__Proteobacteria;c__Gammaproteoba...    iPHoP-RF   \n",
       "6165  d__Bacteria;p__Proteobacteria;c__Gammaproteoba...    iPHoP-RF   \n",
       "6166  d__Bacteria;p__Proteobacteria;c__Gammaproteoba...    iPHoP-RF   \n",
       "6167  d__Bacteria;p__Proteobacteria;c__Gammaproteoba...    iPHoP-RF   \n",
       "\n",
       "      Confidence score Additional methods                Species   Genus  \\\n",
       "123               96.4               None        Vibrio comitans  Vibrio   \n",
       "124               95.7               None     Vibrio sp000316985  Vibrio   \n",
       "125               95.7               None     Vibrio sp013394185  Vibrio   \n",
       "126               95.4               None  Vibrio crassostreae_C  Vibrio   \n",
       "127               95.4               None    Vibrio crassostreae  Vibrio   \n",
       "...                ...                ...                    ...     ...   \n",
       "6163              91.1               None     Vibrio pectenicida  Vibrio   \n",
       "6164              90.1               None     Vibrio sp000171815  Vibrio   \n",
       "6165              90.1               None        Vibrio jasicida  Vibrio   \n",
       "6166              90.1               None      Vibrio diabolicus  Vibrio   \n",
       "6167              90.1               None     Vibrio sp014596725  Vibrio   \n",
       "\n",
       "            Family             Order                Class          Phylum  \n",
       "123   Vibrionaceae  Enterobacterales  Gammaproteobacteria  Proteobacteria  \n",
       "124   Vibrionaceae  Enterobacterales  Gammaproteobacteria  Proteobacteria  \n",
       "125   Vibrionaceae  Enterobacterales  Gammaproteobacteria  Proteobacteria  \n",
       "126   Vibrionaceae  Enterobacterales  Gammaproteobacteria  Proteobacteria  \n",
       "127   Vibrionaceae  Enterobacterales  Gammaproteobacteria  Proteobacteria  \n",
       "...            ...               ...                  ...             ...  \n",
       "6163  Vibrionaceae  Enterobacterales  Gammaproteobacteria  Proteobacteria  \n",
       "6164  Vibrionaceae  Enterobacterales  Gammaproteobacteria  Proteobacteria  \n",
       "6165  Vibrionaceae  Enterobacterales  Gammaproteobacteria  Proteobacteria  \n",
       "6166  Vibrionaceae  Enterobacterales  Gammaproteobacteria  Proteobacteria  \n",
       "6167  Vibrionaceae  Enterobacterales  Gammaproteobacteria  Proteobacteria  \n",
       "\n",
       "[6045 rows x 12 columns]"
      ]
     },
     "execution_count": 68,
     "metadata": {},
     "output_type": "execute_result"
    }
   ],
   "source": [
    "# load file\n",
    "iPHoP_NahantCollection_preds = pd.read_csv('../data/predictions/iPHoP/NahantCollection_Host_prediction_to_genome_m90.csv', sep=',')\n",
    "\n",
    "# reformat prediction \n",
    "Species = []\n",
    "Genus = []\n",
    "Family = []\n",
    "Order = []\n",
    "Class = []\n",
    "Phylum = []\n",
    "\n",
    "for _, row in iPHoP_NahantCollection_preds.iterrows():\n",
    "    taxa = row['Host taxonomy'].split(';')\n",
    "    Phylum.append(taxa[1].lstrip('p__'))\n",
    "    Class.append(taxa[2].lstrip('c__'))\n",
    "    Order.append(taxa[3].lstrip('o__'))\n",
    "    Family.append(taxa[4].lstrip('f__'))\n",
    "    Genus.append(taxa[5].lstrip('g__'))\n",
    "    Species.append(taxa[6].lstrip('s__'))\n",
    "\n",
    "iPHoP_NahantCollection_preds['Species'] = Species\n",
    "iPHoP_NahantCollection_preds['Genus'] = Genus\n",
    "iPHoP_NahantCollection_preds['Family'] = Family\n",
    "iPHoP_NahantCollection_preds['Order'] = Order\n",
    "iPHoP_NahantCollection_preds['Class'] = Class\n",
    "iPHoP_NahantCollection_preds['Phylum'] = Phylum\n",
    "\n",
    "iPHoP_NahantCollection_preds = iPHoP_NahantCollection_preds[iPHoP_NahantCollection_preds['Virus'].str.match('MG')]\n",
    "iPHoP_NahantCollection_preds"
   ]
  },
  {
   "cell_type": "markdown",
   "metadata": {},
   "source": [
    "##### Species"
   ]
  },
  {
   "cell_type": "code",
   "execution_count": 69,
   "metadata": {},
   "outputs": [
    {
     "name": "stdout",
     "output_type": "stream",
     "text": [
      "81\n",
      "397\n",
      "4967\n",
      "5445\n"
     ]
    },
    {
     "name": "stderr",
     "output_type": "stream",
     "text": [
      "/var/folders/yy/x1x_rtqj13l_9jplp1l2hxgw0000gn/T/ipykernel_37643/2494548787.py:35: FutureWarning: The frame.append method is deprecated and will be removed from pandas in a future version. Use pandas.concat instead.\n",
      "  results = results.append({'Tool' : 'iPHoP', 'Dataset' : 'NahantCollection', 'Taxa_lvl' : 'Species', 'Correct' : correct, 'Wrong': wrong, 'Unknown': unknown}, ignore_index=True)\n"
     ]
    }
   ],
   "source": [
    "# initialize integers\n",
    "correct = 0\n",
    "wrong = 0\n",
    "unknown = 0\n",
    "\n",
    "# iterate through the prediction and determine accuracy\n",
    "for _, row in iPHoP_NahantCollection_preds.iterrows():\n",
    "    # retrieve phage id and prediction\n",
    "    phage = row['Virus']\n",
    "    hostpred = row['Species'].replace(' ', '_')\n",
    "\n",
    "    # subset hostrange dataframe for current phage\n",
    "    subset = NahantCollectionHR[NahantCollectionHR['phagename'] == phage]\n",
    "\n",
    "    # check if I have host of phage of interest\n",
    "    if subset.empty:\n",
    "        continue\n",
    "    # determine accuracy\n",
    "    else:\n",
    "        known_hosts = subset['hostname'].tolist()\n",
    "        if hostpred not in known_hosts:\n",
    "            unknown += 1\n",
    "        else:\n",
    "            interaction = subset.loc[subset['hostname'] == hostpred, 'infection'].tolist()\n",
    "            if 'Inf' in interaction:\n",
    "                correct += 1\n",
    "            elif 'NoInf' in interaction:\n",
    "                wrong += 1\n",
    "\n",
    "print(correct)\n",
    "print(wrong)\n",
    "print(unknown)\n",
    "print(correct + wrong + unknown)\n",
    "\n",
    "results = results.append({'Tool' : 'iPHoP', 'Dataset' : 'NahantCollection', 'Taxa_lvl' : 'Species', 'Correct' : correct, 'Wrong': wrong, 'Unknown': unknown}, ignore_index=True)\n"
   ]
  },
  {
   "cell_type": "markdown",
   "metadata": {},
   "source": [
    "##### Genus level"
   ]
  },
  {
   "cell_type": "code",
   "execution_count": 70,
   "metadata": {},
   "outputs": [
    {
     "name": "stdout",
     "output_type": "stream",
     "text": [
      "5157\n",
      "277\n",
      "11\n",
      "5445\n"
     ]
    },
    {
     "name": "stderr",
     "output_type": "stream",
     "text": [
      "/var/folders/yy/x1x_rtqj13l_9jplp1l2hxgw0000gn/T/ipykernel_37643/3307562875.py:35: FutureWarning: The frame.append method is deprecated and will be removed from pandas in a future version. Use pandas.concat instead.\n",
      "  results = results.append({'Tool' : 'iPHoP', 'Dataset' : 'NahantCollection', 'Taxa_lvl' : 'Genus', 'Correct' : correct, 'Wrong': wrong, 'Unknown': unknown}, ignore_index=True)\n"
     ]
    }
   ],
   "source": [
    "# initialize integers\n",
    "correct = 0\n",
    "wrong = 0\n",
    "unknown = 0\n",
    "\n",
    "# iterate through the prediction and determine accuracy\n",
    "for _, row in iPHoP_NahantCollection_preds.iterrows():\n",
    "    # retrieve phage id and prediction\n",
    "    phage = row['Virus']\n",
    "    hostpred = row['Genus']\n",
    "\n",
    "    # subset hostrange dataframe for current phage\n",
    "    subset = NahantCollectionHR[NahantCollectionHR['phagename'] == phage]\n",
    "\n",
    "    # check if I have host of phage of interest\n",
    "    if subset.empty:\n",
    "        continue\n",
    "    # determine accuracy\n",
    "    else:\n",
    "        known_hosts = subset['genus'].tolist()\n",
    "        if hostpred not in known_hosts:\n",
    "            unknown += 1\n",
    "        else:\n",
    "            interaction = subset.loc[subset['genus'] == hostpred, 'infection'].tolist()\n",
    "            if 'Inf' in interaction:\n",
    "                correct += 1\n",
    "            elif 'NoInf' in interaction:\n",
    "                wrong += 1\n",
    "\n",
    "print(correct)\n",
    "print(wrong)\n",
    "print(unknown)\n",
    "print(correct + wrong + unknown)\n",
    "\n",
    "results = results.append({'Tool' : 'iPHoP', 'Dataset' : 'NahantCollection', 'Taxa_lvl' : 'Genus', 'Correct' : correct, 'Wrong': wrong, 'Unknown': unknown}, ignore_index=True)\n"
   ]
  },
  {
   "cell_type": "markdown",
   "metadata": {},
   "source": [
    "##### Family level"
   ]
  },
  {
   "cell_type": "code",
   "execution_count": 71,
   "metadata": {},
   "outputs": [
    {
     "name": "stdout",
     "output_type": "stream",
     "text": [
      "5219\n",
      "221\n",
      "5\n",
      "5445\n"
     ]
    },
    {
     "name": "stderr",
     "output_type": "stream",
     "text": [
      "/var/folders/yy/x1x_rtqj13l_9jplp1l2hxgw0000gn/T/ipykernel_37643/3916616848.py:35: FutureWarning: The frame.append method is deprecated and will be removed from pandas in a future version. Use pandas.concat instead.\n",
      "  results = results.append({'Tool' : 'iPHoP', 'Dataset' : 'NahantCollection', 'Taxa_lvl' : 'Family', 'Correct' : correct, 'Wrong': wrong, 'Unknown': unknown}, ignore_index=True)\n"
     ]
    }
   ],
   "source": [
    "# initialize integers\n",
    "correct = 0\n",
    "wrong = 0\n",
    "unknown = 0\n",
    "\n",
    "# iterate through the prediction and determine accuracy\n",
    "for _, row in iPHoP_NahantCollection_preds.iterrows():\n",
    "    # retrieve phage id and prediction\n",
    "    phage = row['Virus']\n",
    "    hostpred = row['Family']\n",
    "\n",
    "    # subset hostrange dataframe for current phage\n",
    "    subset = NahantCollectionHR[NahantCollectionHR['phagename'] == phage]\n",
    "\n",
    "    # check if I have host of phage of interest\n",
    "    if subset.empty:\n",
    "        continue\n",
    "    # determine accuracy\n",
    "    else:\n",
    "        known_hosts = subset['family'].tolist()\n",
    "        if hostpred not in known_hosts:\n",
    "            unknown += 1\n",
    "        else:\n",
    "            interaction = subset.loc[subset['family'] == hostpred, 'infection'].tolist()\n",
    "            if 'Inf' in interaction:\n",
    "                correct += 1\n",
    "            elif 'NoInf' in interaction:\n",
    "                wrong += 1\n",
    "\n",
    "print(correct)\n",
    "print(wrong)\n",
    "print(unknown)\n",
    "print(correct + wrong + unknown)\n",
    "\n",
    "results = results.append({'Tool' : 'iPHoP', 'Dataset' : 'NahantCollection', 'Taxa_lvl' : 'Family', 'Correct' : correct, 'Wrong': wrong, 'Unknown': unknown}, ignore_index=True)\n"
   ]
  },
  {
   "cell_type": "markdown",
   "metadata": {},
   "source": [
    "##### Order level\n",
    "\n",
    "Getting same issues with mismatch in the taxa names despite looking at the same predictions. Not sure where the people behind iPHoP got their taxa names. Potentially worth looking into. "
   ]
  },
  {
   "cell_type": "code",
   "execution_count": 72,
   "metadata": {},
   "outputs": [
    {
     "data": {
      "text/plain": [
       "Enterobacterales    6044\n",
       "                       1\n",
       "Name: Order, dtype: int64"
      ]
     },
     "execution_count": 72,
     "metadata": {},
     "output_type": "execute_result"
    }
   ],
   "source": [
    "iPHoP_NahantCollection_preds['Order'].value_counts()"
   ]
  },
  {
   "cell_type": "code",
   "execution_count": 73,
   "metadata": {},
   "outputs": [
    {
     "name": "stderr",
     "output_type": "stream",
     "text": [
      "/var/folders/yy/x1x_rtqj13l_9jplp1l2hxgw0000gn/T/ipykernel_37643/168101269.py:6: FutureWarning: The frame.append method is deprecated and will be removed from pandas in a future version. Use pandas.concat instead.\n",
      "  results = results.append({'Tool' : 'iPHoP', 'Dataset' : 'NahantCollection', 'Taxa_lvl' : 'Order', 'Correct' : correct, 'Wrong': wrong, 'Unknown': unknown}, ignore_index=True)\n",
      "/var/folders/yy/x1x_rtqj13l_9jplp1l2hxgw0000gn/T/ipykernel_37643/168101269.py:7: FutureWarning: The frame.append method is deprecated and will be removed from pandas in a future version. Use pandas.concat instead.\n",
      "  results = results.append({'Tool' : 'iPHoP', 'Dataset' : 'NahantCollection', 'Taxa_lvl' : 'Class', 'Correct' : correct, 'Wrong': wrong, 'Unknown': unknown}, ignore_index=True)\n",
      "/var/folders/yy/x1x_rtqj13l_9jplp1l2hxgw0000gn/T/ipykernel_37643/168101269.py:8: FutureWarning: The frame.append method is deprecated and will be removed from pandas in a future version. Use pandas.concat instead.\n",
      "  results = results.append({'Tool' : 'iPHoP', 'Dataset' : 'NahantCollection', 'Taxa_lvl' : 'Phylum', 'Correct' : correct, 'Wrong': wrong, 'Unknown': unknown}, ignore_index=True)\n"
     ]
    }
   ],
   "source": [
    "correct = 5445\n",
    "wrong = 0\n",
    "unknown = 0\n",
    "\n",
    "\n",
    "results = results.append({'Tool' : 'iPHoP', 'Dataset' : 'NahantCollection', 'Taxa_lvl' : 'Order', 'Correct' : correct, 'Wrong': wrong, 'Unknown': unknown}, ignore_index=True)\n",
    "results = results.append({'Tool' : 'iPHoP', 'Dataset' : 'NahantCollection', 'Taxa_lvl' : 'Class', 'Correct' : correct, 'Wrong': wrong, 'Unknown': unknown}, ignore_index=True)\n",
    "results = results.append({'Tool' : 'iPHoP', 'Dataset' : 'NahantCollection', 'Taxa_lvl' : 'Phylum', 'Correct' : correct, 'Wrong': wrong, 'Unknown': unknown}, ignore_index=True)\n"
   ]
  },
  {
   "cell_type": "markdown",
   "metadata": {},
   "source": [
    "### iPHoP (considering only best prediction)\n",
    "\n",
    "Because iPHoP may return more than 1 predicted host taxa, the comparison with other models get muddled. I am going to re-calculate the accuracy of this tool but this time only going to consider the best hit. \n",
    "\n"
   ]
  },
  {
   "cell_type": "markdown",
   "metadata": {},
   "source": [
    "#### Staph Study \n",
    "\n",
    "First, I need to subset the dataframe so it only contains the best prediction. "
   ]
  },
  {
   "cell_type": "code",
   "execution_count": 74,
   "metadata": {},
   "outputs": [],
   "source": [
    "# rename column \n",
    "iPHoP_StaphStudy_preds.rename(columns={'Confidence score':'Confidence_score'}, inplace=True)\n",
    "iPHoP_StaphStudy_best_preds = iPHoP_StaphStudy_preds.loc[iPHoP_StaphStudy_preds.groupby('phagePGid', sort=False).Confidence_score.idxmax()]"
   ]
  },
  {
   "cell_type": "markdown",
   "metadata": {},
   "source": [
    "Interestingly, some phages have 0 predictions. Only now do I realize it. I figured that out because number of phages expected is 39, but the dataframe has only 33 rows. Will need to find a way to score those missing phages somehow."
   ]
  },
  {
   "cell_type": "markdown",
   "metadata": {},
   "source": [
    "##### Species level "
   ]
  },
  {
   "cell_type": "code",
   "execution_count": 75,
   "metadata": {},
   "outputs": [
    {
     "name": "stdout",
     "output_type": "stream",
     "text": [
      "Staphylococcus_intermedius\n",
      "Staphylococcus_epidermidis\n",
      "Staphylococcus_epidermidis\n",
      "Staphylococcus_intermedius\n",
      "Staphylococcus_intermedius\n",
      "Staphylococcus_intermedius\n",
      "Staphylococcus_capitis\n",
      "Hymenobacter_sp003417065\n",
      "Staphylococcus_argenteus\n",
      "Staphylococcus_saprophyticus\n",
      "Staphylococcus_delphini\n",
      "Staphylococcus_delphini\n",
      "Hymenobacter_sp003417065\n",
      "Hymenobacter_sp003417065\n",
      "Staphylococcus_intermedius\n",
      "Staphylococcus_delphini\n",
      "Staphylococcus_epidermidis\n",
      "Staphylococcus_epidermidis\n",
      "Staphylococcus_intermedius\n",
      "Staphylococcus_petrasii_B\n",
      "Staphylococcus_delphini\n",
      "Staphylococcus_petrasii_B\n",
      "Hymenobacter_sp003417065\n",
      "Staphylococcus_intermedius\n",
      "Staphylococcus_intermedius\n",
      "Staphylococcus_intermedius\n",
      "Staphylococcus_petrasii_B\n",
      "Staphylococcus_saprophyticus\n",
      "Staphylococcus_delphini\n",
      "Staphylococcus_lugdunensis\n",
      "Staphylococcus_petrasii_B\n",
      "Staphylococcus_haemolyticus\n",
      "Staphylococcus_intermedius\n",
      "4\n",
      "5\n",
      "23\n",
      "32\n"
     ]
    },
    {
     "name": "stderr",
     "output_type": "stream",
     "text": [
      "/var/folders/yy/x1x_rtqj13l_9jplp1l2hxgw0000gn/T/ipykernel_37643/2628611061.py:35: FutureWarning: The frame.append method is deprecated and will be removed from pandas in a future version. Use pandas.concat instead.\n",
      "  results = results.append({'Tool' : 'iPHoP_bestpred', 'Dataset' : 'StaphStudy', 'Taxa_lvl' : 'Species', 'Correct' : correct, 'Wrong': wrong, 'Unknown': unknown}, ignore_index=True)\n"
     ]
    }
   ],
   "source": [
    "# initialize integers\n",
    "correct = 0\n",
    "wrong = 0\n",
    "unknown = 0\n",
    "\n",
    "# iterate through the prediction and determine accuracy\n",
    "for _, row in iPHoP_StaphStudy_best_preds.iterrows():\n",
    "    # retrieve phage id and prediction\n",
    "    phage = row['phagePGid']\n",
    "    hostpred = row['Species'].replace(' ', '_')\n",
    "    print(hostpred)\n",
    "    # subset hostrange dataframe for current phage\n",
    "    subset = StaphStudyHR[StaphStudyHR['phagename'] == phage]\n",
    "\n",
    "    # check if I have host of phage of interest\n",
    "    if subset.empty:\n",
    "        continue\n",
    "    # determine accuracy\n",
    "    else:\n",
    "        known_hosts = subset['hostname'].tolist()\n",
    "        if hostpred not in known_hosts:\n",
    "            unknown += 1\n",
    "        else:\n",
    "            interaction = subset.loc[subset['hostname'] == hostpred, 'infection'].tolist()\n",
    "            if 'Inf' in interaction:\n",
    "                correct += 1\n",
    "            elif 'NoInf' in interaction:\n",
    "                wrong += 1\n",
    "\n",
    "print(correct)\n",
    "print(wrong)\n",
    "print(unknown)\n",
    "print(correct + wrong + unknown)\n",
    "\n",
    "results = results.append({'Tool' : 'iPHoP_bestpred', 'Dataset' : 'StaphStudy', 'Taxa_lvl' : 'Species', 'Correct' : correct, 'Wrong': wrong, 'Unknown': unknown}, ignore_index=True)\n"
   ]
  },
  {
   "cell_type": "markdown",
   "metadata": {},
   "source": [
    "##### Genus level"
   ]
  },
  {
   "cell_type": "code",
   "execution_count": 76,
   "metadata": {},
   "outputs": [
    {
     "name": "stdout",
     "output_type": "stream",
     "text": [
      "28\n",
      "0\n",
      "4\n",
      "32\n"
     ]
    },
    {
     "name": "stderr",
     "output_type": "stream",
     "text": [
      "/var/folders/yy/x1x_rtqj13l_9jplp1l2hxgw0000gn/T/ipykernel_37643/1603746211.py:35: FutureWarning: The frame.append method is deprecated and will be removed from pandas in a future version. Use pandas.concat instead.\n",
      "  results = results.append({'Tool' : 'iPHoP_bestpred', 'Dataset' : 'StaphStudy', 'Taxa_lvl' : 'Genus', 'Correct' : correct, 'Wrong': wrong, 'Unknown': unknown}, ignore_index=True)\n"
     ]
    }
   ],
   "source": [
    "# initialize integers\n",
    "correct = 0\n",
    "wrong = 0\n",
    "unknown = 0\n",
    "\n",
    "# iterate through the predictions and determine accuracy\n",
    "for _, row in iPHoP_StaphStudy_best_preds.iterrows():\n",
    "    # retrieve phage id and prediction\n",
    "    phage = row['phagePGid']\n",
    "    hostgenus = row['Genus']\n",
    "\n",
    "    # subset hostrange dataframe for current phage\n",
    "    subset = StaphStudyHR[StaphStudyHR['phagename'] == phage]\n",
    "\n",
    "    # check if I have host range of phage of interest\n",
    "    if subset.empty:\n",
    "        continue\n",
    "    # determine accuracy\n",
    "    else:\n",
    "        known_hosts = subset['genus'].tolist()\n",
    "        if hostgenus not in known_hosts:\n",
    "            unknown += 1\n",
    "        else:\n",
    "            interaction = subset.loc[subset['genus'] == hostgenus, 'infection'].tolist()\n",
    "            if 'Inf' in interaction:\n",
    "                correct += 1\n",
    "            elif 'NoInf' in interaction:\n",
    "                wrong += 1\n",
    "\n",
    "print(correct)\n",
    "print(wrong)\n",
    "print(unknown)\n",
    "print(correct + wrong + unknown)\n",
    "\n",
    "results = results.append({'Tool' : 'iPHoP_bestpred', 'Dataset' : 'StaphStudy', 'Taxa_lvl' : 'Genus', 'Correct' : correct, 'Wrong': wrong, 'Unknown': unknown}, ignore_index=True)\n"
   ]
  },
  {
   "cell_type": "markdown",
   "metadata": {},
   "source": [
    "##### Family level"
   ]
  },
  {
   "cell_type": "code",
   "execution_count": 77,
   "metadata": {},
   "outputs": [
    {
     "name": "stdout",
     "output_type": "stream",
     "text": [
      "28\n",
      "0\n",
      "4\n",
      "32\n"
     ]
    },
    {
     "name": "stderr",
     "output_type": "stream",
     "text": [
      "/var/folders/yy/x1x_rtqj13l_9jplp1l2hxgw0000gn/T/ipykernel_37643/3331252752.py:35: FutureWarning: The frame.append method is deprecated and will be removed from pandas in a future version. Use pandas.concat instead.\n",
      "  results = results.append({'Tool' : 'iPHoP_bestpred', 'Dataset' : 'StaphStudy', 'Taxa_lvl' : 'Family', 'Correct' : correct, 'Wrong': wrong, 'Unknown': unknown}, ignore_index=True)\n"
     ]
    }
   ],
   "source": [
    " # initialize integers\n",
    "correct = 0\n",
    "wrong = 0\n",
    "unknown = 0\n",
    "\n",
    "# iterate through the predictions and determine accuracy\n",
    "for _, row in iPHoP_StaphStudy_best_preds.iterrows():\n",
    "    # retrieve phage id and prediction\n",
    "    phage = row['phagePGid']\n",
    "    hostfamily = row['Family']\n",
    "\n",
    "    # subset hostrange dataframe for current phage\n",
    "    subset = StaphStudyHR[StaphStudyHR['phagename'] == phage]\n",
    "\n",
    "    # check if I have host range of phage of interest\n",
    "    if subset.empty:\n",
    "        continue\n",
    "    # determine accuracy\n",
    "    else:\n",
    "        known_hosts = subset['family'].tolist()\n",
    "        if hostfamily not in known_hosts:\n",
    "            unknown += 1\n",
    "        else:\n",
    "            interaction = subset.loc[subset['family'] == hostfamily, 'infection'].tolist()\n",
    "            if 'Inf' in interaction:\n",
    "                correct += 1\n",
    "            elif 'NoInf' in interaction:\n",
    "                wrong += 1\n",
    "\n",
    "print(correct)\n",
    "print(wrong)\n",
    "print(unknown)\n",
    "print(correct + wrong + unknown)\n",
    "\n",
    "results = results.append({'Tool' : 'iPHoP_bestpred', 'Dataset' : 'StaphStudy', 'Taxa_lvl' : 'Family', 'Correct' : correct, 'Wrong': wrong, 'Unknown': unknown}, ignore_index=True)\n"
   ]
  },
  {
   "cell_type": "markdown",
   "metadata": {},
   "source": [
    "##### Order level"
   ]
  },
  {
   "cell_type": "code",
   "execution_count": 78,
   "metadata": {},
   "outputs": [
    {
     "name": "stdout",
     "output_type": "stream",
     "text": [
      "0\n",
      "0\n",
      "32\n",
      "32\n"
     ]
    }
   ],
   "source": [
    " # initialize integers\n",
    "correct = 0\n",
    "wrong = 0\n",
    "unknown = 0\n",
    "\n",
    "# iterate through the predictions and determine accuracy\n",
    "for _, row in iPHoP_StaphStudy_best_preds.iterrows():\n",
    "    # retrieve phage id and prediction\n",
    "    phage = row['phagePGid']\n",
    "    hostpred = row['Order']\n",
    "\n",
    "    # subset hostrange dataframe for current phage\n",
    "    subset = StaphStudyHR[StaphStudyHR['phagename'] == phage]\n",
    "\n",
    "    # check if I have host range of phage of interest\n",
    "    if subset.empty:\n",
    "        continue\n",
    "    # determine accuracy\n",
    "    else:\n",
    "        known_hosts = subset['order'].tolist()\n",
    "        if hostpred not in known_hosts:\n",
    "            unknown += 1\n",
    "        else:\n",
    "            interaction = subset.loc[subset['order'] == hostfamily, 'infection'].tolist()\n",
    "            if 'Inf' in interaction:\n",
    "                correct += 1\n",
    "            elif 'NoInf' in interaction:\n",
    "                wrong += 1\n",
    "\n",
    "print(correct)\n",
    "print(wrong)\n",
    "print(unknown)\n",
    "print(correct + wrong + unknown)"
   ]
  },
  {
   "cell_type": "markdown",
   "metadata": {},
   "source": [
    "Same issue again. Doing value count instead then "
   ]
  },
  {
   "cell_type": "code",
   "execution_count": 79,
   "metadata": {},
   "outputs": [
    {
     "data": {
      "text/plain": [
       "Staphylococcales    29\n",
       "Cytophagales         4\n",
       "Name: Order, dtype: int64"
      ]
     },
     "execution_count": 79,
     "metadata": {},
     "output_type": "execute_result"
    }
   ],
   "source": [
    "iPHoP_StaphStudy_best_preds['Order'].value_counts()"
   ]
  },
  {
   "cell_type": "code",
   "execution_count": 80,
   "metadata": {},
   "outputs": [
    {
     "name": "stderr",
     "output_type": "stream",
     "text": [
      "/var/folders/yy/x1x_rtqj13l_9jplp1l2hxgw0000gn/T/ipykernel_37643/3550686202.py:5: FutureWarning: The frame.append method is deprecated and will be removed from pandas in a future version. Use pandas.concat instead.\n",
      "  results = results.append({'Tool' : 'iPHoP_bestpred', 'Dataset' : 'StaphStudy', 'Taxa_lvl' : 'Order', 'Correct' : correct, 'Wrong': wrong, 'Unknown': unknown}, ignore_index=True)\n"
     ]
    }
   ],
   "source": [
    "correct = 28\n",
    "wrong = 0\n",
    "unknown = 4\n",
    "\n",
    "results = results.append({'Tool' : 'iPHoP_bestpred', 'Dataset' : 'StaphStudy', 'Taxa_lvl' : 'Order', 'Correct' : correct, 'Wrong': wrong, 'Unknown': unknown}, ignore_index=True)\n"
   ]
  },
  {
   "cell_type": "markdown",
   "metadata": {},
   "source": [
    "##### Class level"
   ]
  },
  {
   "cell_type": "code",
   "execution_count": 81,
   "metadata": {},
   "outputs": [
    {
     "name": "stdout",
     "output_type": "stream",
     "text": [
      "28\n",
      "0\n",
      "4\n",
      "32\n"
     ]
    },
    {
     "name": "stderr",
     "output_type": "stream",
     "text": [
      "/var/folders/yy/x1x_rtqj13l_9jplp1l2hxgw0000gn/T/ipykernel_37643/3930269946.py:35: FutureWarning: The frame.append method is deprecated and will be removed from pandas in a future version. Use pandas.concat instead.\n",
      "  results = results.append({'Tool' : 'iPHoP_bestpred', 'Dataset' : 'StaphStudy', 'Taxa_lvl' : 'Class', 'Correct' : correct, 'Wrong': wrong, 'Unknown': unknown}, ignore_index=True)\n"
     ]
    }
   ],
   "source": [
    " # initialize integers\n",
    "correct = 0\n",
    "wrong = 0\n",
    "unknown = 0\n",
    "\n",
    "# iterate through the predictions and determine accuracy\n",
    "for _, row in iPHoP_StaphStudy_best_preds.iterrows():\n",
    "    # retrieve phage id and prediction\n",
    "    phage = row['phagePGid']\n",
    "    hostclass = row['Class']\n",
    "\n",
    "    # subset hostrange dataframe for current phage\n",
    "    subset = StaphStudyHR[StaphStudyHR['phagename'] == phage]\n",
    "\n",
    "    # check if I have host range of phage of interest\n",
    "    if subset.empty:\n",
    "        continue\n",
    "    # determine accuracy\n",
    "    else:\n",
    "        known_hosts = subset['class'].tolist()\n",
    "        if hostclass not in known_hosts:\n",
    "            unknown += 1\n",
    "        else:\n",
    "            interaction = subset.loc[subset['class'] == hostclass, 'infection'].tolist()\n",
    "            if 'Inf' in interaction:\n",
    "                correct += 1\n",
    "            elif 'NoInf' in interaction:\n",
    "                wrong += 1\n",
    "\n",
    "print(correct)\n",
    "print(wrong)\n",
    "print(unknown)\n",
    "print(correct + wrong + unknown)\n",
    "\n",
    "results = results.append({'Tool' : 'iPHoP_bestpred', 'Dataset' : 'StaphStudy', 'Taxa_lvl' : 'Class', 'Correct' : correct, 'Wrong': wrong, 'Unknown': unknown}, ignore_index=True)\n"
   ]
  },
  {
   "cell_type": "markdown",
   "metadata": {},
   "source": [
    "##### Phylum"
   ]
  },
  {
   "cell_type": "code",
   "execution_count": 82,
   "metadata": {},
   "outputs": [
    {
     "name": "stdout",
     "output_type": "stream",
     "text": [
      "28\n",
      "0\n",
      "4\n",
      "32\n"
     ]
    },
    {
     "name": "stderr",
     "output_type": "stream",
     "text": [
      "/var/folders/yy/x1x_rtqj13l_9jplp1l2hxgw0000gn/T/ipykernel_37643/1649784001.py:35: FutureWarning: The frame.append method is deprecated and will be removed from pandas in a future version. Use pandas.concat instead.\n",
      "  results = results.append({'Tool' : 'iPHoP_bestpred', 'Dataset' : 'StaphStudy', 'Taxa_lvl' : 'Phylum', 'Correct' : correct, 'Wrong': wrong, 'Unknown': unknown}, ignore_index=True)\n"
     ]
    }
   ],
   "source": [
    " # initialize integers\n",
    "correct = 0\n",
    "wrong = 0\n",
    "unknown = 0\n",
    "\n",
    "# iterate through the predictions and determine accuracy\n",
    "for _, row in iPHoP_StaphStudy_best_preds.iterrows():\n",
    "    # retrieve phage id and prediction\n",
    "    phage = row['phagePGid']\n",
    "    hostphylum = row['Phylum']\n",
    "\n",
    "    # subset hostrange dataframe for current phage\n",
    "    subset = StaphStudyHR[StaphStudyHR['phagename'] == phage]\n",
    "\n",
    "    # check if I have host range of phage of interest\n",
    "    if subset.empty:\n",
    "        continue\n",
    "    # determine accuracy\n",
    "    else:\n",
    "        known_hosts = subset['phylum'].tolist()\n",
    "        if hostphylum not in known_hosts:\n",
    "            unknown += 1\n",
    "        else:\n",
    "            interaction = subset.loc[subset['phylum'] == hostphylum, 'infection'].tolist()\n",
    "            if 'Inf' in interaction:\n",
    "                correct += 1\n",
    "            elif 'NoInf' in interaction:\n",
    "                wrong += 1\n",
    "\n",
    "print(correct)\n",
    "print(wrong)\n",
    "print(unknown)\n",
    "print(correct + wrong + unknown)\n",
    "\n",
    "results = results.append({'Tool' : 'iPHoP_bestpred', 'Dataset' : 'StaphStudy', 'Taxa_lvl' : 'Phylum', 'Correct' : correct, 'Wrong': wrong, 'Unknown': unknown}, ignore_index=True)"
   ]
  },
  {
   "cell_type": "markdown",
   "metadata": {},
   "source": [
    "#### Nahant Collection"
   ]
  },
  {
   "cell_type": "code",
   "execution_count": 83,
   "metadata": {},
   "outputs": [
    {
     "data": {
      "text/plain": [
       "(193, 12)"
      ]
     },
     "execution_count": 83,
     "metadata": {},
     "output_type": "execute_result"
    }
   ],
   "source": [
    "# rename column \n",
    "iPHoP_NahantCollection_preds.rename(columns={'Confidence score':'Confidence_score'}, inplace=True)\n",
    "iPHoP_NahantCollection_best_preds = iPHoP_NahantCollection_preds.loc[iPHoP_NahantCollection_preds.groupby('Virus', sort=False).Confidence_score.idxmax()]\n",
    "\n",
    "iPHoP_NahantCollection_best_preds.shape"
   ]
  },
  {
   "cell_type": "markdown",
   "metadata": {},
   "source": [
    "193 viruses have predictions out of 248. \n",
    "\n",
    "##### Species level"
   ]
  },
  {
   "cell_type": "code",
   "execution_count": 84,
   "metadata": {},
   "outputs": [
    {
     "name": "stdout",
     "output_type": "stream",
     "text": [
      "0\n",
      "13\n",
      "160\n",
      "173\n"
     ]
    },
    {
     "name": "stderr",
     "output_type": "stream",
     "text": [
      "/var/folders/yy/x1x_rtqj13l_9jplp1l2hxgw0000gn/T/ipykernel_37643/1396487523.py:35: FutureWarning: The frame.append method is deprecated and will be removed from pandas in a future version. Use pandas.concat instead.\n",
      "  results = results.append({'Tool' : 'iPHoP_bestpred', 'Dataset' : 'NahantCollection', 'Taxa_lvl' : 'Species', 'Correct' : correct, 'Wrong': wrong, 'Unknown': unknown}, ignore_index=True)\n"
     ]
    }
   ],
   "source": [
    "# initialize integers\n",
    "correct = 0\n",
    "wrong = 0\n",
    "unknown = 0\n",
    "\n",
    "# iterate through the prediction and determine accuracy\n",
    "for _, row in iPHoP_NahantCollection_best_preds.iterrows():\n",
    "    # retrieve phage id and prediction\n",
    "    phage = row['Virus']\n",
    "    hostpred = row['Species'].replace(' ', '_')\n",
    "\n",
    "    # subset hostrange dataframe for current phage\n",
    "    subset = NahantCollectionHR[NahantCollectionHR['phagename'] == phage]\n",
    "\n",
    "    # check if I have host of phage of interest\n",
    "    if subset.empty:\n",
    "        continue\n",
    "    # determine accuracy\n",
    "    else:\n",
    "        known_hosts = subset['hostname'].tolist()\n",
    "        if hostpred not in known_hosts:\n",
    "            unknown += 1\n",
    "        else:\n",
    "            interaction = subset.loc[subset['hostname'] == hostpred, 'infection'].tolist()\n",
    "            if 'Inf' in interaction:\n",
    "                correct += 1\n",
    "            elif 'NoInf' in interaction:\n",
    "                wrong += 1\n",
    "\n",
    "print(correct)\n",
    "print(wrong)\n",
    "print(unknown)\n",
    "print(correct + wrong + unknown)\n",
    "\n",
    "results = results.append({'Tool' : 'iPHoP_bestpred', 'Dataset' : 'NahantCollection', 'Taxa_lvl' : 'Species', 'Correct' : correct, 'Wrong': wrong, 'Unknown': unknown}, ignore_index=True)\n"
   ]
  },
  {
   "cell_type": "markdown",
   "metadata": {},
   "source": [
    "##### Genus level"
   ]
  },
  {
   "cell_type": "code",
   "execution_count": 85,
   "metadata": {},
   "outputs": [
    {
     "name": "stdout",
     "output_type": "stream",
     "text": [
      "154\n",
      "13\n",
      "6\n",
      "173\n"
     ]
    },
    {
     "name": "stderr",
     "output_type": "stream",
     "text": [
      "/var/folders/yy/x1x_rtqj13l_9jplp1l2hxgw0000gn/T/ipykernel_37643/489699161.py:35: FutureWarning: The frame.append method is deprecated and will be removed from pandas in a future version. Use pandas.concat instead.\n",
      "  results = results.append({'Tool' : 'iPHoP_bestpred', 'Dataset' : 'NahantCollection', 'Taxa_lvl' : 'Genus', 'Correct' : correct, 'Wrong': wrong, 'Unknown': unknown}, ignore_index=True)\n"
     ]
    }
   ],
   "source": [
    "# initialize integers\n",
    "correct = 0\n",
    "wrong = 0\n",
    "unknown = 0\n",
    "\n",
    "# iterate through the prediction and determine accuracy\n",
    "for _, row in iPHoP_NahantCollection_best_preds.iterrows():\n",
    "    # retrieve phage id and prediction\n",
    "    phage = row['Virus']\n",
    "    hostpred = row['Genus']\n",
    "\n",
    "    # subset hostrange dataframe for current phage\n",
    "    subset = NahantCollectionHR[NahantCollectionHR['phagename'] == phage]\n",
    "\n",
    "    # check if I have host of phage of interest\n",
    "    if subset.empty:\n",
    "        continue\n",
    "    # determine accuracy\n",
    "    else:\n",
    "        known_hosts = subset['genus'].tolist()\n",
    "        if hostpred not in known_hosts:\n",
    "            unknown += 1\n",
    "        else:\n",
    "            interaction = subset.loc[subset['genus'] == hostpred, 'infection'].tolist()\n",
    "            if 'Inf' in interaction:\n",
    "                correct += 1\n",
    "            elif 'NoInf' in interaction:\n",
    "                wrong += 1\n",
    "\n",
    "print(correct)\n",
    "print(wrong)\n",
    "print(unknown)\n",
    "print(correct + wrong + unknown)\n",
    "\n",
    "results = results.append({'Tool' : 'iPHoP_bestpred', 'Dataset' : 'NahantCollection', 'Taxa_lvl' : 'Genus', 'Correct' : correct, 'Wrong': wrong, 'Unknown': unknown}, ignore_index=True)\n"
   ]
  },
  {
   "cell_type": "markdown",
   "metadata": {},
   "source": [
    "##### Family level"
   ]
  },
  {
   "cell_type": "code",
   "execution_count": 86,
   "metadata": {},
   "outputs": [
    {
     "name": "stdout",
     "output_type": "stream",
     "text": [
      "160\n",
      "9\n",
      "4\n",
      "173\n"
     ]
    },
    {
     "name": "stderr",
     "output_type": "stream",
     "text": [
      "/var/folders/yy/x1x_rtqj13l_9jplp1l2hxgw0000gn/T/ipykernel_37643/1886209405.py:35: FutureWarning: The frame.append method is deprecated and will be removed from pandas in a future version. Use pandas.concat instead.\n",
      "  results = results.append({'Tool' : 'iPHoP_bestpred', 'Dataset' : 'NahantCollection', 'Taxa_lvl' : 'Family', 'Correct' : correct, 'Wrong': wrong, 'Unknown': unknown}, ignore_index=True)\n"
     ]
    }
   ],
   "source": [
    "# initialize integers\n",
    "correct = 0\n",
    "wrong = 0\n",
    "unknown = 0\n",
    "\n",
    "# iterate through the prediction and determine accuracy\n",
    "for _, row in iPHoP_NahantCollection_best_preds.iterrows():\n",
    "    # retrieve phage id and prediction\n",
    "    phage = row['Virus']\n",
    "    hostpred = row['Family']\n",
    "\n",
    "    # subset hostrange dataframe for current phage\n",
    "    subset = NahantCollectionHR[NahantCollectionHR['phagename'] == phage]\n",
    "\n",
    "    # check if I have host of phage of interest\n",
    "    if subset.empty:\n",
    "        continue\n",
    "    # determine accuracy\n",
    "    else:\n",
    "        known_hosts = subset['family'].tolist()\n",
    "        if hostpred not in known_hosts:\n",
    "            unknown += 1\n",
    "        else:\n",
    "            interaction = subset.loc[subset['family'] == hostpred, 'infection'].tolist()\n",
    "            if 'Inf' in interaction:\n",
    "                correct += 1\n",
    "            elif 'NoInf' in interaction:\n",
    "                wrong += 1\n",
    "\n",
    "print(correct)\n",
    "print(wrong)\n",
    "print(unknown)\n",
    "print(correct + wrong + unknown)\n",
    "\n",
    "results = results.append({'Tool' : 'iPHoP_bestpred', 'Dataset' : 'NahantCollection', 'Taxa_lvl' : 'Family', 'Correct' : correct, 'Wrong': wrong, 'Unknown': unknown}, ignore_index=True)\n"
   ]
  },
  {
   "cell_type": "code",
   "execution_count": null,
   "metadata": {},
   "outputs": [],
   "source": []
  },
  {
   "cell_type": "markdown",
   "metadata": {},
   "source": [
    "##### Order level"
   ]
  },
  {
   "cell_type": "code",
   "execution_count": 87,
   "metadata": {},
   "outputs": [
    {
     "data": {
      "text/plain": [
       "Enterobacterales    192\n",
       "                      1\n",
       "Name: Order, dtype: int64"
      ]
     },
     "execution_count": 87,
     "metadata": {},
     "output_type": "execute_result"
    }
   ],
   "source": [
    "iPHoP_NahantCollection_best_preds['Order'].value_counts()"
   ]
  },
  {
   "cell_type": "code",
   "execution_count": 88,
   "metadata": {},
   "outputs": [
    {
     "name": "stderr",
     "output_type": "stream",
     "text": [
      "/var/folders/yy/x1x_rtqj13l_9jplp1l2hxgw0000gn/T/ipykernel_37643/1356318104.py:6: FutureWarning: The frame.append method is deprecated and will be removed from pandas in a future version. Use pandas.concat instead.\n",
      "  results = results.append({'Tool' : 'iPHoP_bestpred', 'Dataset' : 'NahantCollection', 'Taxa_lvl' : 'Order', 'Correct' : correct, 'Wrong': wrong, 'Unknown': unknown}, ignore_index=True)\n",
      "/var/folders/yy/x1x_rtqj13l_9jplp1l2hxgw0000gn/T/ipykernel_37643/1356318104.py:7: FutureWarning: The frame.append method is deprecated and will be removed from pandas in a future version. Use pandas.concat instead.\n",
      "  results = results.append({'Tool' : 'iPHoP_bestpred', 'Dataset' : 'NahantCollection', 'Taxa_lvl' : 'Class', 'Correct' : correct, 'Wrong': wrong, 'Unknown': unknown}, ignore_index=True)\n",
      "/var/folders/yy/x1x_rtqj13l_9jplp1l2hxgw0000gn/T/ipykernel_37643/1356318104.py:8: FutureWarning: The frame.append method is deprecated and will be removed from pandas in a future version. Use pandas.concat instead.\n",
      "  results = results.append({'Tool' : 'iPHoP_bestpred', 'Dataset' : 'NahantCollection', 'Taxa_lvl' : 'Phylum', 'Correct' : correct, 'Wrong': wrong, 'Unknown': unknown}, ignore_index=True)\n"
     ]
    }
   ],
   "source": [
    "correct = 173\n",
    "wrong = 0\n",
    "unknown = 0\n",
    "\n",
    "\n",
    "results = results.append({'Tool' : 'iPHoP_bestpred', 'Dataset' : 'NahantCollection', 'Taxa_lvl' : 'Order', 'Correct' : correct, 'Wrong': wrong, 'Unknown': unknown}, ignore_index=True)\n",
    "results = results.append({'Tool' : 'iPHoP_bestpred', 'Dataset' : 'NahantCollection', 'Taxa_lvl' : 'Class', 'Correct' : correct, 'Wrong': wrong, 'Unknown': unknown}, ignore_index=True)\n",
    "results = results.append({'Tool' : 'iPHoP_bestpred', 'Dataset' : 'NahantCollection', 'Taxa_lvl' : 'Phylum', 'Correct' : correct, 'Wrong': wrong, 'Unknown': unknown}, ignore_index=True)\n"
   ]
  },
  {
   "cell_type": "markdown",
   "metadata": {
    "collapsed": false,
    "pycharm": {
     "name": "#%% md\n"
    }
   },
   "source": [
    "## Plotting the results!\n",
    "\n",
    "Adding a couple new columns to the results, such as the accuracy and the percent unknown.\n",
    "\n",
    "Also saving the results to analyze and plot in R since I am more comfortable with that language."
   ]
  },
  {
   "cell_type": "code",
   "execution_count": 89,
   "metadata": {
    "collapsed": false,
    "pycharm": {
     "name": "#%%\n"
    }
   },
   "outputs": [
    {
     "data": {
      "text/html": [
       "<div>\n",
       "<style scoped>\n",
       "    .dataframe tbody tr th:only-of-type {\n",
       "        vertical-align: middle;\n",
       "    }\n",
       "\n",
       "    .dataframe tbody tr th {\n",
       "        vertical-align: top;\n",
       "    }\n",
       "\n",
       "    .dataframe thead th {\n",
       "        text-align: right;\n",
       "    }\n",
       "</style>\n",
       "<table border=\"1\" class=\"dataframe\">\n",
       "  <thead>\n",
       "    <tr style=\"text-align: right;\">\n",
       "      <th></th>\n",
       "      <th>Tool</th>\n",
       "      <th>Dataset</th>\n",
       "      <th>Taxa_lvl</th>\n",
       "      <th>Correct</th>\n",
       "      <th>Wrong</th>\n",
       "      <th>Unknown</th>\n",
       "      <th>perc_accuracy</th>\n",
       "      <th>perc_unknown</th>\n",
       "    </tr>\n",
       "  </thead>\n",
       "  <tbody>\n",
       "    <tr>\n",
       "      <th>0</th>\n",
       "      <td>VHMnet</td>\n",
       "      <td>StaphStudy</td>\n",
       "      <td>Species</td>\n",
       "      <td>29</td>\n",
       "      <td>9</td>\n",
       "      <td>1</td>\n",
       "      <td>0.74359</td>\n",
       "      <td>0.025641</td>\n",
       "    </tr>\n",
       "    <tr>\n",
       "      <th>1</th>\n",
       "      <td>VHMnet</td>\n",
       "      <td>StaphStudy</td>\n",
       "      <td>Genus</td>\n",
       "      <td>38</td>\n",
       "      <td>0</td>\n",
       "      <td>1</td>\n",
       "      <td>0.974359</td>\n",
       "      <td>0.025641</td>\n",
       "    </tr>\n",
       "    <tr>\n",
       "      <th>2</th>\n",
       "      <td>VHMnet</td>\n",
       "      <td>StaphStudy</td>\n",
       "      <td>Family</td>\n",
       "      <td>38</td>\n",
       "      <td>0</td>\n",
       "      <td>1</td>\n",
       "      <td>0.974359</td>\n",
       "      <td>0.025641</td>\n",
       "    </tr>\n",
       "    <tr>\n",
       "      <th>3</th>\n",
       "      <td>VHMnet</td>\n",
       "      <td>StaphStudy</td>\n",
       "      <td>Order</td>\n",
       "      <td>38</td>\n",
       "      <td>0</td>\n",
       "      <td>1</td>\n",
       "      <td>0.974359</td>\n",
       "      <td>0.025641</td>\n",
       "    </tr>\n",
       "    <tr>\n",
       "      <th>4</th>\n",
       "      <td>VHMnet</td>\n",
       "      <td>StaphStudy</td>\n",
       "      <td>Class</td>\n",
       "      <td>39</td>\n",
       "      <td>0</td>\n",
       "      <td>0</td>\n",
       "      <td>1.0</td>\n",
       "      <td>0.0</td>\n",
       "    </tr>\n",
       "    <tr>\n",
       "      <th>...</th>\n",
       "      <td>...</td>\n",
       "      <td>...</td>\n",
       "      <td>...</td>\n",
       "      <td>...</td>\n",
       "      <td>...</td>\n",
       "      <td>...</td>\n",
       "      <td>...</td>\n",
       "      <td>...</td>\n",
       "    </tr>\n",
       "    <tr>\n",
       "      <th>65</th>\n",
       "      <td>iPHoP_bestpred</td>\n",
       "      <td>NahantCollection</td>\n",
       "      <td>Genus</td>\n",
       "      <td>154</td>\n",
       "      <td>13</td>\n",
       "      <td>6</td>\n",
       "      <td>0.890173</td>\n",
       "      <td>0.034682</td>\n",
       "    </tr>\n",
       "    <tr>\n",
       "      <th>66</th>\n",
       "      <td>iPHoP_bestpred</td>\n",
       "      <td>NahantCollection</td>\n",
       "      <td>Family</td>\n",
       "      <td>160</td>\n",
       "      <td>9</td>\n",
       "      <td>4</td>\n",
       "      <td>0.924855</td>\n",
       "      <td>0.023121</td>\n",
       "    </tr>\n",
       "    <tr>\n",
       "      <th>67</th>\n",
       "      <td>iPHoP_bestpred</td>\n",
       "      <td>NahantCollection</td>\n",
       "      <td>Order</td>\n",
       "      <td>173</td>\n",
       "      <td>0</td>\n",
       "      <td>0</td>\n",
       "      <td>1.0</td>\n",
       "      <td>0.0</td>\n",
       "    </tr>\n",
       "    <tr>\n",
       "      <th>68</th>\n",
       "      <td>iPHoP_bestpred</td>\n",
       "      <td>NahantCollection</td>\n",
       "      <td>Class</td>\n",
       "      <td>173</td>\n",
       "      <td>0</td>\n",
       "      <td>0</td>\n",
       "      <td>1.0</td>\n",
       "      <td>0.0</td>\n",
       "    </tr>\n",
       "    <tr>\n",
       "      <th>69</th>\n",
       "      <td>iPHoP_bestpred</td>\n",
       "      <td>NahantCollection</td>\n",
       "      <td>Phylum</td>\n",
       "      <td>173</td>\n",
       "      <td>0</td>\n",
       "      <td>0</td>\n",
       "      <td>1.0</td>\n",
       "      <td>0.0</td>\n",
       "    </tr>\n",
       "  </tbody>\n",
       "</table>\n",
       "<p>70 rows × 8 columns</p>\n",
       "</div>"
      ],
      "text/plain": [
       "              Tool           Dataset Taxa_lvl Correct Wrong Unknown  \\\n",
       "0           VHMnet        StaphStudy  Species      29     9       1   \n",
       "1           VHMnet        StaphStudy    Genus      38     0       1   \n",
       "2           VHMnet        StaphStudy   Family      38     0       1   \n",
       "3           VHMnet        StaphStudy    Order      38     0       1   \n",
       "4           VHMnet        StaphStudy    Class      39     0       0   \n",
       "..             ...               ...      ...     ...   ...     ...   \n",
       "65  iPHoP_bestpred  NahantCollection    Genus     154    13       6   \n",
       "66  iPHoP_bestpred  NahantCollection   Family     160     9       4   \n",
       "67  iPHoP_bestpred  NahantCollection    Order     173     0       0   \n",
       "68  iPHoP_bestpred  NahantCollection    Class     173     0       0   \n",
       "69  iPHoP_bestpred  NahantCollection   Phylum     173     0       0   \n",
       "\n",
       "   perc_accuracy perc_unknown  \n",
       "0        0.74359     0.025641  \n",
       "1       0.974359     0.025641  \n",
       "2       0.974359     0.025641  \n",
       "3       0.974359     0.025641  \n",
       "4            1.0          0.0  \n",
       "..           ...          ...  \n",
       "65      0.890173     0.034682  \n",
       "66      0.924855     0.023121  \n",
       "67           1.0          0.0  \n",
       "68           1.0          0.0  \n",
       "69           1.0          0.0  \n",
       "\n",
       "[70 rows x 8 columns]"
      ]
     },
     "execution_count": 89,
     "metadata": {},
     "output_type": "execute_result"
    }
   ],
   "source": [
    "results['perc_accuracy'] = results['Correct'] /  (results['Correct'] + results['Wrong'] + results['Unknown'])\n",
    "results['perc_unknown']  = results['Unknown'] / (results['Correct'] + results['Wrong'] + results['Unknown'])\n",
    "\n",
    "# also export the results\n",
    "results.to_csv('../data/output/modelsaccuracy_results.tsv', sep='\\t', index=False)\n",
    "\n",
    "results"
   ]
  },
  {
   "cell_type": "code",
   "execution_count": 90,
   "metadata": {
    "collapsed": false,
    "pycharm": {
     "name": "#%%\n"
    }
   },
   "outputs": [
    {
     "data": {
      "image/png": "[encoded data removed]",
      "text/plain": [
       "<Figure size 432x288 with 1 Axes>"
      ]
     },
     "metadata": {
      "needs_background": "light"
     },
     "output_type": "display_data"
    }
   ],
   "source": [
    "sns.set(rc={'figure.figsize':(15,10)})\n",
    "g = sns.barplot(data=results,\n",
    "                x='Taxa_lvl', y='Correct', hue='Tool',\n",
    "                ci = None)"
   ]
  },
  {
   "cell_type": "code",
   "execution_count": 91,
   "metadata": {
    "collapsed": false,
    "pycharm": {
     "name": "#%%\n"
    }
   },
   "outputs": [
    {
     "data": {
      "image/png": "[encoded data removed]",
      "text/plain": [
       "<Figure size 1080x720 with 1 Axes>"
      ]
     },
     "metadata": {},
     "output_type": "display_data"
    }
   ],
   "source": [
    "sns.set(rc={'figure.figsize':(15,10)})\n",
    "g = sns.barplot(data=results,\n",
    "                x='Taxa_lvl', y='perc_accuracy', hue='Tool',\n",
    "                ci = None)"
   ]
  },
  {
   "cell_type": "code",
   "execution_count": 92,
   "metadata": {
    "collapsed": false,
    "pycharm": {
     "name": "#%%\n"
    }
   },
   "outputs": [
    {
     "data": {
      "image/png": "[encoded data removed]",
      "text/plain": [
       "<Figure size 1080x720 with 1 Axes>"
      ]
     },
     "metadata": {},
     "output_type": "display_data"
    }
   ],
   "source": [
    "sns.set(rc={'figure.figsize':(15,10)})\n",
    "g = sns.barplot(data=results,\n",
    "                x='Tool', y='Correct', hue='Dataset',\n",
    "                ci = None)"
   ]
  },
  {
   "cell_type": "code",
   "execution_count": 93,
   "metadata": {
    "collapsed": false,
    "pycharm": {
     "name": "#%%\n"
    }
   },
   "outputs": [
    {
     "data": {
      "image/png": "[encoded data removed]",
      "text/plain": [
       "<Figure size 1080x720 with 1 Axes>"
      ]
     },
     "metadata": {},
     "output_type": "display_data"
    }
   ],
   "source": [
    "sns.set(rc={'figure.figsize':(15,10)})\n",
    "g = sns.barplot(data=results[results['Tool'] == 'VHMnet'],\n",
    "                x='Dataset', y='perc_accuracy', hue='Taxa_lvl',\n",
    "                ci = None)"
   ]
  }
 ],
 "metadata": {
  "kernelspec": {
   "display_name": "Python 3.10.4 ('HostRange')",
   "language": "python",
   "name": "python3"
  },
  "language_info": {
   "codemirror_mode": {
    "name": "ipython",
    "version": 3
   },
   "file_extension": ".py",
   "mimetype": "text/x-python",
   "name": "python",
   "nbconvert_exporter": "python",
   "pygments_lexer": "ipython3",
   "version": "3.10.4"
  },
  "vscode": {
   "interpreter": {
    "hash": "ac3782f64e42e2ed2c7a5c6ad0e171638978992b65ec2d90108602644db05ad0"
   }
  }
 },
 "nbformat": 4,
 "nbformat_minor": 0
}
